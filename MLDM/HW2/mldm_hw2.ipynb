{
  "nbformat": 4,
  "nbformat_minor": 0,
  "metadata": {
    "colab": {
      "name": "mldm_hw2.ipynb",
      "provenance": [],
      "collapsed_sections": []
    },
    "kernelspec": {
      "display_name": "Python 3",
      "language": "python",
      "name": "python3"
    },
    "language_info": {
      "codemirror_mode": {
        "name": "ipython",
        "version": 3
      },
      "file_extension": ".py",
      "mimetype": "text/x-python",
      "name": "python",
      "nbconvert_exporter": "python",
      "pygments_lexer": "ipython3",
      "version": "3.8.5"
    }
  },
  "cells": [
    {
      "cell_type": "markdown",
      "metadata": {
        "id": "pdJqoIlibHYi"
      },
      "source": [
        "#### Linear Regression and Logistic Regression assigments are stacked, so the deadline for this homework is 10.10.21"
      ]
    },
    {
      "cell_type": "code",
      "metadata": {
        "id": "OoRenk6WqY4R"
      },
      "source": [
        "import numpy as np\n",
        "import matplotlib.pyplot as plt"
      ],
      "execution_count": 1,
      "outputs": []
    },
    {
      "cell_type": "markdown",
      "metadata": {
        "id": "s8renktssa3B"
      },
      "source": [
        "## Task 1 (3 points)"
      ]
    },
    {
      "cell_type": "markdown",
      "metadata": {
        "id": "CT2JoHS6qwO3"
      },
      "source": [
        "Consider the following toy dataset:"
      ]
    },
    {
      "cell_type": "code",
      "metadata": {
        "id": "Iw0VSmXsqjt9",
        "colab": {
          "base_uri": "https://localhost:8080/",
          "height": 265
        },
        "outputId": "53ce3cac-8326-4ae1-bc8c-00f08126918d"
      },
      "source": [
        "true_function = lambda x: 3.25 * x - 1.47\n",
        "noize_function = lambda x: (\n",
        "    np.random.normal(size=len(x)) * 4. +\n",
        "    np.where(\n",
        "        x < 15,\n",
        "        0.,\n",
        "        -60 + np.random.normal(size=len(x)) * 10\n",
        "    ) * (np.random.uniform(size=len(x)) < 0.4).astype(int)\n",
        ")\n",
        "limits = (-4., 20.)\n",
        "\n",
        "def generate_dataset(N=300):\n",
        "  x = np.random.uniform(*limits, size=N)\n",
        "  y = true_function(x) + noize_function(x)\n",
        "\n",
        "  return x[:,None], y\n",
        "\n",
        "X, y = generate_dataset()\n",
        "\n",
        "x = np.linspace(*limits, 101)\n",
        "plt.plot(x, true_function(x), c='black', label='True dependence')\n",
        "plt.scatter(X, y, s=10, label='Data with noise and outliers')\n",
        "plt.legend();"
      ],
      "execution_count": 2,
      "outputs": [
        {
          "output_type": "display_data",
          "data": {
            "image/png": "[encoded data removed]",
            "text/plain": [
              "<Figure size 432x288 with 1 Axes>"
            ]
          },
          "metadata": {
            "needs_background": "light"
          }
        }
      ]
    },
    {
      "cell_type": "markdown",
      "metadata": {
        "id": "Hb2ZSiiiscQy"
      },
      "source": [
        "Implement a linear model $\\hat y(x|w) = w_1\\cdot x + w_0$ with MAE loss:\n",
        "$$\\text{MAE}(w) = \\frac{1}{N}\\sum_{i=1}^N\\left|y_i - \\hat y(x_i|w)\\right|,$$\n",
        "using gradient descent optimization in `numpy`.\n",
        "\n",
        "*Hint: introduce a constant feature to account for the bias term to make the formulas simpler.*\n",
        "\n",
        "Plot the learning curve and the final fit. Also, fit the same data with `sklearn`'s `LinearRegression`, and compare the two fits on the same plot. What do you observe? Write a short comment."
      ]
    },
    {
      "cell_type": "code",
      "metadata": {
        "id": "8dUH95L7sETn",
        "colab": {
          "base_uri": "https://localhost:8080/",
          "height": 281
        },
        "outputId": "69dbd005-716e-4da9-c85f-829785362a99"
      },
      "source": [
        "def hypothesis_function(x, theta_0, theta_1):\n",
        "    y_pred = theta_0 + theta_1 * x\n",
        "    return y_pred\n",
        "\n",
        "def loss_function(x, y, theta_0, theta_1):\n",
        "    loss = (hypothesis_function(x, theta_0, theta_1) - y) ** 2\n",
        "    return loss\n",
        "\n",
        "def cost_function(x, y, theta_0, theta_1):\n",
        "    cost = 0\n",
        "    m = len(x)\n",
        "    for i in range(m):\n",
        "        cost += loss_function(x[i], y[i], theta_0, theta_1)\n",
        "    \n",
        "    return cost / (1 * m)\n",
        "\n",
        "def step_gradient(x, y, curr_theta_0, curr_theta_1, learning_rate):\n",
        "    dTheta_0 = 0\n",
        "    dTheta_1 = 0\n",
        "    m = len(x)\n",
        "    for i in range(m):\n",
        "        dTheta_0 += (1/m) * (hypothesis_function(x[i], curr_theta_0, curr_theta_1) - y[i])\n",
        "        dTheta_1 += (1/m) * x[i] * (hypothesis_function(x[i], curr_theta_0, curr_theta_1) - y[i])\n",
        "        \n",
        "    curr_theta_0 -= learning_rate * dTheta_0\n",
        "    curr_theta_1 -= learning_rate * dTheta_1\n",
        "    \n",
        "    return curr_theta_0, curr_theta_1\n",
        "\n",
        "\n",
        "def gradient_descent(x, y, theta_0, theta_1, learning_rate, num_iter):\n",
        "    cost, theta_0_container, theta_1_container = [], [], []\n",
        "    for i in range(num_iter):\n",
        "        theta_0, theta_1 = step_gradient(x, y, theta_0, theta_1, learning_rate)\n",
        "        cost.append(cost_function(x, y, theta_0, theta_1))\n",
        "        theta_0_container.append(theta_0)\n",
        "        theta_1_container.append(theta_1)\n",
        "    \n",
        "    return theta_0, theta_1, cost, theta_0_container, theta_1_container\n",
        "\n",
        "\n",
        "def LinearRegression():\n",
        "    theta_0 = np.random.random()\n",
        "    theta_1 = np.random.random()\n",
        "    num_iterations = 10000\n",
        "    learning_rate = 0.0001\n",
        "    theta_0, theta_1, cost, theta_0_container, theta_1_container = gradient_descent(X, \n",
        "                                                                                    y, \n",
        "                                                                                    theta_0, \n",
        "                                                                                    theta_1, \n",
        "                                                                                    learning_rate,\n",
        "                                                                                    num_iterations)\n",
        "    return theta_0, theta_1, cost, theta_0_container, theta_1_container\n",
        "\n",
        "\n",
        "theta_0, theta_1, cost, theta_0_container, theta_1_container = LinearRegression()\n",
        "\n",
        "lis = []\n",
        "for i in X:\n",
        "    lis.append(hypothesis_function(i, theta_0, theta_1))\n",
        "\n",
        "plt.plot(X, lis)\n",
        "plt.scatter(X, y)"
      ],
      "execution_count": 4,
      "outputs": [
        {
          "output_type": "execute_result",
          "data": {
            "text/plain": [
              "<matplotlib.collections.PathCollection at 0x7f3c4476cb90>"
            ]
          },
          "metadata": {},
          "execution_count": 4
        },
        {
          "output_type": "display_data",
          "data": {
            "image/png": "[encoded data removed]",
            "text/plain": [
              "<Figure size 432x288 with 1 Axes>"
            ]
          },
          "metadata": {
            "needs_background": "light"
          }
        }
      ]
    },
    {
      "cell_type": "markdown",
      "metadata": {
        "id": "jsk47s-JzFMY"
      },
      "source": [
        "## Task 2 (2 points + 1 bonus point + 1 super-bonus point)"
      ]
    },
    {
      "cell_type": "markdown",
      "metadata": {
        "id": "_72sYvZSzO4B"
      },
      "source": [
        "(Titanic data again)\n",
        "\n",
        "Build a model with `sklearn`'s `LogisticRegression` to get the accuracy of at least 0.80 (0.82 for the bonus point, 0.85 for the super-bonus point) on the test set.\n",
        "\n",
        "Some (optional) suggestions:\n",
        "- Add new features (e.g. missing value indicator columns)\n",
        "- Fill missing values\n",
        "- Encode categorical features (e.g. one-hot encoding)\n",
        "- Scale the features (e.g. with standard or robust scaler)\n",
        "- Think of other ways of preprocessing the features (e.g. `Fare` $\\to$ `log(Fare)`)\n",
        "- Try adding polynomial features\n",
        "\n"
      ]
    },
    {
      "cell_type": "code",
      "metadata": {
        "id": "4CWHxPY62I-D",
        "colab": {
          "base_uri": "https://localhost:8080/"
        },
        "outputId": "9dae2ea1-58b3-4439-825e-e387ba4f8b2f"
      },
      "source": [
        "!wget https://raw.githubusercontent.com/HSE-LAMBDA/MLDM-2021/main/01-intro/train.csv"
      ],
      "execution_count": 5,
      "outputs": [
        {
          "output_type": "stream",
          "name": "stdout",
          "text": [
            "--2021-10-11 13:54:20--  https://raw.githubusercontent.com/HSE-LAMBDA/MLDM-2021/main/01-intro/train.csv\n",
            "Resolving raw.githubusercontent.com (raw.githubusercontent.com)... 185.199.108.133, 185.199.109.133, 185.199.110.133, ...\n",
            "Connecting to raw.githubusercontent.com (raw.githubusercontent.com)|185.199.108.133|:443... connected.\n",
            "HTTP request sent, awaiting response... 200 OK\n",
            "Length: 60302 (59K) [text/plain]\n",
            "Saving to: ‘train.csv’\n",
            "\n",
            "\rtrain.csv             0%[                    ]       0  --.-KB/s               \rtrain.csv           100%[===================>]  58.89K  --.-KB/s    in 0.009s  \n",
            "\n",
            "2021-10-11 13:54:20 (6.51 MB/s) - ‘train.csv’ saved [60302/60302]\n",
            "\n"
          ]
        }
      ]
    },
    {
      "cell_type": "code",
      "metadata": {
        "id": "G36oVo3RJXVc",
        "colab": {
          "base_uri": "https://localhost:8080/",
          "height": 233
        },
        "outputId": "6c9a75e7-7ce0-4ef5-bbe4-099c62b54537"
      },
      "source": [
        "import pandas as pd\n",
        "data = pd.read_csv(\"train.csv\", index_col='PassengerId')\n",
        "data.head()"
      ],
      "execution_count": 6,
      "outputs": [
        {
          "output_type": "execute_result",
          "data": {
            "text/html": [
              "<div>\n",
              "<style scoped>\n",
              "    .dataframe tbody tr th:only-of-type {\n",
              "        vertical-align: middle;\n",
              "    }\n",
              "\n",
              "    .dataframe tbody tr th {\n",
              "        vertical-align: top;\n",
              "    }\n",
              "\n",
              "    .dataframe thead th {\n",
              "        text-align: right;\n",
              "    }\n",
              "</style>\n",
              "<table border=\"1\" class=\"dataframe\">\n",
              "  <thead>\n",
              "    <tr style=\"text-align: right;\">\n",
              "      <th></th>\n",
              "      <th>Survived</th>\n",
              "      <th>Pclass</th>\n",
              "      <th>Name</th>\n",
              "      <th>Sex</th>\n",
              "      <th>Age</th>\n",
              "      <th>SibSp</th>\n",
              "      <th>Parch</th>\n",
              "      <th>Ticket</th>\n",
              "      <th>Fare</th>\n",
              "      <th>Cabin</th>\n",
              "      <th>Embarked</th>\n",
              "    </tr>\n",
              "    <tr>\n",
              "      <th>PassengerId</th>\n",
              "      <th></th>\n",
              "      <th></th>\n",
              "      <th></th>\n",
              "      <th></th>\n",
              "      <th></th>\n",
              "      <th></th>\n",
              "      <th></th>\n",
              "      <th></th>\n",
              "      <th></th>\n",
              "      <th></th>\n",
              "      <th></th>\n",
              "    </tr>\n",
              "  </thead>\n",
              "  <tbody>\n",
              "    <tr>\n",
              "      <th>1</th>\n",
              "      <td>0</td>\n",
              "      <td>3</td>\n",
              "      <td>Braund, Mr. Owen Harris</td>\n",
              "      <td>male</td>\n",
              "      <td>22.0</td>\n",
              "      <td>1</td>\n",
              "      <td>0</td>\n",
              "      <td>A/5 21171</td>\n",
              "      <td>7.2500</td>\n",
              "      <td>NaN</td>\n",
              "      <td>S</td>\n",
              "    </tr>\n",
              "    <tr>\n",
              "      <th>2</th>\n",
              "      <td>1</td>\n",
              "      <td>1</td>\n",
              "      <td>Cumings, Mrs. John Bradley (Florence Briggs Th...</td>\n",
              "      <td>female</td>\n",
              "      <td>38.0</td>\n",
              "      <td>1</td>\n",
              "      <td>0</td>\n",
              "      <td>PC 17599</td>\n",
              "      <td>71.2833</td>\n",
              "      <td>C85</td>\n",
              "      <td>C</td>\n",
              "    </tr>\n",
              "    <tr>\n",
              "      <th>3</th>\n",
              "      <td>1</td>\n",
              "      <td>3</td>\n",
              "      <td>Heikkinen, Miss. Laina</td>\n",
              "      <td>female</td>\n",
              "      <td>26.0</td>\n",
              "      <td>0</td>\n",
              "      <td>0</td>\n",
              "      <td>STON/O2. 3101282</td>\n",
              "      <td>7.9250</td>\n",
              "      <td>NaN</td>\n",
              "      <td>S</td>\n",
              "    </tr>\n",
              "    <tr>\n",
              "      <th>4</th>\n",
              "      <td>1</td>\n",
              "      <td>1</td>\n",
              "      <td>Futrelle, Mrs. Jacques Heath (Lily May Peel)</td>\n",
              "      <td>female</td>\n",
              "      <td>35.0</td>\n",
              "      <td>1</td>\n",
              "      <td>0</td>\n",
              "      <td>113803</td>\n",
              "      <td>53.1000</td>\n",
              "      <td>C123</td>\n",
              "      <td>S</td>\n",
              "    </tr>\n",
              "    <tr>\n",
              "      <th>5</th>\n",
              "      <td>0</td>\n",
              "      <td>3</td>\n",
              "      <td>Allen, Mr. William Henry</td>\n",
              "      <td>male</td>\n",
              "      <td>35.0</td>\n",
              "      <td>0</td>\n",
              "      <td>0</td>\n",
              "      <td>373450</td>\n",
              "      <td>8.0500</td>\n",
              "      <td>NaN</td>\n",
              "      <td>S</td>\n",
              "    </tr>\n",
              "  </tbody>\n",
              "</table>\n",
              "</div>"
            ],
            "text/plain": [
              "             Survived  Pclass  ... Cabin Embarked\n",
              "PassengerId                    ...               \n",
              "1                   0       3  ...   NaN        S\n",
              "2                   1       1  ...   C85        C\n",
              "3                   1       3  ...   NaN        S\n",
              "4                   1       1  ...  C123        S\n",
              "5                   0       3  ...   NaN        S\n",
              "\n",
              "[5 rows x 11 columns]"
            ]
          },
          "metadata": {},
          "execution_count": 6
        }
      ]
    },
    {
      "cell_type": "markdown",
      "metadata": {
        "id": "EDHw3sHgJXVj"
      },
      "source": [
        "#### About the data\n",
        "Here's some of the columns\n",
        "* Name - a string with person's full name\n",
        "* Survived - 1 if a person survived the shipwreck, 0 otherwise.\n",
        "* Pclass - passenger class. Pclass == 3 is cheap'n'cheerful, Pclass == 1 is for moneybags.\n",
        "* Sex - a person's gender\n",
        "* Age - age in years, if available\n",
        "* SibSp - number of siblings on a ship\n",
        "* Parch - number of parents on a ship\n",
        "* Fare - ticket cost\n",
        "* Embarked - port where the passenger embarked\n",
        " * C = Cherbourg; Q = Queenstown; S = Southampton"
      ]
    },
    {
      "cell_type": "code",
      "metadata": {
        "id": "xhb45c3NzHAU",
        "colab": {
          "base_uri": "https://localhost:8080/"
        },
        "outputId": "75910b96-160a-4c02-971d-9a8b951f3113"
      },
      "source": [
        "from sklearn.linear_model import LogisticRegression\n",
        "from sklearn.pipeline import make_pipeline\n",
        "from sklearn.compose import make_column_transformer\n",
        "from sklearn.preprocessing import StandardScaler, RobustScaler, PolynomialFeatures, OneHotEncoder\n",
        "from sklearn.metrics import accuracy_score\n",
        "from sklearn.model_selection import train_test_split\n",
        "\n",
        "def feature_selection_and_preprocessing(dataset):\n",
        "  # <YOUR CODE>\n",
        "  # E.g.:\n",
        "    features = dataset[[\"SibSp\", \"Parch\", \"Sex\", \"Pclass\", \"Age\"]].copy()\n",
        "    features[\"Age\"] = dataset.Age.fillna(dataset.Age.median())\n",
        "    features['Embarked'] = data.Embarked.fillna('unknown')\n",
        "    return features\n",
        "\n",
        "model = make_pipeline(\n",
        "    make_column_transformer(\n",
        "        (OneHotEncoder(sparse=False), ['Embarked', 'Sex']),\n",
        "        remainder='passthrough'\n",
        "    ),\n",
        "    LogisticRegression()\n",
        ")\n",
        "\n",
        "\n",
        "# Validation code (do not touch)\n",
        "data = pd.read_csv(\"train.csv\", index_col='PassengerId')\n",
        "data_train, data_test = train_test_split(data, test_size=200, random_state=42)\n",
        "\n",
        "model.fit(\n",
        "    feature_selection_and_preprocessing(\n",
        "        data_train.drop('Survived', axis=1)\n",
        "    ),\n",
        "    data_train['Survived']\n",
        ")\n",
        "\n",
        "train_predictions = model.predict(\n",
        "    feature_selection_and_preprocessing(\n",
        "        data_train.drop('Survived', axis=1)\n",
        "    )\n",
        ")\n",
        "\n",
        "test_predictions = model.predict(\n",
        "    feature_selection_and_preprocessing(\n",
        "        data_test.drop('Survived', axis=1)\n",
        "    )\n",
        ")\n",
        "\n",
        "print(\"Train accuracy:\", accuracy_score(\n",
        "    data_train['Survived'],\n",
        "    train_predictions\n",
        "))\n",
        "print(\"Test accuracy:\", accuracy_score(\n",
        "    data_test['Survived'],\n",
        "    test_predictions\n",
        "))"
      ],
      "execution_count": 8,
      "outputs": [
        {
          "output_type": "stream",
          "name": "stdout",
          "text": [
            "Train accuracy: 0.7973950795947902\n",
            "Test accuracy: 0.815\n"
          ]
        },
        {
          "output_type": "stream",
          "name": "stderr",
          "text": [
            "/usr/local/lib/python3.7/dist-packages/sklearn/linear_model/_logistic.py:940: ConvergenceWarning: lbfgs failed to converge (status=1):\n",
            "STOP: TOTAL NO. of ITERATIONS REACHED LIMIT.\n",
            "\n",
            "Increase the number of iterations (max_iter) or scale the data as shown in:\n",
            "    https://scikit-learn.org/stable/modules/preprocessing.html\n",
            "Please also refer to the documentation for alternative solver options:\n",
            "    https://scikit-learn.org/stable/modules/linear_model.html#logistic-regression\n",
            "  extra_warning_msg=_LOGISTIC_SOLVER_CONVERGENCE_MSG)\n"
          ]
        }
      ]
    },
    {
      "cell_type": "code",
      "metadata": {
        "id": "4sbGoWAgogZQ"
      },
      "source": [
        ""
      ],
      "execution_count": null,
      "outputs": []
    }
  ]
}