{
 "cells": [
  {
   "cell_type": "markdown",
   "metadata": {
    "colab_type": "text",
    "id": "W7b8yd6V_jB4"
   },
   "source": [
    "# Homework: Spectral clustering\n"
   ]
  },
  {
   "cell_type": "markdown",
   "metadata": {
    "colab_type": "text",
    "id": "8ZoDISAY_jB5"
   },
   "source": [
    "<span style=\"color: red; font-size: 14pt\">Deadline: none</span>"
   ]
  },
  {
   "cell_type": "markdown",
   "metadata": {
    "colab_type": "text",
    "id": "AOuLEWCx_jB6"
   },
   "source": [
    "**Requirements**: \n",
    "\n",
    "- The report shoulbe in a file: ``MLDM2020-HSE-HW1-Spectral_<your_full_name>.ipynb``;\n",
    "- It should be sent dmitrii.ignatov@gmail.com and egurnovdima@gmail.com with the topic [MLDM2020-HSE-HW-Spectral]-<your_full_name>.\n",
    "\n"
   ]
  },
  {
   "cell_type": "code",
   "execution_count": 87,
   "metadata": {
    "colab": {},
    "colab_type": "code",
    "id": "zEjMle2E_jB7"
   },
   "outputs": [],
   "source": [
    "import numpy as np\n",
    "import pandas as pd\n",
    "import matplotlib.pyplot as plt\n",
    "\n",
    "%matplotlib inline"
   ]
  },
  {
   "cell_type": "markdown",
   "metadata": {
    "colab_type": "text",
    "id": "iMLklZJl_jB-"
   },
   "source": [
    "In this exercise we follow graph clustering example from David Gleich's tutorial: https://www.dropbox.com/s/w06niyzfe2r8y90/tutorial.pdf?dl=0."
   ]
  },
  {
   "cell_type": "markdown",
   "metadata": {
    "colab_type": "text",
    "id": "kxgoE3XV_jCA"
   },
   "source": [
    "### Part 1. Finding a partition (20%)\n",
    "Generate a graph repsresnted by its adjecency matrix that consists of two communities."
   ]
  },
  {
   "cell_type": "code",
   "execution_count": 88,
   "metadata": {
    "colab": {},
    "colab_type": "code",
    "id": "pFt1ZGPZ_jCA"
   },
   "outputs": [],
   "source": [
    "# the number of vertices\n",
    "# (each vertex is an individual actor, for example, a person with certain political views, e.g. republican or democrat\n",
    "\n",
    "n = 1000\n",
    "\n",
    "# an array of n vertices\n",
    "x = np.arange(n)\n",
    "\n",
    "# random permutations\n",
    "np.random.shuffle(x)\n",
    "\n",
    "# the size of the first group\n",
    "gs = 450\n",
    "\n",
    "# let us select gs group members to the first group\n",
    "group1 = x[:gs]\n",
    "\n",
    "# and n-gs representatives to the second one\n",
    "group2 = x[gs:]\n",
    "\n",
    "# the probability of connection within the first group\n",
    "p_group1 = 0.5\n",
    "\n",
    "# the probability of connection within the second group\n",
    "p_group2 = 0.4\n",
    "\n",
    "# intergroup connections\n",
    "p_between = 0.1\n",
    "\n",
    "# initialistion of the adjacency matrix nxn\n",
    "A = np.zeros([n, n])"
   ]
  },
  {
   "cell_type": "code",
   "execution_count": 89,
   "metadata": {},
   "outputs": [
    {
     "data": {
      "text/plain": [
       "array([[0., 0., 0., ..., 0., 0., 0.],\n",
       "       [0., 0., 0., ..., 0., 0., 0.],\n",
       "       [0., 0., 0., ..., 0., 0., 0.],\n",
       "       ...,\n",
       "       [0., 0., 0., ..., 0., 0., 0.],\n",
       "       [0., 0., 0., ..., 0., 0., 0.],\n",
       "       [0., 0., 0., ..., 0., 0., 0.]])"
      ]
     },
     "execution_count": 89,
     "metadata": {},
     "output_type": "execute_result"
    }
   ],
   "source": [
    "A"
   ]
  },
  {
   "cell_type": "code",
   "execution_count": 90,
   "metadata": {
    "colab": {},
    "colab_type": "code",
    "id": "vDRbyot__jCE"
   },
   "outputs": [],
   "source": [
    "assert A.shape == (1000, 1000)"
   ]
  },
  {
   "cell_type": "code",
   "execution_count": null,
   "metadata": {},
   "outputs": [],
   "source": []
  },
  {
   "cell_type": "code",
   "execution_count": 91,
   "metadata": {
    "colab": {},
    "colab_type": "code",
    "id": "ltxWNpEY_jCI",
    "outputId": "be8d6b26-065e-46d0-8478-094710aca20f"
   },
   "outputs": [
    {
     "data": {
      "text/plain": [
       "(450, 450)"
      ]
     },
     "execution_count": 91,
     "metadata": {},
     "output_type": "execute_result"
    }
   ],
   "source": [
    "# adjecency submatrix for the first group\n",
    "A[np.ix_(group1, group1)].shape"
   ]
  },
  {
   "cell_type": "code",
   "execution_count": 92,
   "metadata": {
    "colab": {},
    "colab_type": "code",
    "id": "BO9gouwc_jCN"
   },
   "outputs": [],
   "source": [
    "# generation of connections in the first group\n",
    "A[np.ix_(group1, group1)] = np.random.rand(gs, gs) < p_group1\n",
    "\n",
    "# generation of connections in the second group\n",
    "A[np.ix_(group2, group2)] = np.random.rand(n-gs, n-gs) < p_group2\n",
    "\n",
    "# genegation of intergroup connections\n",
    "A[np.ix_(group1, group2)] = np.random.rand(gs, n-gs) < p_between\n",
    "\n",
    "# we need a symmetric matrix for modeling \"friendship relationship\"\n",
    "# and cut the upper triangle matrix\n",
    "A = np.triu(A,1)\n",
    "\n",
    "\n",
    "# let us transpose it and add to the upper triangle matrix\n",
    "A = A + A.T"
   ]
  },
  {
   "cell_type": "code",
   "execution_count": 93,
   "metadata": {},
   "outputs": [
    {
     "data": {
      "image/png": "[encoded data removed]",
      "text/plain": [
       "<Figure size 432x288 with 1 Axes>"
      ]
     },
     "metadata": {
      "needs_background": "light"
     },
     "output_type": "display_data"
    }
   ],
   "source": [
    "# let us have a look (it seems, the structure is absent)\n",
    "plt.pcolormesh(A);"
   ]
  },
  {
   "cell_type": "code",
   "execution_count": 110,
   "metadata": {},
   "outputs": [
    {
     "data": {
      "text/plain": [
       "0.0"
      ]
     },
     "execution_count": 110,
     "metadata": {},
     "output_type": "execute_result"
    }
   ],
   "source": [
    "#checking the symmetry\n",
    "sum(sum(np.abs(A-A.T)))"
   ]
  },
  {
   "cell_type": "code",
   "execution_count": 112,
   "metadata": {},
   "outputs": [
    {
     "data": {
      "text/plain": [
       "0.0"
      ]
     },
     "execution_count": 112,
     "metadata": {},
     "output_type": "execute_result"
    }
   ],
   "source": [
    "#cheking the main diaoganl -- it should be empty\n",
    "sum(np.diag(A))"
   ]
  },
  {
   "cell_type": "markdown",
   "metadata": {
    "colab_type": "text",
    "id": "3y6BZjtw_jCT"
   },
   "source": [
    "Follow the hints from the tutorial. First, calculate the Laplacian matrix, L=D-A, find its second smallest eigenvector, sort it, and use the found indicies and restore the model structure as the two group of  \"friends\"."
   ]
  },
  {
   "cell_type": "code",
   "execution_count": 228,
   "metadata": {
    "colab": {},
    "colab_type": "code",
    "id": "SDSCmvdR_jCU"
   },
   "outputs": [],
   "source": [
    "D=np.diag(sum(A))"
   ]
  },
  {
   "cell_type": "code",
   "execution_count": 229,
   "metadata": {},
   "outputs": [],
   "source": [
    "L=D-A"
   ]
  },
  {
   "cell_type": "code",
   "execution_count": 230,
   "metadata": {},
   "outputs": [],
   "source": [
    "from scipy.sparse.linalg import eigsh #a better choice than numpy"
   ]
  },
  {
   "cell_type": "code",
   "execution_count": 196,
   "metadata": {},
   "outputs": [],
   "source": [
    "#W,V=np.linalg.eigh(L)"
   ]
  },
  {
   "cell_type": "code",
   "execution_count": 197,
   "metadata": {},
   "outputs": [],
   "source": [
    "W,V=eigsh(L,which='SA') #six (by default) eignvalues are sorted in desceding order (by which='SA')"
   ]
  },
  {
   "cell_type": "code",
   "execution_count": 231,
   "metadata": {},
   "outputs": [
    {
     "data": {
      "text/plain": [
       "(6,)"
      ]
     },
     "execution_count": 231,
     "metadata": {},
     "output_type": "execute_result"
    }
   ],
   "source": [
    "W.shape"
   ]
  },
  {
   "cell_type": "code",
   "execution_count": 234,
   "metadata": {},
   "outputs": [
    {
     "data": {
      "text/plain": [
       "(-1.4988715425951263e-14, 195.91421657192842)"
      ]
     },
     "execution_count": 234,
     "metadata": {},
     "output_type": "execute_result"
    }
   ],
   "source": [
    "min(W),max(W)"
   ]
  },
  {
   "cell_type": "code",
   "execution_count": 235,
   "metadata": {},
   "outputs": [
    {
     "data": {
      "text/plain": [
       "array([-1.49887154e-14,  4.53544813e+01,  1.92086843e+02,  1.93323305e+02,\n",
       "        1.95134585e+02,  1.95914217e+02])"
      ]
     },
     "execution_count": 235,
     "metadata": {},
     "output_type": "execute_result"
    }
   ],
   "source": [
    "W"
   ]
  },
  {
   "cell_type": "code",
   "execution_count": 245,
   "metadata": {},
   "outputs": [
    {
     "data": {
      "text/plain": [
       "array([0.03162278, 0.03162278, 0.03162278, 0.03162278, 0.03162278,\n",
       "       0.03162278, 0.03162278, 0.03162278, 0.03162278, 0.03162278,\n",
       "       0.03162278, 0.03162278, 0.03162278, 0.03162278, 0.03162278,\n",
       "       0.03162278, 0.03162278, 0.03162278, 0.03162278, 0.03162278,\n",
       "       0.03162278, 0.03162278, 0.03162278, 0.03162278, 0.03162278,\n",
       "       0.03162278, 0.03162278, 0.03162278, 0.03162278, 0.03162278,\n",
       "       0.03162278, 0.03162278, 0.03162278, 0.03162278, 0.03162278,\n",
       "       0.03162278, 0.03162278, 0.03162278, 0.03162278, 0.03162278,\n",
       "       0.03162278, 0.03162278, 0.03162278, 0.03162278, 0.03162278,\n",
       "       0.03162278, 0.03162278, 0.03162278, 0.03162278, 0.03162278,\n",
       "       0.03162278, 0.03162278, 0.03162278, 0.03162278, 0.03162278,\n",
       "       0.03162278, 0.03162278, 0.03162278, 0.03162278, 0.03162278,\n",
       "       0.03162278, 0.03162278, 0.03162278, 0.03162278, 0.03162278,\n",
       "       0.03162278, 0.03162278, 0.03162278, 0.03162278, 0.03162278,\n",
       "       0.03162278, 0.03162278, 0.03162278, 0.03162278, 0.03162278,\n",
       "       0.03162278, 0.03162278, 0.03162278, 0.03162278, 0.03162278,\n",
       "       0.03162278, 0.03162278, 0.03162278, 0.03162278, 0.03162278,\n",
       "       0.03162278, 0.03162278, 0.03162278, 0.03162278, 0.03162278,\n",
       "       0.03162278, 0.03162278, 0.03162278, 0.03162278, 0.03162278,\n",
       "       0.03162278, 0.03162278, 0.03162278, 0.03162278, 0.03162278,\n",
       "       0.03162278, 0.03162278, 0.03162278, 0.03162278, 0.03162278,\n",
       "       0.03162278, 0.03162278, 0.03162278, 0.03162278, 0.03162278,\n",
       "       0.03162278, 0.03162278, 0.03162278, 0.03162278, 0.03162278,\n",
       "       0.03162278, 0.03162278, 0.03162278, 0.03162278, 0.03162278,\n",
       "       0.03162278, 0.03162278, 0.03162278, 0.03162278, 0.03162278,\n",
       "       0.03162278, 0.03162278, 0.03162278, 0.03162278, 0.03162278,\n",
       "       0.03162278, 0.03162278, 0.03162278, 0.03162278, 0.03162278,\n",
       "       0.03162278, 0.03162278, 0.03162278, 0.03162278, 0.03162278,\n",
       "       0.03162278, 0.03162278, 0.03162278, 0.03162278, 0.03162278,\n",
       "       0.03162278, 0.03162278, 0.03162278, 0.03162278, 0.03162278,\n",
       "       0.03162278, 0.03162278, 0.03162278, 0.03162278, 0.03162278,\n",
       "       0.03162278, 0.03162278, 0.03162278, 0.03162278, 0.03162278,\n",
       "       0.03162278, 0.03162278, 0.03162278, 0.03162278, 0.03162278,\n",
       "       0.03162278, 0.03162278, 0.03162278, 0.03162278, 0.03162278,\n",
       "       0.03162278, 0.03162278, 0.03162278, 0.03162278, 0.03162278,\n",
       "       0.03162278, 0.03162278, 0.03162278, 0.03162278, 0.03162278,\n",
       "       0.03162278, 0.03162278, 0.03162278, 0.03162278, 0.03162278,\n",
       "       0.03162278, 0.03162278, 0.03162278, 0.03162278, 0.03162278,\n",
       "       0.03162278, 0.03162278, 0.03162278, 0.03162278, 0.03162278,\n",
       "       0.03162278, 0.03162278, 0.03162278, 0.03162278, 0.03162278,\n",
       "       0.03162278, 0.03162278, 0.03162278, 0.03162278, 0.03162278,\n",
       "       0.03162278, 0.03162278, 0.03162278, 0.03162278, 0.03162278,\n",
       "       0.03162278, 0.03162278, 0.03162278, 0.03162278, 0.03162278,\n",
       "       0.03162278, 0.03162278, 0.03162278, 0.03162278, 0.03162278,\n",
       "       0.03162278, 0.03162278, 0.03162278, 0.03162278, 0.03162278,\n",
       "       0.03162278, 0.03162278, 0.03162278, 0.03162278, 0.03162278,\n",
       "       0.03162278, 0.03162278, 0.03162278, 0.03162278, 0.03162278,\n",
       "       0.03162278, 0.03162278, 0.03162278, 0.03162278, 0.03162278,\n",
       "       0.03162278, 0.03162278, 0.03162278, 0.03162278, 0.03162278,\n",
       "       0.03162278, 0.03162278, 0.03162278, 0.03162278, 0.03162278,\n",
       "       0.03162278, 0.03162278, 0.03162278, 0.03162278, 0.03162278,\n",
       "       0.03162278, 0.03162278, 0.03162278, 0.03162278, 0.03162278,\n",
       "       0.03162278, 0.03162278, 0.03162278, 0.03162278, 0.03162278,\n",
       "       0.03162278, 0.03162278, 0.03162278, 0.03162278, 0.03162278,\n",
       "       0.03162278, 0.03162278, 0.03162278, 0.03162278, 0.03162278,\n",
       "       0.03162278, 0.03162278, 0.03162278, 0.03162278, 0.03162278,\n",
       "       0.03162278, 0.03162278, 0.03162278, 0.03162278, 0.03162278,\n",
       "       0.03162278, 0.03162278, 0.03162278, 0.03162278, 0.03162278,\n",
       "       0.03162278, 0.03162278, 0.03162278, 0.03162278, 0.03162278,\n",
       "       0.03162278, 0.03162278, 0.03162278, 0.03162278, 0.03162278,\n",
       "       0.03162278, 0.03162278, 0.03162278, 0.03162278, 0.03162278,\n",
       "       0.03162278, 0.03162278, 0.03162278, 0.03162278, 0.03162278,\n",
       "       0.03162278, 0.03162278, 0.03162278, 0.03162278, 0.03162278,\n",
       "       0.03162278, 0.03162278, 0.03162278, 0.03162278, 0.03162278,\n",
       "       0.03162278, 0.03162278, 0.03162278, 0.03162278, 0.03162278,\n",
       "       0.03162278, 0.03162278, 0.03162278, 0.03162278, 0.03162278,\n",
       "       0.03162278, 0.03162278, 0.03162278, 0.03162278, 0.03162278,\n",
       "       0.03162278, 0.03162278, 0.03162278, 0.03162278, 0.03162278,\n",
       "       0.03162278, 0.03162278, 0.03162278, 0.03162278, 0.03162278,\n",
       "       0.03162278, 0.03162278, 0.03162278, 0.03162278, 0.03162278,\n",
       "       0.03162278, 0.03162278, 0.03162278, 0.03162278, 0.03162278,\n",
       "       0.03162278, 0.03162278, 0.03162278, 0.03162278, 0.03162278,\n",
       "       0.03162278, 0.03162278, 0.03162278, 0.03162278, 0.03162278,\n",
       "       0.03162278, 0.03162278, 0.03162278, 0.03162278, 0.03162278,\n",
       "       0.03162278, 0.03162278, 0.03162278, 0.03162278, 0.03162278,\n",
       "       0.03162278, 0.03162278, 0.03162278, 0.03162278, 0.03162278,\n",
       "       0.03162278, 0.03162278, 0.03162278, 0.03162278, 0.03162278,\n",
       "       0.03162278, 0.03162278, 0.03162278, 0.03162278, 0.03162278,\n",
       "       0.03162278, 0.03162278, 0.03162278, 0.03162278, 0.03162278,\n",
       "       0.03162278, 0.03162278, 0.03162278, 0.03162278, 0.03162278,\n",
       "       0.03162278, 0.03162278, 0.03162278, 0.03162278, 0.03162278,\n",
       "       0.03162278, 0.03162278, 0.03162278, 0.03162278, 0.03162278,\n",
       "       0.03162278, 0.03162278, 0.03162278, 0.03162278, 0.03162278,\n",
       "       0.03162278, 0.03162278, 0.03162278, 0.03162278, 0.03162278,\n",
       "       0.03162278, 0.03162278, 0.03162278, 0.03162278, 0.03162278,\n",
       "       0.03162278, 0.03162278, 0.03162278, 0.03162278, 0.03162278,\n",
       "       0.03162278, 0.03162278, 0.03162278, 0.03162278, 0.03162278,\n",
       "       0.03162278, 0.03162278, 0.03162278, 0.03162278, 0.03162278,\n",
       "       0.03162278, 0.03162278, 0.03162278, 0.03162278, 0.03162278,\n",
       "       0.03162278, 0.03162278, 0.03162278, 0.03162278, 0.03162278,\n",
       "       0.03162278, 0.03162278, 0.03162278, 0.03162278, 0.03162278,\n",
       "       0.03162278, 0.03162278, 0.03162278, 0.03162278, 0.03162278,\n",
       "       0.03162278, 0.03162278, 0.03162278, 0.03162278, 0.03162278,\n",
       "       0.03162278, 0.03162278, 0.03162278, 0.03162278, 0.03162278,\n",
       "       0.03162278, 0.03162278, 0.03162278, 0.03162278, 0.03162278,\n",
       "       0.03162278, 0.03162278, 0.03162278, 0.03162278, 0.03162278,\n",
       "       0.03162278, 0.03162278, 0.03162278, 0.03162278, 0.03162278,\n",
       "       0.03162278, 0.03162278, 0.03162278, 0.03162278, 0.03162278,\n",
       "       0.03162278, 0.03162278, 0.03162278, 0.03162278, 0.03162278,\n",
       "       0.03162278, 0.03162278, 0.03162278, 0.03162278, 0.03162278,\n",
       "       0.03162278, 0.03162278, 0.03162278, 0.03162278, 0.03162278,\n",
       "       0.03162278, 0.03162278, 0.03162278, 0.03162278, 0.03162278,\n",
       "       0.03162278, 0.03162278, 0.03162278, 0.03162278, 0.03162278,\n",
       "       0.03162278, 0.03162278, 0.03162278, 0.03162278, 0.03162278,\n",
       "       0.03162278, 0.03162278, 0.03162278, 0.03162278, 0.03162278,\n",
       "       0.03162278, 0.03162278, 0.03162278, 0.03162278, 0.03162278,\n",
       "       0.03162278, 0.03162278, 0.03162278, 0.03162278, 0.03162278,\n",
       "       0.03162278, 0.03162278, 0.03162278, 0.03162278, 0.03162278,\n",
       "       0.03162278, 0.03162278, 0.03162278, 0.03162278, 0.03162278,\n",
       "       0.03162278, 0.03162278, 0.03162278, 0.03162278, 0.03162278,\n",
       "       0.03162278, 0.03162278, 0.03162278, 0.03162278, 0.03162278,\n",
       "       0.03162278, 0.03162278, 0.03162278, 0.03162278, 0.03162278,\n",
       "       0.03162278, 0.03162278, 0.03162278, 0.03162278, 0.03162278,\n",
       "       0.03162278, 0.03162278, 0.03162278, 0.03162278, 0.03162278,\n",
       "       0.03162278, 0.03162278, 0.03162278, 0.03162278, 0.03162278,\n",
       "       0.03162278, 0.03162278, 0.03162278, 0.03162278, 0.03162278,\n",
       "       0.03162278, 0.03162278, 0.03162278, 0.03162278, 0.03162278,\n",
       "       0.03162278, 0.03162278, 0.03162278, 0.03162278, 0.03162278,\n",
       "       0.03162278, 0.03162278, 0.03162278, 0.03162278, 0.03162278,\n",
       "       0.03162278, 0.03162278, 0.03162278, 0.03162278, 0.03162278,\n",
       "       0.03162278, 0.03162278, 0.03162278, 0.03162278, 0.03162278,\n",
       "       0.03162278, 0.03162278, 0.03162278, 0.03162278, 0.03162278,\n",
       "       0.03162278, 0.03162278, 0.03162278, 0.03162278, 0.03162278,\n",
       "       0.03162278, 0.03162278, 0.03162278, 0.03162278, 0.03162278,\n",
       "       0.03162278, 0.03162278, 0.03162278, 0.03162278, 0.03162278,\n",
       "       0.03162278, 0.03162278, 0.03162278, 0.03162278, 0.03162278,\n",
       "       0.03162278, 0.03162278, 0.03162278, 0.03162278, 0.03162278,\n",
       "       0.03162278, 0.03162278, 0.03162278, 0.03162278, 0.03162278,\n",
       "       0.03162278, 0.03162278, 0.03162278, 0.03162278, 0.03162278,\n",
       "       0.03162278, 0.03162278, 0.03162278, 0.03162278, 0.03162278,\n",
       "       0.03162278, 0.03162278, 0.03162278, 0.03162278, 0.03162278,\n",
       "       0.03162278, 0.03162278, 0.03162278, 0.03162278, 0.03162278,\n",
       "       0.03162278, 0.03162278, 0.03162278, 0.03162278, 0.03162278,\n",
       "       0.03162278, 0.03162278, 0.03162278, 0.03162278, 0.03162278,\n",
       "       0.03162278, 0.03162278, 0.03162278, 0.03162278, 0.03162278,\n",
       "       0.03162278, 0.03162278, 0.03162278, 0.03162278, 0.03162278,\n",
       "       0.03162278, 0.03162278, 0.03162278, 0.03162278, 0.03162278,\n",
       "       0.03162278, 0.03162278, 0.03162278, 0.03162278, 0.03162278,\n",
       "       0.03162278, 0.03162278, 0.03162278, 0.03162278, 0.03162278,\n",
       "       0.03162278, 0.03162278, 0.03162278, 0.03162278, 0.03162278,\n",
       "       0.03162278, 0.03162278, 0.03162278, 0.03162278, 0.03162278,\n",
       "       0.03162278, 0.03162278, 0.03162278, 0.03162278, 0.03162278,\n",
       "       0.03162278, 0.03162278, 0.03162278, 0.03162278, 0.03162278,\n",
       "       0.03162278, 0.03162278, 0.03162278, 0.03162278, 0.03162278,\n",
       "       0.03162278, 0.03162278, 0.03162278, 0.03162278, 0.03162278,\n",
       "       0.03162278, 0.03162278, 0.03162278, 0.03162278, 0.03162278,\n",
       "       0.03162278, 0.03162278, 0.03162278, 0.03162278, 0.03162278,\n",
       "       0.03162278, 0.03162278, 0.03162278, 0.03162278, 0.03162278,\n",
       "       0.03162278, 0.03162278, 0.03162278, 0.03162278, 0.03162278,\n",
       "       0.03162278, 0.03162278, 0.03162278, 0.03162278, 0.03162278,\n",
       "       0.03162278, 0.03162278, 0.03162278, 0.03162278, 0.03162278,\n",
       "       0.03162278, 0.03162278, 0.03162278, 0.03162278, 0.03162278,\n",
       "       0.03162278, 0.03162278, 0.03162278, 0.03162278, 0.03162278,\n",
       "       0.03162278, 0.03162278, 0.03162278, 0.03162278, 0.03162278,\n",
       "       0.03162278, 0.03162278, 0.03162278, 0.03162278, 0.03162278,\n",
       "       0.03162278, 0.03162278, 0.03162278, 0.03162278, 0.03162278,\n",
       "       0.03162278, 0.03162278, 0.03162278, 0.03162278, 0.03162278,\n",
       "       0.03162278, 0.03162278, 0.03162278, 0.03162278, 0.03162278,\n",
       "       0.03162278, 0.03162278, 0.03162278, 0.03162278, 0.03162278,\n",
       "       0.03162278, 0.03162278, 0.03162278, 0.03162278, 0.03162278,\n",
       "       0.03162278, 0.03162278, 0.03162278, 0.03162278, 0.03162278,\n",
       "       0.03162278, 0.03162278, 0.03162278, 0.03162278, 0.03162278,\n",
       "       0.03162278, 0.03162278, 0.03162278, 0.03162278, 0.03162278,\n",
       "       0.03162278, 0.03162278, 0.03162278, 0.03162278, 0.03162278,\n",
       "       0.03162278, 0.03162278, 0.03162278, 0.03162278, 0.03162278,\n",
       "       0.03162278, 0.03162278, 0.03162278, 0.03162278, 0.03162278,\n",
       "       0.03162278, 0.03162278, 0.03162278, 0.03162278, 0.03162278,\n",
       "       0.03162278, 0.03162278, 0.03162278, 0.03162278, 0.03162278,\n",
       "       0.03162278, 0.03162278, 0.03162278, 0.03162278, 0.03162278,\n",
       "       0.03162278, 0.03162278, 0.03162278, 0.03162278, 0.03162278,\n",
       "       0.03162278, 0.03162278, 0.03162278, 0.03162278, 0.03162278,\n",
       "       0.03162278, 0.03162278, 0.03162278, 0.03162278, 0.03162278,\n",
       "       0.03162278, 0.03162278, 0.03162278, 0.03162278, 0.03162278,\n",
       "       0.03162278, 0.03162278, 0.03162278, 0.03162278, 0.03162278,\n",
       "       0.03162278, 0.03162278, 0.03162278, 0.03162278, 0.03162278,\n",
       "       0.03162278, 0.03162278, 0.03162278, 0.03162278, 0.03162278,\n",
       "       0.03162278, 0.03162278, 0.03162278, 0.03162278, 0.03162278,\n",
       "       0.03162278, 0.03162278, 0.03162278, 0.03162278, 0.03162278,\n",
       "       0.03162278, 0.03162278, 0.03162278, 0.03162278, 0.03162278,\n",
       "       0.03162278, 0.03162278, 0.03162278, 0.03162278, 0.03162278,\n",
       "       0.03162278, 0.03162278, 0.03162278, 0.03162278, 0.03162278,\n",
       "       0.03162278, 0.03162278, 0.03162278, 0.03162278, 0.03162278,\n",
       "       0.03162278, 0.03162278, 0.03162278, 0.03162278, 0.03162278,\n",
       "       0.03162278, 0.03162278, 0.03162278, 0.03162278, 0.03162278,\n",
       "       0.03162278, 0.03162278, 0.03162278, 0.03162278, 0.03162278,\n",
       "       0.03162278, 0.03162278, 0.03162278, 0.03162278, 0.03162278,\n",
       "       0.03162278, 0.03162278, 0.03162278, 0.03162278, 0.03162278,\n",
       "       0.03162278, 0.03162278, 0.03162278, 0.03162278, 0.03162278,\n",
       "       0.03162278, 0.03162278, 0.03162278, 0.03162278, 0.03162278,\n",
       "       0.03162278, 0.03162278, 0.03162278, 0.03162278, 0.03162278,\n",
       "       0.03162278, 0.03162278, 0.03162278, 0.03162278, 0.03162278,\n",
       "       0.03162278, 0.03162278, 0.03162278, 0.03162278, 0.03162278,\n",
       "       0.03162278, 0.03162278, 0.03162278, 0.03162278, 0.03162278,\n",
       "       0.03162278, 0.03162278, 0.03162278, 0.03162278, 0.03162278,\n",
       "       0.03162278, 0.03162278, 0.03162278, 0.03162278, 0.03162278,\n",
       "       0.03162278, 0.03162278, 0.03162278, 0.03162278, 0.03162278,\n",
       "       0.03162278, 0.03162278, 0.03162278, 0.03162278, 0.03162278,\n",
       "       0.03162278, 0.03162278, 0.03162278, 0.03162278, 0.03162278,\n",
       "       0.03162278, 0.03162278, 0.03162278, 0.03162278, 0.03162278,\n",
       "       0.03162278, 0.03162278, 0.03162278, 0.03162278, 0.03162278])"
      ]
     },
     "execution_count": 245,
     "metadata": {},
     "output_type": "execute_result"
    }
   ],
   "source": [
    "V[:,0] #the first samllest eigenvalue corresponds to the frist eigenvector – should be a constant vector k*e, where e=(1,1,...,1), where k=sqrt(1/n)"
   ]
  },
  {
   "cell_type": "code",
   "execution_count": 246,
   "metadata": {},
   "outputs": [],
   "source": [
    "from math import sqrt"
   ]
  },
  {
   "cell_type": "code",
   "execution_count": 247,
   "metadata": {},
   "outputs": [
    {
     "data": {
      "text/plain": [
       "0.03162277660168379"
      ]
     },
     "execution_count": 247,
     "metadata": {},
     "output_type": "execute_result"
    }
   ],
   "source": [
    "sqrt(1/1000)"
   ]
  },
  {
   "cell_type": "code",
   "execution_count": 249,
   "metadata": {},
   "outputs": [],
   "source": [
    "X=V[:,1] #the second smallest eigenvalue corresponds to the second eigenvector"
   ]
  },
  {
   "cell_type": "code",
   "execution_count": 250,
   "metadata": {},
   "outputs": [],
   "source": [
    "Ids=np.argsort(X)"
   ]
  },
  {
   "cell_type": "code",
   "execution_count": 205,
   "metadata": {},
   "outputs": [
    {
     "data": {
      "text/plain": [
       "[<matplotlib.lines.Line2D at 0x7fc7a921a0d0>]"
      ]
     },
     "execution_count": 205,
     "metadata": {},
     "output_type": "execute_result"
    },
    {
     "data": {
      "image/png": "[encoded data removed]",
      "text/plain": [
       "<Figure size 432x288 with 1 Axes>"
      ]
     },
     "metadata": {
      "needs_background": "light"
     },
     "output_type": "display_data"
    }
   ],
   "source": [
    "plt.plot(X) #original X"
   ]
  },
  {
   "cell_type": "code",
   "execution_count": 251,
   "metadata": {},
   "outputs": [
    {
     "data": {
      "text/plain": [
       "[<matplotlib.lines.Line2D at 0x7fc7cb7f9550>]"
      ]
     },
     "execution_count": 251,
     "metadata": {},
     "output_type": "execute_result"
    },
    {
     "data": {
      "image/png": "[encoded data removed]",
      "text/plain": [
       "<Figure size 432x288 with 1 Axes>"
      ]
     },
     "metadata": {
      "needs_background": "light"
     },
     "output_type": "display_data"
    }
   ],
   "source": [
    "plt.plot(X[Ids]) #sorted X"
   ]
  },
  {
   "cell_type": "code",
   "execution_count": 253,
   "metadata": {},
   "outputs": [
    {
     "data": {
      "text/plain": [
       "1.6830981053317373e-13"
      ]
     },
     "execution_count": 253,
     "metadata": {},
     "output_type": "execute_result"
    }
   ],
   "source": [
    "sum(np.dot(L,X)) #the result is non-zero"
   ]
  },
  {
   "cell_type": "code",
   "execution_count": 254,
   "metadata": {},
   "outputs": [
    {
     "data": {
      "text/plain": [
       "-6.141753772226366e-13"
      ]
     },
     "execution_count": 254,
     "metadata": {},
     "output_type": "execute_result"
    }
   ],
   "source": [
    "sum(np.dot(L,V[:,0])) #due to numerical instability the result is non-zero for the first vector too"
   ]
  },
  {
   "cell_type": "code",
   "execution_count": 256,
   "metadata": {},
   "outputs": [
    {
     "data": {
      "text/plain": [
       "[<matplotlib.lines.Line2D at 0x7fc7cba66d50>]"
      ]
     },
     "execution_count": 256,
     "metadata": {},
     "output_type": "execute_result"
    },
    {
     "data": {
      "image/png": "[encoded data removed]",
      "text/plain": [
       "<Figure size 432x288 with 1 Axes>"
      ]
     },
     "metadata": {
      "needs_background": "light"
     },
     "output_type": "display_data"
    }
   ],
   "source": [
    "plt.plot(V[:,0]) # but it does not suite our purpose"
   ]
  },
  {
   "cell_type": "code",
   "execution_count": 257,
   "metadata": {},
   "outputs": [],
   "source": [
    "B=A[Ids,:]#let us sort our matrix according to the new order of the second vector components; first, by rows"
   ]
  },
  {
   "cell_type": "code",
   "execution_count": 263,
   "metadata": {},
   "outputs": [
    {
     "data": {
      "text/plain": [
       "<matplotlib.collections.QuadMesh at 0x7fc7d94de2d0>"
      ]
     },
     "execution_count": 263,
     "metadata": {},
     "output_type": "execute_result"
    },
    {
     "data": {
      "image/png": "[encoded data removed]",
      "text/plain": [
       "<Figure size 432x288 with 1 Axes>"
      ]
     },
     "metadata": {
      "needs_background": "light"
     },
     "output_type": "display_data"
    }
   ],
   "source": [
    "plt.pcolormesh(B[:,Ids]) #second, by columns; we identified our communities"
   ]
  },
  {
   "cell_type": "code",
   "execution_count": 260,
   "metadata": {},
   "outputs": [],
   "source": [
    "e=np.ones(1000) #just for curiosity, let us check the constant vector"
   ]
  },
  {
   "cell_type": "code",
   "execution_count": 261,
   "metadata": {},
   "outputs": [
    {
     "data": {
      "text/plain": [
       "array([0., 0., 0., 0., 0., 0., 0., 0., 0., 0., 0., 0., 0., 0., 0., 0., 0.,\n",
       "       0., 0., 0., 0., 0., 0., 0., 0., 0., 0., 0., 0., 0., 0., 0., 0., 0.,\n",
       "       0., 0., 0., 0., 0., 0., 0., 0., 0., 0., 0., 0., 0., 0., 0., 0., 0.,\n",
       "       0., 0., 0., 0., 0., 0., 0., 0., 0., 0., 0., 0., 0., 0., 0., 0., 0.,\n",
       "       0., 0., 0., 0., 0., 0., 0., 0., 0., 0., 0., 0., 0., 0., 0., 0., 0.,\n",
       "       0., 0., 0., 0., 0., 0., 0., 0., 0., 0., 0., 0., 0., 0., 0., 0., 0.,\n",
       "       0., 0., 0., 0., 0., 0., 0., 0., 0., 0., 0., 0., 0., 0., 0., 0., 0.,\n",
       "       0., 0., 0., 0., 0., 0., 0., 0., 0., 0., 0., 0., 0., 0., 0., 0., 0.,\n",
       "       0., 0., 0., 0., 0., 0., 0., 0., 0., 0., 0., 0., 0., 0., 0., 0., 0.,\n",
       "       0., 0., 0., 0., 0., 0., 0., 0., 0., 0., 0., 0., 0., 0., 0., 0., 0.,\n",
       "       0., 0., 0., 0., 0., 0., 0., 0., 0., 0., 0., 0., 0., 0., 0., 0., 0.,\n",
       "       0., 0., 0., 0., 0., 0., 0., 0., 0., 0., 0., 0., 0., 0., 0., 0., 0.,\n",
       "       0., 0., 0., 0., 0., 0., 0., 0., 0., 0., 0., 0., 0., 0., 0., 0., 0.,\n",
       "       0., 0., 0., 0., 0., 0., 0., 0., 0., 0., 0., 0., 0., 0., 0., 0., 0.,\n",
       "       0., 0., 0., 0., 0., 0., 0., 0., 0., 0., 0., 0., 0., 0., 0., 0., 0.,\n",
       "       0., 0., 0., 0., 0., 0., 0., 0., 0., 0., 0., 0., 0., 0., 0., 0., 0.,\n",
       "       0., 0., 0., 0., 0., 0., 0., 0., 0., 0., 0., 0., 0., 0., 0., 0., 0.,\n",
       "       0., 0., 0., 0., 0., 0., 0., 0., 0., 0., 0., 0., 0., 0., 0., 0., 0.,\n",
       "       0., 0., 0., 0., 0., 0., 0., 0., 0., 0., 0., 0., 0., 0., 0., 0., 0.,\n",
       "       0., 0., 0., 0., 0., 0., 0., 0., 0., 0., 0., 0., 0., 0., 0., 0., 0.,\n",
       "       0., 0., 0., 0., 0., 0., 0., 0., 0., 0., 0., 0., 0., 0., 0., 0., 0.,\n",
       "       0., 0., 0., 0., 0., 0., 0., 0., 0., 0., 0., 0., 0., 0., 0., 0., 0.,\n",
       "       0., 0., 0., 0., 0., 0., 0., 0., 0., 0., 0., 0., 0., 0., 0., 0., 0.,\n",
       "       0., 0., 0., 0., 0., 0., 0., 0., 0., 0., 0., 0., 0., 0., 0., 0., 0.,\n",
       "       0., 0., 0., 0., 0., 0., 0., 0., 0., 0., 0., 0., 0., 0., 0., 0., 0.,\n",
       "       0., 0., 0., 0., 0., 0., 0., 0., 0., 0., 0., 0., 0., 0., 0., 0., 0.,\n",
       "       0., 0., 0., 0., 0., 0., 0., 0., 0., 0., 0., 0., 0., 0., 0., 0., 0.,\n",
       "       0., 0., 0., 0., 0., 0., 0., 0., 0., 0., 0., 0., 0., 0., 0., 0., 0.,\n",
       "       0., 0., 0., 0., 0., 0., 0., 0., 0., 0., 0., 0., 0., 0., 0., 0., 0.,\n",
       "       0., 0., 0., 0., 0., 0., 0., 0., 0., 0., 0., 0., 0., 0., 0., 0., 0.,\n",
       "       0., 0., 0., 0., 0., 0., 0., 0., 0., 0., 0., 0., 0., 0., 0., 0., 0.,\n",
       "       0., 0., 0., 0., 0., 0., 0., 0., 0., 0., 0., 0., 0., 0., 0., 0., 0.,\n",
       "       0., 0., 0., 0., 0., 0., 0., 0., 0., 0., 0., 0., 0., 0., 0., 0., 0.,\n",
       "       0., 0., 0., 0., 0., 0., 0., 0., 0., 0., 0., 0., 0., 0., 0., 0., 0.,\n",
       "       0., 0., 0., 0., 0., 0., 0., 0., 0., 0., 0., 0., 0., 0., 0., 0., 0.,\n",
       "       0., 0., 0., 0., 0., 0., 0., 0., 0., 0., 0., 0., 0., 0., 0., 0., 0.,\n",
       "       0., 0., 0., 0., 0., 0., 0., 0., 0., 0., 0., 0., 0., 0., 0., 0., 0.,\n",
       "       0., 0., 0., 0., 0., 0., 0., 0., 0., 0., 0., 0., 0., 0., 0., 0., 0.,\n",
       "       0., 0., 0., 0., 0., 0., 0., 0., 0., 0., 0., 0., 0., 0., 0., 0., 0.,\n",
       "       0., 0., 0., 0., 0., 0., 0., 0., 0., 0., 0., 0., 0., 0., 0., 0., 0.,\n",
       "       0., 0., 0., 0., 0., 0., 0., 0., 0., 0., 0., 0., 0., 0., 0., 0., 0.,\n",
       "       0., 0., 0., 0., 0., 0., 0., 0., 0., 0., 0., 0., 0., 0., 0., 0., 0.,\n",
       "       0., 0., 0., 0., 0., 0., 0., 0., 0., 0., 0., 0., 0., 0., 0., 0., 0.,\n",
       "       0., 0., 0., 0., 0., 0., 0., 0., 0., 0., 0., 0., 0., 0., 0., 0., 0.,\n",
       "       0., 0., 0., 0., 0., 0., 0., 0., 0., 0., 0., 0., 0., 0., 0., 0., 0.,\n",
       "       0., 0., 0., 0., 0., 0., 0., 0., 0., 0., 0., 0., 0., 0., 0., 0., 0.,\n",
       "       0., 0., 0., 0., 0., 0., 0., 0., 0., 0., 0., 0., 0., 0., 0., 0., 0.,\n",
       "       0., 0., 0., 0., 0., 0., 0., 0., 0., 0., 0., 0., 0., 0., 0., 0., 0.,\n",
       "       0., 0., 0., 0., 0., 0., 0., 0., 0., 0., 0., 0., 0., 0., 0., 0., 0.,\n",
       "       0., 0., 0., 0., 0., 0., 0., 0., 0., 0., 0., 0., 0., 0., 0., 0., 0.,\n",
       "       0., 0., 0., 0., 0., 0., 0., 0., 0., 0., 0., 0., 0., 0., 0., 0., 0.,\n",
       "       0., 0., 0., 0., 0., 0., 0., 0., 0., 0., 0., 0., 0., 0., 0., 0., 0.,\n",
       "       0., 0., 0., 0., 0., 0., 0., 0., 0., 0., 0., 0., 0., 0., 0., 0., 0.,\n",
       "       0., 0., 0., 0., 0., 0., 0., 0., 0., 0., 0., 0., 0., 0., 0., 0., 0.,\n",
       "       0., 0., 0., 0., 0., 0., 0., 0., 0., 0., 0., 0., 0., 0., 0., 0., 0.,\n",
       "       0., 0., 0., 0., 0., 0., 0., 0., 0., 0., 0., 0., 0., 0., 0., 0., 0.,\n",
       "       0., 0., 0., 0., 0., 0., 0., 0., 0., 0., 0., 0., 0., 0., 0., 0., 0.,\n",
       "       0., 0., 0., 0., 0., 0., 0., 0., 0., 0., 0., 0., 0., 0., 0., 0., 0.,\n",
       "       0., 0., 0., 0., 0., 0., 0., 0., 0., 0., 0., 0., 0., 0.])"
      ]
     },
     "execution_count": 261,
     "metadata": {},
     "output_type": "execute_result"
    }
   ],
   "source": [
    "np.dot(L,e) # it corresponds to zero eigenvalue"
   ]
  },
  {
   "cell_type": "code",
   "execution_count": 262,
   "metadata": {},
   "outputs": [
    {
     "data": {
      "text/plain": [
       "-1.4988715425951263e-14"
      ]
     },
     "execution_count": 262,
     "metadata": {},
     "output_type": "execute_result"
    }
   ],
   "source": [
    "W[0] #even though due to numeric instability it is not zero in our method"
   ]
  },
  {
   "cell_type": "markdown",
   "metadata": {
    "colab_type": "text",
    "id": "pYu6A5YR_jCW"
   },
   "source": [
    "### 2. Meaningful Partitions of Real Datasets (30%)\n",
    "\"The previous example was rather compelling. However, it was also fake.\"\n",
    "\n",
    "We can play with real anonymised data from Yahoo https://www.dropbox.com/s/ii1e09dx6o2ktit/yahoo.zip?dl=0 for web advertisment."
   ]
  },
  {
   "cell_type": "code",
   "execution_count": 264,
   "metadata": {
    "colab": {},
    "colab_type": "code",
    "id": "6U4SjCVu_jCY"
   },
   "outputs": [],
   "source": [
    "# reading data, 2000 companies, 3000 advertising terms, \n",
    "# 92345 connections in the graph showing that a firm buys a term\n",
    "a = np.genfromtxt('yahoo/us.3k.2k.smat')\n",
    "a = a.astype(int)\n",
    "n, m, n_connections = a[0]"
   ]
  },
  {
   "cell_type": "code",
   "execution_count": 265,
   "metadata": {
    "colab": {},
    "colab_type": "code",
    "id": "5GULoysw_jCZ"
   },
   "outputs": [],
   "source": [
    "#let us put data in the adjacency matrix n x m\n",
    "A_small = np.zeros((n, m))\n",
    "A_small[a[1:, 0], a[1:, 1]] = 1"
   ]
  },
  {
   "cell_type": "code",
   "execution_count": 266,
   "metadata": {
    "colab": {},
    "colab_type": "code",
    "id": "0IuVdiI3_jCd"
   },
   "outputs": [],
   "source": [
    "A = np.vstack(\n",
    "    (np.hstack(\n",
    "        (np.zeros((n, n)), A_small)\n",
    "    ),\n",
    "     np.hstack((A_small.T, np.zeros((m, m))))\n",
    "    )\n",
    ")"
   ]
  },
  {
   "cell_type": "code",
   "execution_count": 267,
   "metadata": {
    "colab": {},
    "colab_type": "code",
    "id": "Mg0pQyDp_jCg"
   },
   "outputs": [],
   "source": [
    "# let us calcualte the number of non-zero elements (connections)\n",
    "assert sum(sum(A_small)) == 92345"
   ]
  },
  {
   "cell_type": "code",
   "execution_count": 269,
   "metadata": {
    "colab": {},
    "colab_type": "code",
    "id": "-9MhUwS5_jCm"
   },
   "outputs": [],
   "source": [
    "# let us read terms along with their ids\n",
    "with open(\"yahoo/us.3k.2k.trms\", 'r') as iofile:\n",
    "    labels = iofile.readlines()"
   ]
  },
  {
   "cell_type": "markdown",
   "metadata": {
    "colab_type": "text",
    "id": "KU3dKeir_jCo"
   },
   "source": [
    "Perfrom the second task from the tutorial. First, calculate the Laplacian matrix, L=D-A, find its second smallest eigenvector, sort it, and use the found indicies to find interpretable clusters of advertising terms (2-3 such clusters is enough). As an alternative out-of-the-box solution, you can use the implementation of Spectral Clustering with a given number of clusters from scikit-learn: http://scikit-learn.org/stable/modules/generated/sklearn.cluster.SpectralClustering.html"
   ]
  },
  {
   "cell_type": "code",
   "execution_count": 0,
   "metadata": {
    "colab": {},
    "colab_type": "code",
    "collapsed": true,
    "id": "SHrxEFAs_jCo"
   },
   "outputs": [],
   "source": [
    "### Your code here"
   ]
  }
 ],
 "metadata": {
  "colab": {
   "collapsed_sections": [],
   "name": "HW6_Spectral_clustering_and_anomaly_detection.ipynb",
   "provenance": [],
   "version": "0.3.2"
  },
  "kernelspec": {
   "display_name": "Python 3",
   "language": "python",
   "name": "python3"
  },
  "language_info": {
   "codemirror_mode": {
    "name": "ipython",
    "version": 3
   },
   "file_extension": ".py",
   "mimetype": "text/x-python",
   "name": "python",
   "nbconvert_exporter": "python",
   "pygments_lexer": "ipython3",
   "version": "3.7.7"
  }
 },
 "nbformat": 4,
 "nbformat_minor": 1
}
