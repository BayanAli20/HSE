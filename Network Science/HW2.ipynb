{
  "nbformat": 4,
  "nbformat_minor": 0,
  "metadata": {
    "kernelspec": {
      "display_name": "Python 3",
      "language": "python",
      "name": "python3"
    },
    "language_info": {
      "codemirror_mode": {
        "name": "ipython",
        "version": 3
      },
      "file_extension": ".py",
      "mimetype": "text/x-python",
      "name": "python",
      "nbconvert_exporter": "python",
      "pygments_lexer": "ipython3",
      "version": "3.7.3"
    },
    "colab": {
      "name": "assignment2 (2).ipynb",
      "provenance": [],
      "collapsed_sections": []
    }
  },
  "cells": [
    {
      "cell_type": "markdown",
      "metadata": {
        "id": "pUoJ4AXXw_YV"
      },
      "source": [
        "# Assignment — Power Law"
      ]
    },
    {
      "cell_type": "code",
      "metadata": {
        "id": "nPhFFc6gw_Yd"
      },
      "source": [
        "import matplotlib.pyplot as plt\n",
        "import numpy as np\n",
        "import pandas as pd\n",
        "from zlib import adler32\n",
        "import requests\n",
        "import networkx as nx\n",
        "from typing import List"
      ],
      "execution_count": 119,
      "outputs": []
    },
    {
      "cell_type": "markdown",
      "metadata": {
        "id": "g6CUr9h1w_Ye"
      },
      "source": [
        "The PDF of the Power law distribution is \n",
        "\n",
        "$$ p(x) = Cx^{-\\alpha},$$ \n",
        "\n",
        "where $C$ is a normalization constant \n",
        "\n",
        "$$C = \\frac{\\alpha - 1}{x_{\\text{min}}^{-\\alpha + 1}}$$ \n",
        "\n",
        "and $\\alpha>1$ is called an exponent of the distribution. "
      ]
    },
    {
      "cell_type": "code",
      "metadata": {
        "id": "ZpMURqA0w_Yf"
      },
      "source": [
        "def power_law_pdf(x, alpha=3.5, x_min=1):\n",
        "    C = (alpha - 1) / x_min ** (1 - alpha)\n",
        "    return C * x ** (-alpha)"
      ],
      "execution_count": 120,
      "outputs": []
    },
    {
      "cell_type": "code",
      "metadata": {
        "colab": {
          "base_uri": "https://localhost:8080/",
          "height": 281
        },
        "id": "QjVnjFCdw_Yf",
        "outputId": "ed0b5876-6cf1-453a-b1e5-10da2c7d10a2"
      },
      "source": [
        "x_space = np.linspace(1, 10, 100)\n",
        "plt.plot(x_space, power_law_pdf(x_space))\n",
        "plt.title('Power Law PDF');"
      ],
      "execution_count": 121,
      "outputs": [
        {
          "output_type": "display_data",
          "data": {
            "image/png": "[encoded data removed]",
            "text/plain": [
              "<Figure size 432x288 with 1 Axes>"
            ]
          },
          "metadata": {
            "tags": [],
            "needs_background": "light"
          }
        }
      ]
    },
    {
      "cell_type": "markdown",
      "metadata": {
        "id": "UxkJGgO2w_Yh"
      },
      "source": [
        "Let us generate observations from a Power Law RV."
      ]
    },
    {
      "cell_type": "markdown",
      "metadata": {
        "id": "loNIgOMLw_Yh"
      },
      "source": [
        "### Task 1. Power law CDF (0.6 point)"
      ]
    },
    {
      "cell_type": "markdown",
      "metadata": {
        "id": "B6CzCvAqw_Yh"
      },
      "source": [
        "The first step is to derive CDF of Powel law: $F(x) = P(X \\leq x)$\n",
        "\n",
        "$$F(x) = 1 - \\int_{x}^\\infty p(t) dt.$$\n",
        "\n",
        "Take the integral, derive CDF analytically and write a function `power_law_cdf` with parameters `x`, `alpha` and `x_min`."
      ]
    },
    {
      "cell_type": "code",
      "metadata": {
        "deletable": false,
        "nbgrader": {
          "cell_type": "code",
          "checksum": "dfa3158ba5ebe1454116372e3a44aec9",
          "grade": false,
          "grade_id": "cell-f682e125051975d6",
          "locked": false,
          "schema_version": 3,
          "solution": true,
          "task": false
        },
        "id": "eu7AW9bMw_Yi"
      },
      "source": [
        "def power_law_cdf(x, alpha=3.5, x_min=1):\n",
        "    return 1 - (x / x_min) ** (1 - alpha)"
      ],
      "execution_count": 122,
      "outputs": []
    },
    {
      "cell_type": "code",
      "metadata": {
        "deletable": false,
        "editable": false,
        "nbgrader": {
          "cell_type": "code",
          "checksum": "f19138c1513bba3faf4d69d651e3643d",
          "grade": true,
          "grade_id": "cell-87d0428f480773c4",
          "locked": true,
          "points": 0.6,
          "schema_version": 3,
          "solution": false,
          "task": false
        },
        "id": "f4F5dlHWw_Yj"
      },
      "source": [
        "assert power_law_cdf(2, 2, 1) == 0.5\n",
        "assert power_law_cdf(10, 2, 1) == 0.9\n",
        "assert adler32(str(power_law_cdf(2, 3, 1)).encode()) == 32571595"
      ],
      "execution_count": 123,
      "outputs": []
    },
    {
      "cell_type": "code",
      "metadata": {
        "colab": {
          "base_uri": "https://localhost:8080/",
          "height": 281
        },
        "id": "XBQgMs4vw_Yj",
        "outputId": "ac92d750-b395-458d-ff76-44f338bea499"
      },
      "source": [
        "x_space = np.linspace(1, 10, 100)\n",
        "plt.plot(x_space, power_law_cdf(x_space))\n",
        "plt.title('Power Law CDF');"
      ],
      "execution_count": 124,
      "outputs": [
        {
          "output_type": "display_data",
          "data": {
            "image/png": "[encoded data removed]",
            "text/plain": [
              "<Figure size 432x288 with 1 Axes>"
            ]
          },
          "metadata": {
            "tags": [],
            "needs_background": "light"
          }
        }
      ]
    },
    {
      "cell_type": "markdown",
      "metadata": {
        "id": "kwbMg8_Kw_Yk"
      },
      "source": [
        "### Task 2. Power law PPF (0.6 point)"
      ]
    },
    {
      "cell_type": "markdown",
      "metadata": {
        "id": "eJVG-cnxw_Yk"
      },
      "source": [
        "Let $X \\sim \\text{Power law}$. Next, define a random variable $R$, s.t. $R = F(X)$, so $R$ will be uniformly distributed on interval [0, 1] ([proof](https://en.wikipedia.org/wiki/Probability_integral_transform#Proof)). Good thing here is that we easily can generate uniformly distributed pseudorandom numbers and then transform them into Power Law. Let us find an expression for $x = F^{-1}(r)$, where $r$ is an observation from uniform distrubution on interval [0, 1]. \n",
        "\n",
        "Find an analytical form of $F^{-1}(r)$ and write a function `power_law_ppf` (percent point function, also known as a quantile) with parameters `r`, `alpha` and `x_min`. "
      ]
    },
    {
      "cell_type": "code",
      "metadata": {
        "deletable": false,
        "nbgrader": {
          "cell_type": "code",
          "checksum": "be67ee873cb3bf60c2e62921b187b228",
          "grade": false,
          "grade_id": "cell-63a819b2bc8441f1",
          "locked": false,
          "schema_version": 3,
          "solution": true,
          "task": false
        },
        "id": "2tshLyBpw_Yl"
      },
      "source": [
        "def power_law_ppf(r, alpha=3.5, x_min=1):\n",
        "    return x_min * (1 - r) ** (1 / (1 - alpha))"
      ],
      "execution_count": 125,
      "outputs": []
    },
    {
      "cell_type": "code",
      "metadata": {
        "deletable": false,
        "editable": false,
        "nbgrader": {
          "cell_type": "code",
          "checksum": "66dc6dea66047660258c1c1045c44c91",
          "grade": true,
          "grade_id": "cell-0b447767612a3798",
          "locked": true,
          "points": 0.6,
          "schema_version": 3,
          "solution": false,
          "task": false
        },
        "id": "0xPCkVYNw_Yl"
      },
      "source": [
        "assert round(power_law_ppf(0.5, 2, 1), 2) == 2\n",
        "assert round(power_law_ppf(0.9, 2, 1), 2) == 10\n",
        "assert adler32(str(round(power_law_ppf(0.96, 3, 1), 2)).encode()) == 19792020"
      ],
      "execution_count": 126,
      "outputs": []
    },
    {
      "cell_type": "code",
      "metadata": {
        "colab": {
          "base_uri": "https://localhost:8080/",
          "height": 281
        },
        "id": "K_rp43FRw_Yl",
        "outputId": "0a62d24a-f2b8-4c29-851a-f35537af99cb"
      },
      "source": [
        "x_space = np.linspace(0, 0.999, 100)\n",
        "plt.plot(x_space, power_law_ppf(x_space))\n",
        "plt.title('Power Law PPF');"
      ],
      "execution_count": 127,
      "outputs": [
        {
          "output_type": "display_data",
          "data": {
            "image/png": "[encoded data removed]",
            "text/plain": [
              "<Figure size 432x288 with 1 Axes>"
            ]
          },
          "metadata": {
            "tags": [],
            "needs_background": "light"
          }
        }
      ]
    },
    {
      "cell_type": "markdown",
      "metadata": {
        "id": "Gp9-Ebspw_Ym"
      },
      "source": [
        "Finally, we can generate observation from Power law distribution as follows:\n",
        "1. Generate observation from uniform distribution on interval [0, 1]\n",
        "2. Calculate PPF value of given observation"
      ]
    },
    {
      "cell_type": "code",
      "metadata": {
        "id": "sSr-IpQUw_Ym"
      },
      "source": [
        "def power_law_generate(n, alpha=3.5, x_min=1, random_seed=1):\n",
        "    np.random.seed(random_seed)\n",
        "    uni_sample = np.random.uniform(0, 0.999, n)\n",
        "    return power_law_ppf(uni_sample, alpha, x_min)"
      ],
      "execution_count": 128,
      "outputs": []
    },
    {
      "cell_type": "markdown",
      "metadata": {
        "id": "REUclGHzw_Ym"
      },
      "source": [
        "Look at the histogram of the generated sample"
      ]
    },
    {
      "cell_type": "code",
      "metadata": {
        "id": "UpcPpElBw_Yn"
      },
      "source": [
        "alpha = 3.5\n",
        "x_min = 1\n",
        "x_train = power_law_generate(1000, alpha, x_min)\n",
        "x_space = np.linspace(1, 15, 100)"
      ],
      "execution_count": 129,
      "outputs": []
    },
    {
      "cell_type": "code",
      "metadata": {
        "colab": {
          "base_uri": "https://localhost:8080/",
          "height": 265
        },
        "id": "0arOR58vw_Yn",
        "outputId": "f899d60a-ff8c-4851-b8c0-55b13b8d13c6"
      },
      "source": [
        "hist, bin_edges = np.histogram(x_train, bins=200, density=True)\n",
        "bin_centers = (bin_edges[1:] + bin_edges[:-1]) / 2\n",
        "plt.scatter(bin_centers[hist > 0], hist[hist > 0], s=10)\n",
        "plt.plot(x_space, power_law_pdf(x_space, alpha, x_min), \n",
        "         label='Theoretical PDF', c='tab:orange')\n",
        "plt.legend()\n",
        "plt.xlim(1, 10)\n",
        "plt.show()"
      ],
      "execution_count": 130,
      "outputs": [
        {
          "output_type": "display_data",
          "data": {
            "image/png": "[encoded data removed]",
            "text/plain": [
              "<Figure size 432x288 with 1 Axes>"
            ]
          },
          "metadata": {
            "tags": [],
            "needs_background": "light"
          }
        }
      ]
    },
    {
      "cell_type": "markdown",
      "metadata": {
        "id": "dv1bdyHrw_Yo"
      },
      "source": [
        "And here is the same histogram in log-log scale"
      ]
    },
    {
      "cell_type": "code",
      "metadata": {
        "id": "qiLgxSRGw_Yo",
        "colab": {
          "base_uri": "https://localhost:8080/",
          "height": 269
        },
        "outputId": "7000a83b-c6cd-49eb-dbf7-f84a7b82aca0"
      },
      "source": [
        "hist, bin_edges = np.histogram(x_train, bins=200, density=True)\n",
        "bin_centers = (bin_edges[1:] + bin_edges[:-1]) / 2\n",
        "plt.scatter(bin_centers, hist, s=10)\n",
        "plt.plot(x_space, power_law_pdf(x_space, alpha, x_min), \n",
        "         label='Theoretical PDF', c='tab:orange')\n",
        "plt.legend()\n",
        "plt.xscale('log')\n",
        "plt.yscale('log')\n",
        "plt.xlim(1, 10)\n",
        "plt.show()"
      ],
      "execution_count": 131,
      "outputs": [
        {
          "output_type": "display_data",
          "data": {
            "image/png": "[encoded data removed]",
            "text/plain": [
              "<Figure size 432x288 with 1 Axes>"
            ]
          },
          "metadata": {
            "tags": [],
            "needs_background": "light"
          }
        }
      ]
    },
    {
      "cell_type": "markdown",
      "metadata": {
        "id": "YmC_O455w_Yo"
      },
      "source": [
        "### Task 3. Estimation of alpha with linear binning (0.6 point)"
      ]
    },
    {
      "cell_type": "markdown",
      "metadata": {
        "id": "GhueS2tWw_Yp"
      },
      "source": [
        "Given observations from the Power Law distribution, try to estimate $\\alpha$. The easiest way is to draw an empirical PDF with linear binning in log-log scale and apply linear regression. By _linear binning_ we mean to keep a bin width is fixed.\n",
        "\n",
        "Write a function `alpha_lin_bins` that takes a train set, number of linear bins and returns an estimated $\\alpha$.\n",
        "\n",
        "_Hints:_\n",
        "* _Take log in both side of $p(x) = Cx^{-\\alpha}$_\n",
        "* _To calculate an empirical PDF, use `np.histogram(x_train, bins=bins, density=True)`_\n",
        "* _To calculate pseudoinverse matrix, use `np.linalg.pinv`_\n",
        "* _Also you can use fit-predict in `sklearn.linear.LinearRegression`_"
      ]
    },
    {
      "cell_type": "code",
      "metadata": {
        "deletable": false,
        "nbgrader": {
          "cell_type": "code",
          "checksum": "98c4c6ef2ed0c2d94c440d3e8e932b7e",
          "grade": false,
          "grade_id": "cell-c57a5c7c5834b80e",
          "locked": false,
          "schema_version": 3,
          "solution": true,
          "task": false
        },
        "id": "oKuvbrTzw_Yp"
      },
      "source": [
        "from sklearn.linear_model import LinearRegression\n",
        "def alpha_lin_bins(x_train, bins):\n",
        "    hist, bin_edges = np.histogram(x_train, bins=bins, density=True)\n",
        "    bin_centers = (bin_edges[1:] + bin_edges[:-1]) / 2\n",
        "    x, y = np.log(bin_centers[hist > 0]).reshape(-1, 1), np.log(hist[hist > 0])\n",
        "    reg = LinearRegression().fit(x, y)\n",
        "    return -reg.coef_[0]"
      ],
      "execution_count": 132,
      "outputs": []
    },
    {
      "cell_type": "code",
      "metadata": {
        "deletable": false,
        "editable": false,
        "nbgrader": {
          "cell_type": "code",
          "checksum": "6826a6691147f838c13ed2ebdf7c4f09",
          "grade": true,
          "grade_id": "cell-b9cf21aabb190bd7",
          "locked": true,
          "points": 0.6,
          "schema_version": 3,
          "solution": false,
          "task": false
        },
        "id": "59Yq2o9hw_Yq"
      },
      "source": [
        "bins = 100\n",
        "x_train = power_law_generate(1000, x_min=1, alpha=2)\n",
        "assert np.abs(alpha_lin_bins(x_train, bins) - 2) < 0.7\n",
        "x_train = power_law_generate(1000, x_min=1, alpha=3.5)\n",
        "assert np.abs(alpha_lin_bins(x_train, bins) - 3.5) < 0.9\n",
        "x_train = power_law_generate(1000, x_min=1, alpha=10)\n",
        "assert np.abs(alpha_lin_bins(x_train, bins) - 10) < 2"
      ],
      "execution_count": 133,
      "outputs": []
    },
    {
      "cell_type": "code",
      "metadata": {
        "colab": {
          "base_uri": "https://localhost:8080/",
          "height": 285
        },
        "id": "JRqnh6W7w_Yq",
        "outputId": "55c505c2-6a5b-46e5-8cd6-8deebc3e0236"
      },
      "source": [
        "x_min = 1\n",
        "alpha = 3.5\n",
        "bins = 100\n",
        "\n",
        "x_train = power_law_generate(1000, alpha, x_min)\n",
        "hist, bin_edges = np.histogram(x_train, bins=bins, density=True)\n",
        "bin_centers = (bin_edges[1:] + bin_edges[:-1]) / 2\n",
        "plt.scatter(bin_centers, hist, s=10)\n",
        "\n",
        "hat_alpha = alpha_lin_bins(x_train, bins)\n",
        "x_space = np.linspace(x_min, x_train.max(), 100)\n",
        "plt.plot(x_space, power_law_pdf(x_space, hat_alpha, x_min), \n",
        "         label='Estimated PDF', c='tab:orange')\n",
        "plt.legend()\n",
        "plt.title('Truth alpha = {:.2f}, estimated alpha = {:.2f}'.format(alpha, hat_alpha))\n",
        "plt.xscale('log')\n",
        "plt.yscale('log')\n",
        "plt.show()"
      ],
      "execution_count": 134,
      "outputs": [
        {
          "output_type": "display_data",
          "data": {
            "image/png": "[encoded data removed]",
            "text/plain": [
              "<Figure size 432x288 with 1 Axes>"
            ]
          },
          "metadata": {
            "tags": [],
            "needs_background": "light"
          }
        }
      ]
    },
    {
      "cell_type": "markdown",
      "metadata": {
        "id": "F-sFqVVQw_Yq"
      },
      "source": [
        "### Task 4. Estimation of alpha with logarithmic binning (2 points)"
      ]
    },
    {
      "cell_type": "markdown",
      "metadata": {
        "id": "ZRbii_j3w_Yr"
      },
      "source": [
        "As we see the estimation with linear binning is noticeably inaccurate. For logarithmic binning we let the bin sizes increase with the value, making sure that each bin has a comparable number of observations.\n",
        "\n",
        "Write a function `alpha_log_bins` that takes a train set, number of log bins and returns an estimated $\\alpha$.\n",
        "\n",
        "*Hint: use `np.logspace(np.log10(x_min), np.log10(x_train.max()), bins)` to generate an increasing logarithmic sequence of bins*"
      ]
    },
    {
      "cell_type": "code",
      "metadata": {
        "deletable": false,
        "nbgrader": {
          "cell_type": "code",
          "checksum": "f20a7d7035785da992e45b13ecfac97b",
          "grade": false,
          "grade_id": "cell-bc1092822f8126d1",
          "locked": false,
          "schema_version": 3,
          "solution": true,
          "task": false
        },
        "id": "hdA_mLaWw_Yr"
      },
      "source": [
        "from sklearn.linear_model import LinearRegression\n",
        "\n",
        "def alpha_log_bins(x_train, bins):\n",
        "    log_bins = np.logspace(np.log(x_train.min()), np.log(x_train.max()), bins)\n",
        "    hist, bin_edges = np.histogram(x_train, bins=log_bins, density=True)\n",
        "    bin_centers = (bin_edges[1:] + bin_edges[:-1]) / 2\n",
        "    x, y = np.log(bin_centers[hist > 0]).reshape(-1, 1), np.log(hist[hist > 0])\n",
        "    reg = LinearRegression().fit(x, y)\n",
        "    return -reg.coef_[0]"
      ],
      "execution_count": 135,
      "outputs": []
    },
    {
      "cell_type": "code",
      "metadata": {
        "deletable": false,
        "editable": false,
        "nbgrader": {
          "cell_type": "code",
          "checksum": "fdaf8d2b30bf5ffd1142ff90e2c8ae80",
          "grade": true,
          "grade_id": "cell-1bc5eba53dc73dbd",
          "locked": true,
          "points": 2,
          "schema_version": 3,
          "solution": false,
          "task": false
        },
        "id": "-6DFkRQrw_Yr"
      },
      "source": [
        "bins = 100\n",
        "x_train = power_law_generate(1000, x_min=1, alpha=2)\n",
        "assert np.abs(alpha_log_bins(x_train, bins) - 2) < 0.2\n",
        "x_train = power_law_generate(1000, x_min=1, alpha=3.5)\n",
        "assert np.abs(alpha_log_bins(x_train, bins) - 3.5) < 0.5\n",
        "x_train = power_law_generate(1000, x_min=1, alpha=10)\n",
        "assert np.abs(alpha_log_bins(x_train, bins) - 10) < 1.5"
      ],
      "execution_count": 136,
      "outputs": []
    },
    {
      "cell_type": "code",
      "metadata": {
        "colab": {
          "base_uri": "https://localhost:8080/",
          "height": 285
        },
        "id": "5qDbyXmvw_Ys",
        "outputId": "069236a8-9450-4cc6-b444-95ba6be02d66"
      },
      "source": [
        "x_min = 1\n",
        "alpha = 3.5\n",
        "bins = 100\n",
        "\n",
        "x_train = power_law_generate(1000, alpha, x_min)\n",
        "binning = np.logspace(np.log10(x_min), np.log10(x_train.max()), bins)\n",
        "hist, bin_edges = np.histogram(x_train, bins=binning, density=True)\n",
        "bin_centers = (bin_edges[1:] + bin_edges[:-1]) / 2\n",
        "plt.scatter(bin_centers, hist, s=10)\n",
        "\n",
        "hat_alpha = alpha_log_bins(x_train, bins)\n",
        "x_space = np.linspace(x_min, x_train.max(), 100)\n",
        "plt.plot(x_space, power_law_pdf(x_space, hat_alpha, x_min), \n",
        "         label='Estimated PDF', c='tab:orange')\n",
        "plt.legend()\n",
        "plt.title('Truth alpha = {:.2f}, estimated alpha = {:.2f}'.format(alpha, hat_alpha))\n",
        "plt.xscale('log')\n",
        "plt.yscale('log')\n",
        "plt.show()"
      ],
      "execution_count": 137,
      "outputs": [
        {
          "output_type": "display_data",
          "data": {
            "image/png": "[encoded data removed]",
            "text/plain": [
              "<Figure size 432x288 with 1 Axes>"
            ]
          },
          "metadata": {
            "tags": [],
            "needs_background": "light"
          }
        }
      ]
    },
    {
      "cell_type": "markdown",
      "metadata": {
        "id": "7t1sdP8Jw_Yt"
      },
      "source": [
        "### Task 5. Generation graphs with a given degree distribution (0.6 point)"
      ]
    },
    {
      "cell_type": "markdown",
      "metadata": {
        "id": "NDuXuvoIw_Yt"
      },
      "source": [
        "In this task we will generate different types of graph from its degree distributions.\n",
        "\n",
        "__Graph A__ should be described with the density `[0, 2, 10]`."
      ]
    },
    {
      "cell_type": "code",
      "metadata": {
        "colab": {
          "base_uri": "https://localhost:8080/",
          "height": 265
        },
        "id": "GrTwCfEMw_Yt",
        "outputId": "7d41da2c-026a-4c0b-b60d-0ece0f4ea1b0"
      },
      "source": [
        "dens_a = [0, 2, 10]\n",
        "plt.bar(range(len(dens_a)), dens_a);"
      ],
      "execution_count": 138,
      "outputs": [
        {
          "output_type": "display_data",
          "data": {
            "image/png": "[encoded data removed]",
            "text/plain": [
              "<Figure size 432x288 with 1 Axes>"
            ]
          },
          "metadata": {
            "tags": [],
            "needs_background": "light"
          }
        }
      ]
    },
    {
      "cell_type": "code",
      "metadata": {
        "deletable": false,
        "nbgrader": {
          "cell_type": "code",
          "checksum": "7726ebdf8814362b9595c84fe0221e09",
          "grade": false,
          "grade_id": "cell-4308485bfb1bf30e",
          "locked": false,
          "schema_version": 3,
          "solution": true,
          "task": false
        },
        "id": "MBtoZt8Dw_Yu"
      },
      "source": [
        "def generate_graph_a() -> nx.Graph:\n",
        "    return nx.path_graph(12)"
      ],
      "execution_count": 139,
      "outputs": []
    },
    {
      "cell_type": "code",
      "metadata": {
        "deletable": false,
        "editable": false,
        "nbgrader": {
          "cell_type": "code",
          "checksum": "3f1eedc648e3171726e3ed3c949afb83",
          "grade": true,
          "grade_id": "cell-226da2d721eaace4",
          "locked": true,
          "points": 0.15,
          "schema_version": 3,
          "solution": false,
          "task": false
        },
        "id": "48n1wnQ7w_Yu"
      },
      "source": [
        "assert nx.degree_histogram(generate_graph_a()) == dens_a"
      ],
      "execution_count": 140,
      "outputs": []
    },
    {
      "cell_type": "markdown",
      "metadata": {
        "id": "2J5wrE1Bw_Yu"
      },
      "source": [
        "__Graph B__"
      ]
    },
    {
      "cell_type": "code",
      "metadata": {
        "colab": {
          "base_uri": "https://localhost:8080/",
          "height": 265
        },
        "id": "w76r_bghw_Yv",
        "outputId": "d7dc2285-948f-422b-ed29-4709cbbbeb85"
      },
      "source": [
        "dens_b = [0, 0, 10]\n",
        "plt.bar(range(len(dens_b)), dens_b);"
      ],
      "execution_count": 141,
      "outputs": [
        {
          "output_type": "display_data",
          "data": {
            "image/png": "[encoded data removed]",
            "text/plain": [
              "<Figure size 432x288 with 1 Axes>"
            ]
          },
          "metadata": {
            "tags": [],
            "needs_background": "light"
          }
        }
      ]
    },
    {
      "cell_type": "code",
      "metadata": {
        "deletable": false,
        "nbgrader": {
          "cell_type": "code",
          "checksum": "41e7af615198bd34567381ea1b34f56c",
          "grade": false,
          "grade_id": "cell-55d7cfacd5c8d553",
          "locked": false,
          "schema_version": 3,
          "solution": true,
          "task": false
        },
        "id": "awU5aoKsw_Yv"
      },
      "source": [
        "def generate_graph_b() -> nx.Graph:\n",
        "    return nx.cycle_graph(10)"
      ],
      "execution_count": 142,
      "outputs": []
    },
    {
      "cell_type": "code",
      "metadata": {
        "deletable": false,
        "editable": false,
        "nbgrader": {
          "cell_type": "code",
          "checksum": "7447308c0c61ffcff7ad80842ad13fd1",
          "grade": true,
          "grade_id": "cell-11bb8205ad27326a",
          "locked": true,
          "points": 0.15,
          "schema_version": 3,
          "solution": false,
          "task": false
        },
        "id": "l6TdYLAjw_Yw"
      },
      "source": [
        "assert nx.degree_histogram(generate_graph_b()) == dens_b"
      ],
      "execution_count": 143,
      "outputs": []
    },
    {
      "cell_type": "markdown",
      "metadata": {
        "id": "PN8J1B7qw_Yw"
      },
      "source": [
        "__Graph C__"
      ]
    },
    {
      "cell_type": "code",
      "metadata": {
        "colab": {
          "base_uri": "https://localhost:8080/",
          "height": 265
        },
        "id": "QtBhJGRlw_Yw",
        "outputId": "23ef6abd-48bd-4f1f-9add-f74889194de7"
      },
      "source": [
        "dens_c = [0, 0, 0, 0, 5]\n",
        "plt.bar(range(len(dens_c)), dens_c);"
      ],
      "execution_count": 144,
      "outputs": [
        {
          "output_type": "display_data",
          "data": {
            "image/png": "[encoded data removed]",
            "text/plain": [
              "<Figure size 432x288 with 1 Axes>"
            ]
          },
          "metadata": {
            "tags": [],
            "needs_background": "light"
          }
        }
      ]
    },
    {
      "cell_type": "code",
      "metadata": {
        "deletable": false,
        "nbgrader": {
          "cell_type": "code",
          "checksum": "dac931bc16a78ae011fdaab8f99a54ca",
          "grade": false,
          "grade_id": "cell-6ad0ea3f81976162",
          "locked": false,
          "schema_version": 3,
          "solution": true,
          "task": false
        },
        "id": "aJW7WJc7w_Yw"
      },
      "source": [
        "def generate_graph_c() -> nx.Graph:\n",
        "    return nx.complete_graph(5)"
      ],
      "execution_count": 145,
      "outputs": []
    },
    {
      "cell_type": "code",
      "metadata": {
        "deletable": false,
        "editable": false,
        "nbgrader": {
          "cell_type": "code",
          "checksum": "f710e78a7a1e58bb99cc7e4e7f015979",
          "grade": true,
          "grade_id": "cell-508d2e23c067c4d2",
          "locked": true,
          "points": 0.15,
          "schema_version": 3,
          "solution": false,
          "task": false
        },
        "id": "_BpodQ3iw_Yx"
      },
      "source": [
        "assert nx.degree_histogram(generate_graph_c()) == dens_c"
      ],
      "execution_count": 146,
      "outputs": []
    },
    {
      "cell_type": "markdown",
      "metadata": {
        "id": "InnJ2zsNw_Yx"
      },
      "source": [
        "__Graph D__"
      ]
    },
    {
      "cell_type": "code",
      "metadata": {
        "colab": {
          "base_uri": "https://localhost:8080/",
          "height": 265
        },
        "id": "HfkbLoOnw_Yx",
        "outputId": "dc0740ed-0164-47ea-9abb-5a28f8a10519"
      },
      "source": [
        "dens_d = [0, 5, 0, 0, 0, 1]\n",
        "plt.bar(range(len(dens_d)), dens_d);"
      ],
      "execution_count": 147,
      "outputs": [
        {
          "output_type": "display_data",
          "data": {
            "image/png": "[encoded data removed]",
            "text/plain": [
              "<Figure size 432x288 with 1 Axes>"
            ]
          },
          "metadata": {
            "tags": [],
            "needs_background": "light"
          }
        }
      ]
    },
    {
      "cell_type": "code",
      "metadata": {
        "deletable": false,
        "nbgrader": {
          "cell_type": "code",
          "checksum": "f1ab3b74f2b7a677c3844675c785ef5a",
          "grade": false,
          "grade_id": "cell-2a6c0c0fe4dda491",
          "locked": false,
          "schema_version": 3,
          "solution": true,
          "task": false
        },
        "id": "4M-IdUraw_Yy"
      },
      "source": [
        "def generate_graph_d() -> nx.Graph:\n",
        "    return nx.star_graph(5)"
      ],
      "execution_count": 148,
      "outputs": []
    },
    {
      "cell_type": "code",
      "metadata": {
        "deletable": false,
        "editable": false,
        "nbgrader": {
          "cell_type": "code",
          "checksum": "87569732e965a2bb960b4e5b73bb1bbc",
          "grade": true,
          "grade_id": "cell-c9c34144467f9031",
          "locked": true,
          "points": 0.15,
          "schema_version": 3,
          "solution": false,
          "task": false
        },
        "id": "r_-33FSnw_Yy"
      },
      "source": [
        "assert nx.degree_histogram(generate_graph_d()) == dens_d"
      ],
      "execution_count": 149,
      "outputs": []
    },
    {
      "cell_type": "markdown",
      "metadata": {
        "id": "-w_F62clw_Yy"
      },
      "source": [
        "### Task 6. Reading a degree distribution from a file (2 points)"
      ]
    },
    {
      "cell_type": "markdown",
      "metadata": {
        "id": "sm0jZvFCw_Yy"
      },
      "source": [
        "In this task we will estimate CDF of degree distribution of a given graph. Firstly, let us download the Game of Thrones relationships dataset and create a graph."
      ]
    },
    {
      "cell_type": "code",
      "metadata": {
        "id": "O9YYpgjrw_Yy"
      },
      "source": [
        "raw_data = pd.read_csv(\"https://raw.githubusercontent.com/network-science-course/network-science-course/main/datasets/game_of_thrones_relationships.csv\")\n"
      ],
      "execution_count": 150,
      "outputs": []
    },
    {
      "cell_type": "code",
      "metadata": {
        "colab": {
          "base_uri": "https://localhost:8080/",
          "height": 202
        },
        "id": "Bt9RoVKlw_Yz",
        "outputId": "c6b2515f-efcf-4d79-e9d4-3278cf342c4b"
      },
      "source": [
        "raw_data.head()"
      ],
      "execution_count": 151,
      "outputs": [
        {
          "output_type": "execute_result",
          "data": {
            "text/html": [
              "<div>\n",
              "<style scoped>\n",
              "    .dataframe tbody tr th:only-of-type {\n",
              "        vertical-align: middle;\n",
              "    }\n",
              "\n",
              "    .dataframe tbody tr th {\n",
              "        vertical-align: top;\n",
              "    }\n",
              "\n",
              "    .dataframe thead th {\n",
              "        text-align: right;\n",
              "    }\n",
              "</style>\n",
              "<table border=\"1\" class=\"dataframe\">\n",
              "  <thead>\n",
              "    <tr style=\"text-align: right;\">\n",
              "      <th></th>\n",
              "      <th>character1</th>\n",
              "      <th>character2</th>\n",
              "      <th>relationship</th>\n",
              "      <th>type</th>\n",
              "    </tr>\n",
              "  </thead>\n",
              "  <tbody>\n",
              "    <tr>\n",
              "      <th>0</th>\n",
              "      <td>/wiki/Nymeria_Sand</td>\n",
              "      <td>/wiki/Oberyn_Martell</td>\n",
              "      <td>father</td>\n",
              "      <td>biological</td>\n",
              "    </tr>\n",
              "    <tr>\n",
              "      <th>1</th>\n",
              "      <td>/wiki/Bran_Stark</td>\n",
              "      <td>/wiki/Eddard_Stark</td>\n",
              "      <td>father</td>\n",
              "      <td>biological</td>\n",
              "    </tr>\n",
              "    <tr>\n",
              "      <th>2</th>\n",
              "      <td>/wiki/Bran_Stark</td>\n",
              "      <td>/wiki/Catelyn_Stark</td>\n",
              "      <td>mother</td>\n",
              "      <td>NaN</td>\n",
              "    </tr>\n",
              "    <tr>\n",
              "      <th>3</th>\n",
              "      <td>/wiki/Lothar_Frey</td>\n",
              "      <td>/wiki/Walder_Frey</td>\n",
              "      <td>father</td>\n",
              "      <td>biological</td>\n",
              "    </tr>\n",
              "    <tr>\n",
              "      <th>4</th>\n",
              "      <td>/wiki/Robb_Stark</td>\n",
              "      <td>/wiki/Eddard_Stark</td>\n",
              "      <td>father</td>\n",
              "      <td>biological</td>\n",
              "    </tr>\n",
              "  </tbody>\n",
              "</table>\n",
              "</div>"
            ],
            "text/plain": [
              "           character1            character2 relationship        type\n",
              "0  /wiki/Nymeria_Sand  /wiki/Oberyn_Martell       father  biological\n",
              "1    /wiki/Bran_Stark    /wiki/Eddard_Stark       father  biological\n",
              "2    /wiki/Bran_Stark   /wiki/Catelyn_Stark       mother         NaN\n",
              "3   /wiki/Lothar_Frey     /wiki/Walder_Frey       father  biological\n",
              "4    /wiki/Robb_Stark    /wiki/Eddard_Stark       father  biological"
            ]
          },
          "metadata": {
            "tags": []
          },
          "execution_count": 151
        }
      ]
    },
    {
      "cell_type": "code",
      "metadata": {
        "id": "GaZk5kBTw_Yz"
      },
      "source": [
        "g = nx.from_pandas_edgelist(raw_data, source=\"character1\", target=\"character2\")"
      ],
      "execution_count": 152,
      "outputs": []
    },
    {
      "cell_type": "code",
      "metadata": {
        "colab": {
          "base_uri": "https://localhost:8080/",
          "height": 319
        },
        "id": "M9UnqB2pw_Yz",
        "outputId": "d54fb615-a833-48db-95de-ba4d2b360376"
      },
      "source": [
        "nx.draw(g, node_size=10)"
      ],
      "execution_count": 153,
      "outputs": [
        {
          "output_type": "display_data",
          "data": {
            "image/png": "[encoded data removed]",
            "text/plain": [
              "<Figure size 432x288 with 1 Axes>"
            ]
          },
          "metadata": {
            "tags": []
          }
        }
      ]
    },
    {
      "cell_type": "markdown",
      "metadata": {
        "id": "5hyu0LUow_Y0"
      },
      "source": [
        "In the social network analysis, we will often consider the largest connected component only. Before estimation of CDF, we need to remove all connected components except of the largest one.\n",
        "\n",
        "_Hint: use `nx.connected_components` to get a list of nodes for each connected component._"
      ]
    },
    {
      "cell_type": "code",
      "metadata": {
        "deletable": false,
        "nbgrader": {
          "cell_type": "code",
          "checksum": "07e8207f2a0510ee621508841df6acd0",
          "grade": false,
          "grade_id": "cell-37477b43188105f5",
          "locked": false,
          "schema_version": 3,
          "solution": true,
          "task": false
        },
        "id": "CNVNSgthw_Y0"
      },
      "source": [
        "def select_gygantic_component(g: nx.Graph) -> nx.Graph:\n",
        "   max=0\n",
        "   for component in list(nx.connected_components(g)):\n",
        "     if len(component) > max :\n",
        "       max = len(component)\n",
        "   for component in list(nx.connected_components(g)):\n",
        "    if len(component)<max:\n",
        "        for node in component:\n",
        "            g.remove_node(node) \n",
        "\n",
        "   return g\n",
        "    "
      ],
      "execution_count": 154,
      "outputs": []
    },
    {
      "cell_type": "code",
      "metadata": {
        "deletable": false,
        "editable": false,
        "nbgrader": {
          "cell_type": "code",
          "checksum": "9e8ea27b74e04a5eecf05c29c5d5558e",
          "grade": true,
          "grade_id": "cell-00509dc9b42f24ea",
          "locked": true,
          "points": 1,
          "schema_version": 3,
          "solution": false,
          "task": false
        },
        "id": "3BMBwYsjw_Y0"
      },
      "source": [
        "gg = select_gygantic_component(g)\n",
        "assert gg.number_of_edges() == 49\n",
        "assert gg.number_of_nodes() == 37"
      ],
      "execution_count": 155,
      "outputs": []
    },
    {
      "cell_type": "code",
      "metadata": {
        "id": "Q1adfHQXw_Y0",
        "colab": {
          "base_uri": "https://localhost:8080/",
          "height": 319
        },
        "outputId": "933a2bb6-e1b8-4139-bdb5-845fd27d3717"
      },
      "source": [
        "nx.draw(gg, node_size=30)"
      ],
      "execution_count": 156,
      "outputs": [
        {
          "output_type": "display_data",
          "data": {
            "image/png": "[encoded data removed]",
            "text/plain": [
              "<Figure size 432x288 with 1 Axes>"
            ]
          },
          "metadata": {
            "tags": []
          }
        }
      ]
    },
    {
      "cell_type": "markdown",
      "metadata": {
        "id": "iqJOMRsbw_Y1"
      },
      "source": [
        "Now we can calculate an empirical CDF for a given graph. Recall a formal definition of CDF\n",
        "\n",
        "$$F_X(x) = P(X \\leq x)$$\n",
        "\n",
        "And in empirical CDF, we estimate probability by share of nodes.\n",
        "\n",
        "Write a method `empirical_cdf` that takes a graph and returns a np.array of probabilities. The first element is related to the node degree 0, the second — the node degree 1 and so on. The method should be able to group degrees occurence into equaly distributed bins. \n",
        "\n",
        "_Hint: use `nx.degee_histogram` to return a degree histogram — a list of numbers of nodes for each degree._"
      ]
    },
    {
      "cell_type": "code",
      "metadata": {
        "colab": {
          "base_uri": "https://localhost:8080/"
        },
        "id": "GO_zVN43w_Y1",
        "outputId": "1f5d37ad-1419-4cdd-dfa4-65391ad7223a"
      },
      "source": [
        "nx.degree_histogram(g)"
      ],
      "execution_count": 157,
      "outputs": [
        {
          "output_type": "execute_result",
          "data": {
            "text/plain": [
              "[0, 5, 17, 9, 4, 0, 0, 0, 2]"
            ]
          },
          "metadata": {
            "tags": []
          },
          "execution_count": 157
        }
      ]
    },
    {
      "cell_type": "code",
      "metadata": {
        "deletable": false,
        "nbgrader": {
          "cell_type": "code",
          "checksum": "bc0bf47192b76ea6bcdde2ddec48367f",
          "grade": false,
          "grade_id": "cell-cbb478364b51233f",
          "locked": false,
          "schema_version": 3,
          "solution": true,
          "task": false
        },
        "id": "myeQxSAGw_Y1"
      },
      "source": [
        "from itertools import accumulate \n",
        "def empirical_cdf(g: nx.Graph) -> List[float]:\n",
        "    result = [nk * 1.0 / len(g) for nk in accumulate(nx.degree_histogram(g))]\n",
        "    return np.array(result)"
      ],
      "execution_count": 158,
      "outputs": []
    },
    {
      "cell_type": "code",
      "metadata": {
        "colab": {
          "base_uri": "https://localhost:8080/",
          "height": 475
        },
        "id": "oDG_yv1z4Zim",
        "outputId": "a2226ef0-4ccb-423b-d672-dee62145eb63"
      },
      "source": [
        "result = [nk * 1.0 / len(g) for nk in accumulate(nx.degree_histogram(g))]\r\n",
        "x=accumulate(nx.degree_histogram(g))\r\n",
        "for i in x:\r\n",
        " print(i)\r\n",
        "len(g)\r\n",
        "nx.draw(g)"
      ],
      "execution_count": 159,
      "outputs": [
        {
          "output_type": "stream",
          "text": [
            "0\n",
            "5\n",
            "22\n",
            "31\n",
            "35\n",
            "35\n",
            "35\n",
            "35\n",
            "37\n"
          ],
          "name": "stdout"
        },
        {
          "output_type": "display_data",
          "data": {
            "image/png": "[encoded data removed]",
            "text/plain": [
              "<Figure size 432x288 with 1 Axes>"
            ]
          },
          "metadata": {
            "tags": []
          }
        }
      ]
    },
    {
      "cell_type": "code",
      "metadata": {
        "deletable": false,
        "editable": false,
        "nbgrader": {
          "cell_type": "code",
          "checksum": "9ab0814dc4b3d51e6e7fa7db68fd2dda",
          "grade": true,
          "grade_id": "cell-a1fd6b06aff25d78",
          "locked": true,
          "points": 1,
          "schema_version": 3,
          "solution": false,
          "task": false
        },
        "colab": {
          "base_uri": "https://localhost:8080/"
        },
        "id": "_mF7x-NJw_Y2",
        "outputId": "43d976c2-570c-448c-e615-b180adbd6ddf"
      },
      "source": [
        "ecdf = empirical_cdf(gg)\n",
        "print(ecdf)\n",
        "assert ecdf[0] == 0\n",
        "assert ecdf[-1] == 1\n",
        "assert np.all(ecdf[:-1] <= ecdf[1:])\n",
        "assert adler32(str(empirical_cdf(gg).round(4).sum()).encode()) == 70123823"
      ],
      "execution_count": 160,
      "outputs": [
        {
          "output_type": "stream",
          "text": [
            "[0.         0.13513514 0.59459459 0.83783784 0.94594595 0.94594595\n",
            " 0.94594595 0.94594595 1.        ]\n"
          ],
          "name": "stdout"
        }
      ]
    },
    {
      "cell_type": "code",
      "metadata": {
        "colab": {
          "base_uri": "https://localhost:8080/",
          "height": 295
        },
        "id": "qI-PZrnFw_Y2",
        "outputId": "028a4107-b305-43cf-f83b-28249698f721"
      },
      "source": [
        "plt.plot(ecdf)\n",
        "plt.xlabel('degree')\n",
        "plt.ylabel('probability')\n",
        "plt.title('Empirical CDF')\n",
        "plt.show()"
      ],
      "execution_count": 161,
      "outputs": [
        {
          "output_type": "display_data",
          "data": {
            "image/png": "[encoded data removed]",
            "text/plain": [
              "<Figure size 432x288 with 1 Axes>"
            ]
          },
          "metadata": {
            "tags": [],
            "needs_background": "light"
          }
        }
      ]
    },
    {
      "cell_type": "markdown",
      "metadata": {
        "id": "Iayj7TVLw_Y2"
      },
      "source": [
        "### Task 7. MLE of alpha in Power Law (3 points)"
      ]
    },
    {
      "cell_type": "markdown",
      "metadata": {
        "id": "qWR6HgGxw_Y2"
      },
      "source": [
        "Let us estimate $\\alpha$ and $x_\\min$ of a real social network using maximum likelihood. Here is a real degree distribution of the network of emails between members of the research institution with 1005 nodes."
      ]
    },
    {
      "cell_type": "code",
      "metadata": {
        "id": "UOIPcda6w_Y3"
      },
      "source": [
        "url = 'https://raw.githubusercontent.com/network-science-course/network-science-course/main/datasets/email_degree_sequence.txt'\n",
        "open('email_degree_sequence.txt', 'wb').write(requests.get(url).content);\n"
      ],
      "execution_count": 162,
      "outputs": []
    },
    {
      "cell_type": "code",
      "metadata": {
        "colab": {
          "base_uri": "https://localhost:8080/",
          "height": 1000
        },
        "id": "V0aouPExw_Y3",
        "outputId": "a723e430-4626-44c9-f22b-2a2e549438d3"
      },
      "source": [
        "degree_sequence = np.loadtxt('email_degree_sequence.txt')\n",
        "hist, bin_edges = np.histogram(degree_sequence, bins=1000, density=True)\n",
        "bin_centers = (bin_edges[1:] + bin_edges[:-1]) / 2\n",
        "plt.scatter(bin_centers[hist > 0], hist[hist > 0], s=5)\n",
        "plt.title('Princeton Facebook network degree distribution')\n",
        "plt.xscale('log')\n",
        "#plt.yscale('log')\n",
        "print(np.sort(degree_sequence)[400:1000])"
      ],
      "execution_count": 163,
      "outputs": [
        {
          "output_type": "stream",
          "text": [
            "[ 15.  16.  16.  16.  16.  16.  16.  16.  16.  16.  16.  16.  16.  17.\n",
            "  17.  17.  17.  17.  17.  17.  17.  17.  18.  18.  18.  18.  18.  18.\n",
            "  18.  18.  18.  18.  18.  18.  19.  19.  19.  19.  19.  19.  19.  19.\n",
            "  19.  19.  19.  19.  19.  19.  19.  20.  20.  20.  20.  20.  20.  20.\n",
            "  20.  20.  20.  20.  20.  20.  20.  20.  20.  20.  20.  21.  21.  21.\n",
            "  21.  21.  21.  21.  21.  21.  21.  21.  21.  21.  21.  21.  22.  22.\n",
            "  22.  22.  22.  22.  22.  22.  22.  22.  22.  22.  22.  22.  22.  22.\n",
            "  23.  23.  23.  23.  23.  23.  23.  23.  23.  23.  23.  23.  23.  24.\n",
            "  24.  24.  24.  24.  24.  24.  24.  24.  24.  24.  24.  24.  24.  24.\n",
            "  24.  25.  25.  25.  25.  25.  25.  25.  25.  25.  25.  25.  25.  25.\n",
            "  25.  25.  25.  25.  25.  26.  26.  26.  26.  26.  26.  26.  26.  26.\n",
            "  26.  26.  26.  26.  26.  27.  27.  27.  27.  27.  27.  27.  27.  27.\n",
            "  27.  27.  28.  28.  28.  28.  28.  28.  28.  28.  28.  28.  28.  28.\n",
            "  29.  29.  29.  29.  29.  29.  29.  29.  29.  29.  29.  29.  29.  29.\n",
            "  29.  29.  29.  29.  29.  29.  30.  30.  30.  30.  30.  30.  30.  30.\n",
            "  30.  30.  30.  30.  30.  30.  30.  30.  30.  30.  30.  31.  31.  31.\n",
            "  31.  31.  31.  31.  31.  31.  31.  31.  32.  32.  32.  32.  32.  32.\n",
            "  32.  32.  32.  32.  33.  33.  33.  33.  33.  33.  33.  33.  34.  34.\n",
            "  34.  34.  34.  34.  34.  34.  34.  35.  35.  35.  35.  35.  35.  35.\n",
            "  35.  36.  36.  36.  36.  36.  36.  36.  36.  36.  36.  36.  37.  37.\n",
            "  37.  37.  37.  37.  37.  37.  37.  37.  37.  38.  38.  38.  38.  38.\n",
            "  38.  38.  38.  38.  39.  39.  39.  39.  39.  39.  40.  40.  40.  40.\n",
            "  40.  40.  40.  41.  41.  41.  41.  41.  41.  41.  41.  41.  42.  42.\n",
            "  42.  42.  42.  42.  42.  42.  43.  43.  43.  43.  43.  43.  43.  44.\n",
            "  44.  44.  44.  44.  44.  44.  45.  45.  45.  45.  45.  45.  45.  45.\n",
            "  45.  46.  46.  46.  46.  46.  46.  46.  46.  46.  47.  47.  47.  47.\n",
            "  47.  47.  47.  47.  48.  48.  48.  48.  48.  48.  48.  49.  49.  49.\n",
            "  49.  49.  50.  50.  50.  50.  50.  50.  51.  51.  51.  51.  51.  51.\n",
            "  51.  51.  51.  52.  52.  52.  52.  52.  52.  52.  52.  53.  53.  53.\n",
            "  53.  53.  53.  53.  54.  54.  54.  54.  54.  54.  54.  55.  55.  55.\n",
            "  55.  55.  55.  55.  55.  56.  56.  56.  56.  56.  57.  57.  57.  57.\n",
            "  58.  58.  58.  59.  59.  59.  60.  60.  60.  60.  61.  61.  61.  61.\n",
            "  61.  62.  62.  62.  62.  62.  63.  63.  63.  63.  63.  63.  64.  64.\n",
            "  64.  64.  64.  65.  65.  66.  67.  67.  68.  68.  68.  69.  69.  70.\n",
            "  70.  70.  70.  71.  71.  71.  71.  71.  72.  72.  72.  72.  73.  73.\n",
            "  73.  73.  73.  74.  74.  74.  74.  74.  74.  75.  76.  76.  76.  77.\n",
            "  78.  79.  80.  80.  80.  81.  81.  82.  83.  83.  83.  83.  83.  84.\n",
            "  84.  84.  84.  84.  84.  85.  85.  85.  86.  86.  86.  86.  87.  87.\n",
            "  88.  89.  91.  91.  91.  92.  92.  92.  93.  95.  96.  97.  98.  98.\n",
            "  99. 101. 101. 103. 105. 106. 106. 106. 107. 108. 110. 111. 113. 115.\n",
            " 116. 119. 119. 120. 121. 121. 122. 124. 125. 126. 129. 130. 131. 131.\n",
            " 132. 134. 135. 137. 138. 138. 139. 139. 141. 141. 142. 142. 142. 146.\n",
            " 146. 154. 157. 164. 168. 170. 171. 173. 177. 180. 185. 216.]\n"
          ],
          "name": "stdout"
        },
        {
          "output_type": "display_data",
          "data": {
            "image/png": "[encoded data removed]",
            "text/plain": [
              "<Figure size 432x288 with 1 Axes>"
            ]
          },
          "metadata": {
            "tags": [],
            "needs_background": "light"
          }
        }
      ]
    },
    {
      "cell_type": "markdown",
      "metadata": {
        "id": "zcOX4Cevw_Y3"
      },
      "source": [
        "The MLE consists of:\n",
        "1. Fix $x_\\min$ as a minimal node degree (drop node degrees that less than $x_\\min$)\n",
        "2. Calculate $\\alpha$ via maximum likelihood estimation using fixed $x_\\min$\n",
        "$$\\alpha = 1 + n \\left[\\sum_i \\log \\frac{x_i}{x_\\min} \\right]^{-1}$$\n",
        "3. Calculate Kolmogorov-Smirnov test\n",
        "4. Fix $x_\\min$ as the next node degree\n",
        "5. Repeat 2-4 by scanning all possible $x_\\min$ and find the best $\\alpha$ and $x_\\min$ with respect to Kolmogorov-Smirnov test\n",
        "\n",
        "Write a function `ml_power_law_params` that takes a node degree sequence `degree_sequence` and returns a tuple of two values: the best $\\alpha$ and $x_\\min$.\n",
        "\n",
        "_Hints:_\n",
        "* _To calculate Kolmogorov-Smirnov distance use `scipy.stats.kstest` with a parameter `cdf=power_law_cdf`_"
      ]
    },
    {
      "cell_type": "code",
      "metadata": {
        "id": "-vdwXIw33ng9"
      },
      "source": [
        "import scipy\r\n",
        "def mle_power_law_params(degree_sequence):\r\n",
        "  \r\n",
        "  x=np.sort(degree_sequence)\r\n",
        "  x_mins=x[:-1]\r\n",
        "  x_mins=[float('{:.1f}'.format(i)) for i in x_mins]\r\n",
        "  x_mins=list(set(x_mins))\r\n",
        "  best_stat=10000000000000.0\r\n",
        "  for x_min in x_mins:\r\n",
        "   new=x[x>=x_min]\r\n",
        "   \r\n",
        "   alpha = 1 + len(new)/(np.sum(np.log(new/x_min)))\r\n",
        "   \r\n",
        "   s ,p=scipy.stats.kstest(new ,cdf= lambda a:power_law_cdf(a,alpha,x_min))\r\n",
        " \r\n",
        "   if s < best_stat:\r\n",
        "     best_stat=s\r\n",
        "     best_alpha=alpha\r\n",
        "     best_x_min=x_min\r\n",
        "\r\n",
        "  return best_alpha,best_x_min\r\n",
        "\r\n",
        "\r\n"
      ],
      "execution_count": 164,
      "outputs": []
    },
    {
      "cell_type": "code",
      "metadata": {
        "deletable": false,
        "editable": false,
        "nbgrader": {
          "cell_type": "code",
          "checksum": "efcacc9ad86394f0fb939e7c9d8dad7a",
          "grade": true,
          "grade_id": "cell-213992ed205e9591",
          "locked": true,
          "points": 3,
          "schema_version": 3,
          "solution": false,
          "task": false
        },
        "colab": {
          "base_uri": "https://localhost:8080/"
        },
        "id": "kmcxzrCmw_Y4",
        "outputId": "be40b78d-cac6-4f68-ac95-d8f9a550488a"
      },
      "source": [
        "alpha, x_min = 3.5, 3\n",
        "hat_alpha, hat_x_min = mle_power_law_params(power_law_generate(1000, alpha, x_min))\n",
        "print(np.abs(hat_alpha - alpha))\n",
        "print(np.abs(hat_x_min - x_min))\n",
        "assert np.abs(hat_alpha - alpha) < 0.05\n",
        "assert np.abs(hat_x_min - x_min) < 0.001\n",
        "\n",
        "alpha, x_min = 7, 1\n",
        "hat_alpha, hat_x_min = mle_power_law_params(power_law_generate(1000, alpha, x_min))\n",
        "assert np.abs(hat_alpha - alpha) < 0.1\n",
        "assert np.abs(hat_x_min - x_min) < 0.0001\n",
        "\n",
        "hat_alpha, hat_x_min = mle_power_law_params(degree_sequence)\n",
        "print(np.abs(hat_alpha ))\n",
        "print(np.abs(hat_x_min ))\n",
        "assert np.abs(hat_alpha - 2.9) < 0.1\n",
        "assert np.abs(hat_x_min - 42) < 1"
      ],
      "execution_count": 165,
      "outputs": [
        {
          "output_type": "stream",
          "text": [
            "0.03190426223623044\n",
            "0.0\n",
            "2.8930681633685977\n",
            "42.0\n"
          ],
          "name": "stdout"
        }
      ]
    },
    {
      "cell_type": "code",
      "metadata": {
        "id": "1hCZVOq4w_Y4",
        "colab": {
          "base_uri": "https://localhost:8080/",
          "height": 285
        },
        "outputId": "7dd926b4-f644-4410-b6f7-b784aab9b042"
      },
      "source": [
        "hist, bin_edges = np.histogram(degree_sequence, bins=1000, density=True)\n",
        "bin_centers = (bin_edges[1:] + bin_edges[:-1]) / 2\n",
        "plt.scatter(bin_centers[hist > 0], hist[hist > 0], s=5)\n",
        "plt.title('Princeton Facebook network degree distribution')\n",
        "\n",
        "hat_alpha, hat_x_min = mle_power_law_params(degree_sequence)\n",
        "x_space = np.linspace(hat_x_min, degree_sequence.max(), 100)\n",
        "plt.plot(x_space, power_law_pdf(x_space, hat_alpha, hat_x_min), \n",
        "         label='Estimated PDF', c='tab:orange')\n",
        "plt.xscale('log')\n",
        "plt.yscale('log')\n",
        "plt.ylim(0.001, 0.5);"
      ],
      "execution_count": 166,
      "outputs": [
        {
          "output_type": "display_data",
          "data": {
            "image/png": "[encoded data removed]",
            "text/plain": [
              "<Figure size 432x288 with 1 Axes>"
            ]
          },
          "metadata": {
            "tags": [],
            "needs_background": "light"
          }
        }
      ]
    },
    {
      "cell_type": "markdown",
      "metadata": {
        "id": "PXHGTIKLw_Y5"
      },
      "source": [
        "### Task 8. QQ plot (0.6 point)"
      ]
    },
    {
      "cell_type": "markdown",
      "metadata": {
        "id": "lCG0pVvnw_Y5"
      },
      "source": [
        "It might be useful to draw a quantile-quantile plot (QQ plot) to compare empirical and theoretical distributions by the eye. Your task here is to generate Power Law observations by given parameters and compare theoretical and empirical quantiles.\n",
        "\n",
        "Write a function `qqplot_data` that takes $\\alpha$, $x_\\min$, number of observations $n$ that will be generated and returns a tuple with two np.arrays: theoretical quantiles and empirical quantiles. Let quantiles be calculated for probabilities 0, 0.01, 0.02, ..., 0.99.\n",
        "\n",
        "_Hint: to calculate an empirical quantile, use `np.quantile`_"
      ]
    },
    {
      "cell_type": "code",
      "metadata": {
        "deletable": false,
        "nbgrader": {
          "cell_type": "code",
          "checksum": "8eec986886f46027e0d0884381921de0",
          "grade": false,
          "grade_id": "cell-7536b41d94152420",
          "locked": false,
          "schema_version": 3,
          "solution": true,
          "task": false
        },
        "id": "DtekGFPgw_Y5"
      },
      "source": [
        "def qqplot_data(alpha, x_min, n):\n",
        "    q=np.linspace(0,0.99,100)\n",
        "    param2=np.quantile(power_law_generate(n,alpha,x_min),q)\n",
        "    param1=(1-q)**(1-alpha)*x_min\n",
        "\n",
        "    return param1,param2"
      ],
      "execution_count": 167,
      "outputs": []
    },
    {
      "cell_type": "code",
      "metadata": {
        "deletable": false,
        "editable": false,
        "nbgrader": {
          "cell_type": "code",
          "checksum": "cb13371548049cc2ba8c8b0b2d7117bf",
          "grade": true,
          "grade_id": "cell-cee74bedb007dbfa",
          "locked": true,
          "points": 0.6,
          "schema_version": 3,
          "solution": false,
          "task": false
        },
        "id": "AvQwIODlw_Y6"
      },
      "source": [
        "x_min = 1\n",
        "alpha = 3.5\n",
        "\n",
        "theor100, empir100 = qqplot_data(alpha, x_min, 100)\n",
        "theor200, empir200 = qqplot_data(alpha, x_min, 200)\n",
        "theor1000, empir1000 = qqplot_data(alpha, x_min, 1000)\n",
        "assert np.linalg.norm(theor1000 - empir1000) < np.linalg.norm(theor200 - empir200)\n",
        "assert np.linalg.norm(theor200 - empir200) < np.linalg.norm(theor100 - empir100)"
      ],
      "execution_count": 168,
      "outputs": []
    },
    {
      "cell_type": "code",
      "metadata": {
        "id": "jePfrf_Pw_Y6",
        "colab": {
          "base_uri": "https://localhost:8080/",
          "height": 241
        },
        "outputId": "1aa45f58-e9cb-43a8-d31d-bee5bd7ef0fb"
      },
      "source": [
        "plt.figure(figsize=(12, 3))\n",
        "\n",
        "plt.subplots_adjust(wspace=0.3)\n",
        "\n",
        "plt.subplot(1, 3, 1)\n",
        "plt.scatter(theor100, empir100, s=10)\n",
        "plt.plot([1, 7], [1, 7], '--', c='tab:orange')\n",
        "plt.title('QQ plot, N = 100')\n",
        "plt.xlabel('Theoretical distribution')\n",
        "plt.ylabel('Empirical distribution')\n",
        "plt.axis('square')\n",
        "\n",
        "plt.subplot(1, 3, 2)\n",
        "plt.scatter(theor200, empir200, s=10)\n",
        "plt.plot([1, 7], [1, 7], '--', c='tab:orange')\n",
        "plt.title('QQ plot, N = 200')\n",
        "plt.xlabel('Theoretical distribution')\n",
        "plt.ylabel('Empirical distribution')\n",
        "plt.axis('square')\n",
        "\n",
        "plt.subplot(1, 3, 3)\n",
        "plt.scatter(theor1000, empir1000, s=10)\n",
        "plt.plot([1, 7], [1, 7], '--', c='tab:orange')\n",
        "plt.title('QQ plot, N = 1000')\n",
        "plt.xlabel('Theoretical distribution')\n",
        "plt.ylabel('Empirical distribution')\n",
        "plt.axis('square');"
      ],
      "execution_count": 169,
      "outputs": [
        {
          "output_type": "display_data",
          "data": {
            "image/png": "[encoded data removed]",
            "text/plain": [
              "<Figure size 864x216 with 3 Axes>"
            ]
          },
          "metadata": {
            "tags": [],
            "needs_background": "light"
          }
        }
      ]
    },
    {
      "cell_type": "code",
      "metadata": {
        "id": "N_fcgH8dw_Y6"
      },
      "source": [
        ""
      ],
      "execution_count": 169,
      "outputs": []
    }
  ]
}