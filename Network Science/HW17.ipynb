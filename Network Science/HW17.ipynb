{
  "nbformat": 4,
  "nbformat_minor": 0,
  "metadata": {
    "kernelspec": {
      "display_name": "Python 3",
      "language": "python",
      "name": "python3"
    },
    "language_info": {
      "codemirror_mode": {
        "name": "ipython",
        "version": 3
      },
      "file_extension": ".py",
      "mimetype": "text/x-python",
      "name": "python",
      "nbconvert_exporter": "python",
      "pygments_lexer": "ipython3",
      "version": "3.7.6"
    },
    "colab": {
      "name": "HW17.ipynb",
      "provenance": [],
      "collapsed_sections": [
        "l1RRmMW7x7Wx"
      ]
    },
    "widgets": {
      "application/vnd.jupyter.widget-state+json": {
        "32a437c7179c417186fb6628b2111b50": {
          "model_module": "@jupyter-widgets/controls",
          "model_name": "HBoxModel",
          "state": {
            "_view_name": "HBoxView",
            "_dom_classes": [],
            "_model_name": "HBoxModel",
            "_view_module": "@jupyter-widgets/controls",
            "_model_module_version": "1.5.0",
            "_view_count": null,
            "_view_module_version": "1.5.0",
            "box_style": "",
            "layout": "IPY_MODEL_8d089c4512f94435bb6ce8e8b22b9024",
            "_model_module": "@jupyter-widgets/controls",
            "children": [
              "IPY_MODEL_a00746b3284d440aa142d2b39ec2de7e",
              "IPY_MODEL_cda41fd7a8b74fda8ee8f918d4e52ab2"
            ]
          }
        },
        "8d089c4512f94435bb6ce8e8b22b9024": {
          "model_module": "@jupyter-widgets/base",
          "model_name": "LayoutModel",
          "state": {
            "_view_name": "LayoutView",
            "grid_template_rows": null,
            "right": null,
            "justify_content": null,
            "_view_module": "@jupyter-widgets/base",
            "overflow": null,
            "_model_module_version": "1.2.0",
            "_view_count": null,
            "flex_flow": null,
            "width": null,
            "min_width": null,
            "border": null,
            "align_items": null,
            "bottom": null,
            "_model_module": "@jupyter-widgets/base",
            "top": null,
            "grid_column": null,
            "overflow_y": null,
            "overflow_x": null,
            "grid_auto_flow": null,
            "grid_area": null,
            "grid_template_columns": null,
            "flex": null,
            "_model_name": "LayoutModel",
            "justify_items": null,
            "grid_row": null,
            "max_height": null,
            "align_content": null,
            "visibility": null,
            "align_self": null,
            "height": null,
            "min_height": null,
            "padding": null,
            "grid_auto_rows": null,
            "grid_gap": null,
            "max_width": null,
            "order": null,
            "_view_module_version": "1.2.0",
            "grid_template_areas": null,
            "object_position": null,
            "object_fit": null,
            "grid_auto_columns": null,
            "margin": null,
            "display": null,
            "left": null
          }
        },
        "a00746b3284d440aa142d2b39ec2de7e": {
          "model_module": "@jupyter-widgets/controls",
          "model_name": "FloatProgressModel",
          "state": {
            "_view_name": "ProgressView",
            "style": "IPY_MODEL_652e388d692d44d3b21b9fe0f97b2d4d",
            "_dom_classes": [],
            "description": "Epoch 250 | mean loss: 32.31570: 100%",
            "_model_name": "FloatProgressModel",
            "bar_style": "success",
            "max": 250,
            "_view_module": "@jupyter-widgets/controls",
            "_model_module_version": "1.5.0",
            "value": 250,
            "_view_count": null,
            "_view_module_version": "1.5.0",
            "orientation": "horizontal",
            "min": 0,
            "description_tooltip": null,
            "_model_module": "@jupyter-widgets/controls",
            "layout": "IPY_MODEL_672d5c7c10054b138de83e978acfb3b9"
          }
        },
        "cda41fd7a8b74fda8ee8f918d4e52ab2": {
          "model_module": "@jupyter-widgets/controls",
          "model_name": "HTMLModel",
          "state": {
            "_view_name": "HTMLView",
            "style": "IPY_MODEL_3367555489844acf9750e4cf1f472b76",
            "_dom_classes": [],
            "description": "",
            "_model_name": "HTMLModel",
            "placeholder": "​",
            "_view_module": "@jupyter-widgets/controls",
            "_model_module_version": "1.5.0",
            "value": " 250/250 [19:43&lt;00:00,  4.73s/epoch]",
            "_view_count": null,
            "_view_module_version": "1.5.0",
            "description_tooltip": null,
            "_model_module": "@jupyter-widgets/controls",
            "layout": "IPY_MODEL_d8432aa339f540c69cb530de3256599f"
          }
        },
        "652e388d692d44d3b21b9fe0f97b2d4d": {
          "model_module": "@jupyter-widgets/controls",
          "model_name": "ProgressStyleModel",
          "state": {
            "_view_name": "StyleView",
            "_model_name": "ProgressStyleModel",
            "description_width": "initial",
            "_view_module": "@jupyter-widgets/base",
            "_model_module_version": "1.5.0",
            "_view_count": null,
            "_view_module_version": "1.2.0",
            "bar_color": null,
            "_model_module": "@jupyter-widgets/controls"
          }
        },
        "672d5c7c10054b138de83e978acfb3b9": {
          "model_module": "@jupyter-widgets/base",
          "model_name": "LayoutModel",
          "state": {
            "_view_name": "LayoutView",
            "grid_template_rows": null,
            "right": null,
            "justify_content": null,
            "_view_module": "@jupyter-widgets/base",
            "overflow": null,
            "_model_module_version": "1.2.0",
            "_view_count": null,
            "flex_flow": null,
            "width": null,
            "min_width": null,
            "border": null,
            "align_items": null,
            "bottom": null,
            "_model_module": "@jupyter-widgets/base",
            "top": null,
            "grid_column": null,
            "overflow_y": null,
            "overflow_x": null,
            "grid_auto_flow": null,
            "grid_area": null,
            "grid_template_columns": null,
            "flex": null,
            "_model_name": "LayoutModel",
            "justify_items": null,
            "grid_row": null,
            "max_height": null,
            "align_content": null,
            "visibility": null,
            "align_self": null,
            "height": null,
            "min_height": null,
            "padding": null,
            "grid_auto_rows": null,
            "grid_gap": null,
            "max_width": null,
            "order": null,
            "_view_module_version": "1.2.0",
            "grid_template_areas": null,
            "object_position": null,
            "object_fit": null,
            "grid_auto_columns": null,
            "margin": null,
            "display": null,
            "left": null
          }
        },
        "3367555489844acf9750e4cf1f472b76": {
          "model_module": "@jupyter-widgets/controls",
          "model_name": "DescriptionStyleModel",
          "state": {
            "_view_name": "StyleView",
            "_model_name": "DescriptionStyleModel",
            "description_width": "",
            "_view_module": "@jupyter-widgets/base",
            "_model_module_version": "1.5.0",
            "_view_count": null,
            "_view_module_version": "1.2.0",
            "_model_module": "@jupyter-widgets/controls"
          }
        },
        "d8432aa339f540c69cb530de3256599f": {
          "model_module": "@jupyter-widgets/base",
          "model_name": "LayoutModel",
          "state": {
            "_view_name": "LayoutView",
            "grid_template_rows": null,
            "right": null,
            "justify_content": null,
            "_view_module": "@jupyter-widgets/base",
            "overflow": null,
            "_model_module_version": "1.2.0",
            "_view_count": null,
            "flex_flow": null,
            "width": null,
            "min_width": null,
            "border": null,
            "align_items": null,
            "bottom": null,
            "_model_module": "@jupyter-widgets/base",
            "top": null,
            "grid_column": null,
            "overflow_y": null,
            "overflow_x": null,
            "grid_auto_flow": null,
            "grid_area": null,
            "grid_template_columns": null,
            "flex": null,
            "_model_name": "LayoutModel",
            "justify_items": null,
            "grid_row": null,
            "max_height": null,
            "align_content": null,
            "visibility": null,
            "align_self": null,
            "height": null,
            "min_height": null,
            "padding": null,
            "grid_auto_rows": null,
            "grid_gap": null,
            "max_width": null,
            "order": null,
            "_view_module_version": "1.2.0",
            "grid_template_areas": null,
            "object_position": null,
            "object_fit": null,
            "grid_auto_columns": null,
            "margin": null,
            "display": null,
            "left": null
          }
        },
        "cb6869eafbe0484fa30a3167762c2fb6": {
          "model_module": "@jupyter-widgets/controls",
          "model_name": "HBoxModel",
          "state": {
            "_view_name": "HBoxView",
            "_dom_classes": [],
            "_model_name": "HBoxModel",
            "_view_module": "@jupyter-widgets/controls",
            "_model_module_version": "1.5.0",
            "_view_count": null,
            "_view_module_version": "1.5.0",
            "box_style": "",
            "layout": "IPY_MODEL_7b36c0dfd321403091549b77bc77bc9b",
            "_model_module": "@jupyter-widgets/controls",
            "children": [
              "IPY_MODEL_f41a41fa3dc443fc920fc2497ddce649",
              "IPY_MODEL_e8b15ff0b3af4ba5a51db7b953fe1676"
            ]
          }
        },
        "7b36c0dfd321403091549b77bc77bc9b": {
          "model_module": "@jupyter-widgets/base",
          "model_name": "LayoutModel",
          "state": {
            "_view_name": "LayoutView",
            "grid_template_rows": null,
            "right": null,
            "justify_content": null,
            "_view_module": "@jupyter-widgets/base",
            "overflow": null,
            "_model_module_version": "1.2.0",
            "_view_count": null,
            "flex_flow": null,
            "width": null,
            "min_width": null,
            "border": null,
            "align_items": null,
            "bottom": null,
            "_model_module": "@jupyter-widgets/base",
            "top": null,
            "grid_column": null,
            "overflow_y": null,
            "overflow_x": null,
            "grid_auto_flow": null,
            "grid_area": null,
            "grid_template_columns": null,
            "flex": null,
            "_model_name": "LayoutModel",
            "justify_items": null,
            "grid_row": null,
            "max_height": null,
            "align_content": null,
            "visibility": null,
            "align_self": null,
            "height": null,
            "min_height": null,
            "padding": null,
            "grid_auto_rows": null,
            "grid_gap": null,
            "max_width": null,
            "order": null,
            "_view_module_version": "1.2.0",
            "grid_template_areas": null,
            "object_position": null,
            "object_fit": null,
            "grid_auto_columns": null,
            "margin": null,
            "display": null,
            "left": null
          }
        },
        "f41a41fa3dc443fc920fc2497ddce649": {
          "model_module": "@jupyter-widgets/controls",
          "model_name": "FloatProgressModel",
          "state": {
            "_view_name": "ProgressView",
            "style": "IPY_MODEL_eff5534bdf494e3386cf69458c718401",
            "_dom_classes": [],
            "description": "100%",
            "_model_name": "FloatProgressModel",
            "bar_style": "success",
            "max": 50,
            "_view_module": "@jupyter-widgets/controls",
            "_model_module_version": "1.5.0",
            "value": 50,
            "_view_count": null,
            "_view_module_version": "1.5.0",
            "orientation": "horizontal",
            "min": 0,
            "description_tooltip": null,
            "_model_module": "@jupyter-widgets/controls",
            "layout": "IPY_MODEL_ab6dc909d0564167bbbd9af486fe8cd0"
          }
        },
        "e8b15ff0b3af4ba5a51db7b953fe1676": {
          "model_module": "@jupyter-widgets/controls",
          "model_name": "HTMLModel",
          "state": {
            "_view_name": "HTMLView",
            "style": "IPY_MODEL_cf71e316943743d6b8092bd8abf9231e",
            "_dom_classes": [],
            "description": "",
            "_model_name": "HTMLModel",
            "placeholder": "​",
            "_view_module": "@jupyter-widgets/controls",
            "_model_module_version": "1.5.0",
            "value": " 50/50 [00:59&lt;00:00,  1.18s/it]",
            "_view_count": null,
            "_view_module_version": "1.5.0",
            "description_tooltip": null,
            "_model_module": "@jupyter-widgets/controls",
            "layout": "IPY_MODEL_d14bf4e1e479451da52166c269adab5a"
          }
        },
        "eff5534bdf494e3386cf69458c718401": {
          "model_module": "@jupyter-widgets/controls",
          "model_name": "ProgressStyleModel",
          "state": {
            "_view_name": "StyleView",
            "_model_name": "ProgressStyleModel",
            "description_width": "initial",
            "_view_module": "@jupyter-widgets/base",
            "_model_module_version": "1.5.0",
            "_view_count": null,
            "_view_module_version": "1.2.0",
            "bar_color": null,
            "_model_module": "@jupyter-widgets/controls"
          }
        },
        "ab6dc909d0564167bbbd9af486fe8cd0": {
          "model_module": "@jupyter-widgets/base",
          "model_name": "LayoutModel",
          "state": {
            "_view_name": "LayoutView",
            "grid_template_rows": null,
            "right": null,
            "justify_content": null,
            "_view_module": "@jupyter-widgets/base",
            "overflow": null,
            "_model_module_version": "1.2.0",
            "_view_count": null,
            "flex_flow": null,
            "width": null,
            "min_width": null,
            "border": null,
            "align_items": null,
            "bottom": null,
            "_model_module": "@jupyter-widgets/base",
            "top": null,
            "grid_column": null,
            "overflow_y": null,
            "overflow_x": null,
            "grid_auto_flow": null,
            "grid_area": null,
            "grid_template_columns": null,
            "flex": null,
            "_model_name": "LayoutModel",
            "justify_items": null,
            "grid_row": null,
            "max_height": null,
            "align_content": null,
            "visibility": null,
            "align_self": null,
            "height": null,
            "min_height": null,
            "padding": null,
            "grid_auto_rows": null,
            "grid_gap": null,
            "max_width": null,
            "order": null,
            "_view_module_version": "1.2.0",
            "grid_template_areas": null,
            "object_position": null,
            "object_fit": null,
            "grid_auto_columns": null,
            "margin": null,
            "display": null,
            "left": null
          }
        },
        "cf71e316943743d6b8092bd8abf9231e": {
          "model_module": "@jupyter-widgets/controls",
          "model_name": "DescriptionStyleModel",
          "state": {
            "_view_name": "StyleView",
            "_model_name": "DescriptionStyleModel",
            "description_width": "",
            "_view_module": "@jupyter-widgets/base",
            "_model_module_version": "1.5.0",
            "_view_count": null,
            "_view_module_version": "1.2.0",
            "_model_module": "@jupyter-widgets/controls"
          }
        },
        "d14bf4e1e479451da52166c269adab5a": {
          "model_module": "@jupyter-widgets/base",
          "model_name": "LayoutModel",
          "state": {
            "_view_name": "LayoutView",
            "grid_template_rows": null,
            "right": null,
            "justify_content": null,
            "_view_module": "@jupyter-widgets/base",
            "overflow": null,
            "_model_module_version": "1.2.0",
            "_view_count": null,
            "flex_flow": null,
            "width": null,
            "min_width": null,
            "border": null,
            "align_items": null,
            "bottom": null,
            "_model_module": "@jupyter-widgets/base",
            "top": null,
            "grid_column": null,
            "overflow_y": null,
            "overflow_x": null,
            "grid_auto_flow": null,
            "grid_area": null,
            "grid_template_columns": null,
            "flex": null,
            "_model_name": "LayoutModel",
            "justify_items": null,
            "grid_row": null,
            "max_height": null,
            "align_content": null,
            "visibility": null,
            "align_self": null,
            "height": null,
            "min_height": null,
            "padding": null,
            "grid_auto_rows": null,
            "grid_gap": null,
            "max_width": null,
            "order": null,
            "_view_module_version": "1.2.0",
            "grid_template_areas": null,
            "object_position": null,
            "object_fit": null,
            "grid_auto_columns": null,
            "margin": null,
            "display": null,
            "left": null
          }
        },
        "b8a8f0c44d9b416794fa83043c078b8d": {
          "model_module": "@jupyter-widgets/controls",
          "model_name": "HBoxModel",
          "state": {
            "_view_name": "HBoxView",
            "_dom_classes": [],
            "_model_name": "HBoxModel",
            "_view_module": "@jupyter-widgets/controls",
            "_model_module_version": "1.5.0",
            "_view_count": null,
            "_view_module_version": "1.5.0",
            "box_style": "",
            "layout": "IPY_MODEL_809c38a1df4a42c291226ef8326d33bc",
            "_model_module": "@jupyter-widgets/controls",
            "children": [
              "IPY_MODEL_2b9acfc4f7294981b4b15c50e3f0f54c",
              "IPY_MODEL_7604cefd9f1440d1aad6f375b397e070"
            ]
          }
        },
        "809c38a1df4a42c291226ef8326d33bc": {
          "model_module": "@jupyter-widgets/base",
          "model_name": "LayoutModel",
          "state": {
            "_view_name": "LayoutView",
            "grid_template_rows": null,
            "right": null,
            "justify_content": null,
            "_view_module": "@jupyter-widgets/base",
            "overflow": null,
            "_model_module_version": "1.2.0",
            "_view_count": null,
            "flex_flow": null,
            "width": null,
            "min_width": null,
            "border": null,
            "align_items": null,
            "bottom": null,
            "_model_module": "@jupyter-widgets/base",
            "top": null,
            "grid_column": null,
            "overflow_y": null,
            "overflow_x": null,
            "grid_auto_flow": null,
            "grid_area": null,
            "grid_template_columns": null,
            "flex": null,
            "_model_name": "LayoutModel",
            "justify_items": null,
            "grid_row": null,
            "max_height": null,
            "align_content": null,
            "visibility": null,
            "align_self": null,
            "height": null,
            "min_height": null,
            "padding": null,
            "grid_auto_rows": null,
            "grid_gap": null,
            "max_width": null,
            "order": null,
            "_view_module_version": "1.2.0",
            "grid_template_areas": null,
            "object_position": null,
            "object_fit": null,
            "grid_auto_columns": null,
            "margin": null,
            "display": null,
            "left": null
          }
        },
        "2b9acfc4f7294981b4b15c50e3f0f54c": {
          "model_module": "@jupyter-widgets/controls",
          "model_name": "FloatProgressModel",
          "state": {
            "_view_name": "ProgressView",
            "style": "IPY_MODEL_9e9d920a1d3e443a9e63f9ed1ae0e0c1",
            "_dom_classes": [],
            "description": "100%",
            "_model_name": "FloatProgressModel",
            "bar_style": "success",
            "max": 500,
            "_view_module": "@jupyter-widgets/controls",
            "_model_module_version": "1.5.0",
            "value": 500,
            "_view_count": null,
            "_view_module_version": "1.5.0",
            "orientation": "horizontal",
            "min": 0,
            "description_tooltip": null,
            "_model_module": "@jupyter-widgets/controls",
            "layout": "IPY_MODEL_4f195cb18ee44f7995e664af274c8e57"
          }
        },
        "7604cefd9f1440d1aad6f375b397e070": {
          "model_module": "@jupyter-widgets/controls",
          "model_name": "HTMLModel",
          "state": {
            "_view_name": "HTMLView",
            "style": "IPY_MODEL_532d85cae1a24459be7f05e5c8c15025",
            "_dom_classes": [],
            "description": "",
            "_model_name": "HTMLModel",
            "placeholder": "​",
            "_view_module": "@jupyter-widgets/controls",
            "_model_module_version": "1.5.0",
            "value": " 500/500 [00:16&lt;00:00, 30.49it/s]",
            "_view_count": null,
            "_view_module_version": "1.5.0",
            "description_tooltip": null,
            "_model_module": "@jupyter-widgets/controls",
            "layout": "IPY_MODEL_c86cfbe550004dea950fcd69b91ad68c"
          }
        },
        "9e9d920a1d3e443a9e63f9ed1ae0e0c1": {
          "model_module": "@jupyter-widgets/controls",
          "model_name": "ProgressStyleModel",
          "state": {
            "_view_name": "StyleView",
            "_model_name": "ProgressStyleModel",
            "description_width": "initial",
            "_view_module": "@jupyter-widgets/base",
            "_model_module_version": "1.5.0",
            "_view_count": null,
            "_view_module_version": "1.2.0",
            "bar_color": null,
            "_model_module": "@jupyter-widgets/controls"
          }
        },
        "4f195cb18ee44f7995e664af274c8e57": {
          "model_module": "@jupyter-widgets/base",
          "model_name": "LayoutModel",
          "state": {
            "_view_name": "LayoutView",
            "grid_template_rows": null,
            "right": null,
            "justify_content": null,
            "_view_module": "@jupyter-widgets/base",
            "overflow": null,
            "_model_module_version": "1.2.0",
            "_view_count": null,
            "flex_flow": null,
            "width": null,
            "min_width": null,
            "border": null,
            "align_items": null,
            "bottom": null,
            "_model_module": "@jupyter-widgets/base",
            "top": null,
            "grid_column": null,
            "overflow_y": null,
            "overflow_x": null,
            "grid_auto_flow": null,
            "grid_area": null,
            "grid_template_columns": null,
            "flex": null,
            "_model_name": "LayoutModel",
            "justify_items": null,
            "grid_row": null,
            "max_height": null,
            "align_content": null,
            "visibility": null,
            "align_self": null,
            "height": null,
            "min_height": null,
            "padding": null,
            "grid_auto_rows": null,
            "grid_gap": null,
            "max_width": null,
            "order": null,
            "_view_module_version": "1.2.0",
            "grid_template_areas": null,
            "object_position": null,
            "object_fit": null,
            "grid_auto_columns": null,
            "margin": null,
            "display": null,
            "left": null
          }
        },
        "532d85cae1a24459be7f05e5c8c15025": {
          "model_module": "@jupyter-widgets/controls",
          "model_name": "DescriptionStyleModel",
          "state": {
            "_view_name": "StyleView",
            "_model_name": "DescriptionStyleModel",
            "description_width": "",
            "_view_module": "@jupyter-widgets/base",
            "_model_module_version": "1.5.0",
            "_view_count": null,
            "_view_module_version": "1.2.0",
            "_model_module": "@jupyter-widgets/controls"
          }
        },
        "c86cfbe550004dea950fcd69b91ad68c": {
          "model_module": "@jupyter-widgets/base",
          "model_name": "LayoutModel",
          "state": {
            "_view_name": "LayoutView",
            "grid_template_rows": null,
            "right": null,
            "justify_content": null,
            "_view_module": "@jupyter-widgets/base",
            "overflow": null,
            "_model_module_version": "1.2.0",
            "_view_count": null,
            "flex_flow": null,
            "width": null,
            "min_width": null,
            "border": null,
            "align_items": null,
            "bottom": null,
            "_model_module": "@jupyter-widgets/base",
            "top": null,
            "grid_column": null,
            "overflow_y": null,
            "overflow_x": null,
            "grid_auto_flow": null,
            "grid_area": null,
            "grid_template_columns": null,
            "flex": null,
            "_model_name": "LayoutModel",
            "justify_items": null,
            "grid_row": null,
            "max_height": null,
            "align_content": null,
            "visibility": null,
            "align_self": null,
            "height": null,
            "min_height": null,
            "padding": null,
            "grid_auto_rows": null,
            "grid_gap": null,
            "max_width": null,
            "order": null,
            "_view_module_version": "1.2.0",
            "grid_template_areas": null,
            "object_position": null,
            "object_fit": null,
            "grid_auto_columns": null,
            "margin": null,
            "display": null,
            "left": null
          }
        },
        "707dacab7f8249aba2d53bbb3888ab22": {
          "model_module": "@jupyter-widgets/controls",
          "model_name": "HBoxModel",
          "state": {
            "_view_name": "HBoxView",
            "_dom_classes": [],
            "_model_name": "HBoxModel",
            "_view_module": "@jupyter-widgets/controls",
            "_model_module_version": "1.5.0",
            "_view_count": null,
            "_view_module_version": "1.5.0",
            "box_style": "",
            "layout": "IPY_MODEL_1584daa923364ea08339c842b8764dbd",
            "_model_module": "@jupyter-widgets/controls",
            "children": [
              "IPY_MODEL_ff550f1b92ae4a669bd6098e6a34e2eb",
              "IPY_MODEL_0862cab2729e4a6ab818d682bf8bb2a8"
            ]
          }
        },
        "1584daa923364ea08339c842b8764dbd": {
          "model_module": "@jupyter-widgets/base",
          "model_name": "LayoutModel",
          "state": {
            "_view_name": "LayoutView",
            "grid_template_rows": null,
            "right": null,
            "justify_content": null,
            "_view_module": "@jupyter-widgets/base",
            "overflow": null,
            "_model_module_version": "1.2.0",
            "_view_count": null,
            "flex_flow": null,
            "width": null,
            "min_width": null,
            "border": null,
            "align_items": null,
            "bottom": null,
            "_model_module": "@jupyter-widgets/base",
            "top": null,
            "grid_column": null,
            "overflow_y": null,
            "overflow_x": null,
            "grid_auto_flow": null,
            "grid_area": null,
            "grid_template_columns": null,
            "flex": null,
            "_model_name": "LayoutModel",
            "justify_items": null,
            "grid_row": null,
            "max_height": null,
            "align_content": null,
            "visibility": null,
            "align_self": null,
            "height": null,
            "min_height": null,
            "padding": null,
            "grid_auto_rows": null,
            "grid_gap": null,
            "max_width": null,
            "order": null,
            "_view_module_version": "1.2.0",
            "grid_template_areas": null,
            "object_position": null,
            "object_fit": null,
            "grid_auto_columns": null,
            "margin": null,
            "display": null,
            "left": null
          }
        },
        "ff550f1b92ae4a669bd6098e6a34e2eb": {
          "model_module": "@jupyter-widgets/controls",
          "model_name": "FloatProgressModel",
          "state": {
            "_view_name": "ProgressView",
            "style": "IPY_MODEL_4336bac1ca444a498489e2fac12966f0",
            "_dom_classes": [],
            "description": "100%",
            "_model_name": "FloatProgressModel",
            "bar_style": "success",
            "max": 50,
            "_view_module": "@jupyter-widgets/controls",
            "_model_module_version": "1.5.0",
            "value": 50,
            "_view_count": null,
            "_view_module_version": "1.5.0",
            "orientation": "horizontal",
            "min": 0,
            "description_tooltip": null,
            "_model_module": "@jupyter-widgets/controls",
            "layout": "IPY_MODEL_2fa9221b26e846d49af21b583ab2b659"
          }
        },
        "0862cab2729e4a6ab818d682bf8bb2a8": {
          "model_module": "@jupyter-widgets/controls",
          "model_name": "HTMLModel",
          "state": {
            "_view_name": "HTMLView",
            "style": "IPY_MODEL_3d934e20746a417d9e4e18a9df43cf51",
            "_dom_classes": [],
            "description": "",
            "_model_name": "HTMLModel",
            "placeholder": "​",
            "_view_module": "@jupyter-widgets/controls",
            "_model_module_version": "1.5.0",
            "value": " 50/50 [03:13&lt;00:00,  3.86s/it]",
            "_view_count": null,
            "_view_module_version": "1.5.0",
            "description_tooltip": null,
            "_model_module": "@jupyter-widgets/controls",
            "layout": "IPY_MODEL_20cff7c79ed64f0c833418f9228cda9a"
          }
        },
        "4336bac1ca444a498489e2fac12966f0": {
          "model_module": "@jupyter-widgets/controls",
          "model_name": "ProgressStyleModel",
          "state": {
            "_view_name": "StyleView",
            "_model_name": "ProgressStyleModel",
            "description_width": "initial",
            "_view_module": "@jupyter-widgets/base",
            "_model_module_version": "1.5.0",
            "_view_count": null,
            "_view_module_version": "1.2.0",
            "bar_color": null,
            "_model_module": "@jupyter-widgets/controls"
          }
        },
        "2fa9221b26e846d49af21b583ab2b659": {
          "model_module": "@jupyter-widgets/base",
          "model_name": "LayoutModel",
          "state": {
            "_view_name": "LayoutView",
            "grid_template_rows": null,
            "right": null,
            "justify_content": null,
            "_view_module": "@jupyter-widgets/base",
            "overflow": null,
            "_model_module_version": "1.2.0",
            "_view_count": null,
            "flex_flow": null,
            "width": null,
            "min_width": null,
            "border": null,
            "align_items": null,
            "bottom": null,
            "_model_module": "@jupyter-widgets/base",
            "top": null,
            "grid_column": null,
            "overflow_y": null,
            "overflow_x": null,
            "grid_auto_flow": null,
            "grid_area": null,
            "grid_template_columns": null,
            "flex": null,
            "_model_name": "LayoutModel",
            "justify_items": null,
            "grid_row": null,
            "max_height": null,
            "align_content": null,
            "visibility": null,
            "align_self": null,
            "height": null,
            "min_height": null,
            "padding": null,
            "grid_auto_rows": null,
            "grid_gap": null,
            "max_width": null,
            "order": null,
            "_view_module_version": "1.2.0",
            "grid_template_areas": null,
            "object_position": null,
            "object_fit": null,
            "grid_auto_columns": null,
            "margin": null,
            "display": null,
            "left": null
          }
        },
        "3d934e20746a417d9e4e18a9df43cf51": {
          "model_module": "@jupyter-widgets/controls",
          "model_name": "DescriptionStyleModel",
          "state": {
            "_view_name": "StyleView",
            "_model_name": "DescriptionStyleModel",
            "description_width": "",
            "_view_module": "@jupyter-widgets/base",
            "_model_module_version": "1.5.0",
            "_view_count": null,
            "_view_module_version": "1.2.0",
            "_model_module": "@jupyter-widgets/controls"
          }
        },
        "20cff7c79ed64f0c833418f9228cda9a": {
          "model_module": "@jupyter-widgets/base",
          "model_name": "LayoutModel",
          "state": {
            "_view_name": "LayoutView",
            "grid_template_rows": null,
            "right": null,
            "justify_content": null,
            "_view_module": "@jupyter-widgets/base",
            "overflow": null,
            "_model_module_version": "1.2.0",
            "_view_count": null,
            "flex_flow": null,
            "width": null,
            "min_width": null,
            "border": null,
            "align_items": null,
            "bottom": null,
            "_model_module": "@jupyter-widgets/base",
            "top": null,
            "grid_column": null,
            "overflow_y": null,
            "overflow_x": null,
            "grid_auto_flow": null,
            "grid_area": null,
            "grid_template_columns": null,
            "flex": null,
            "_model_name": "LayoutModel",
            "justify_items": null,
            "grid_row": null,
            "max_height": null,
            "align_content": null,
            "visibility": null,
            "align_self": null,
            "height": null,
            "min_height": null,
            "padding": null,
            "grid_auto_rows": null,
            "grid_gap": null,
            "max_width": null,
            "order": null,
            "_view_module_version": "1.2.0",
            "grid_template_areas": null,
            "object_position": null,
            "object_fit": null,
            "grid_auto_columns": null,
            "margin": null,
            "display": null,
            "left": null
          }
        }
      }
    }
  },
  "cells": [
    {
      "cell_type": "markdown",
      "metadata": {
        "id": "MF3R9Ce7x7Vf"
      },
      "source": [
        "# Assignment — Multi-hop Reasoning on Knowledge graphs"
      ]
    },
    {
      "cell_type": "markdown",
      "metadata": {
        "id": "8DPFryISx7Vo"
      },
      "source": [
        "Knowledge graph embedding allows predicting missed links in the graph. However, it does not allow to answer of complex logical queries.\n",
        "\n",
        "For example, one can want to answer `Where did Canadian citizens with Turing Award graduate?`. Such question can be decomposed into several smaller questions and construct DAG (directed acyclic graph) of logical operations.\n",
        "\n",
        "\n",
        "![test](http://snap.stanford.edu/query2box/model.png)\n",
        "\n",
        "_reference: http://snap.stanford.edu/query2box/_\n",
        "\n",
        "We will use implementations of models from https://github.com/snap-stanford/KGReasoning"
      ]
    },
    {
      "cell_type": "code",
      "metadata": {
        "id": "6iqzQLc9yqk4",
        "colab": {
          "base_uri": "https://localhost:8080/"
        },
        "outputId": "52e6164f-8c95-4222-e318-ffcc393264b3"
      },
      "source": [
        "pip install torchvision --user"
      ],
      "execution_count": null,
      "outputs": [
        {
          "output_type": "stream",
          "text": [
            "Requirement already satisfied: torchvision in /usr/local/lib/python3.7/dist-packages (0.9.1+cu101)\n",
            "Requirement already satisfied: numpy in /usr/local/lib/python3.7/dist-packages (from torchvision) (1.19.5)\n",
            "Requirement already satisfied: torch==1.8.1 in /usr/local/lib/python3.7/dist-packages (from torchvision) (1.8.1+cu101)\n",
            "Requirement already satisfied: pillow>=4.1.1 in /usr/local/lib/python3.7/dist-packages (from torchvision) (7.1.2)\n",
            "Requirement already satisfied: typing-extensions in /usr/local/lib/python3.7/dist-packages (from torch==1.8.1->torchvision) (3.7.4.3)\n"
          ],
          "name": "stdout"
        }
      ]
    },
    {
      "cell_type": "code",
      "metadata": {
        "id": "w5YlfuftyxRW",
        "colab": {
          "base_uri": "https://localhost:8080/"
        },
        "outputId": "94f76adc-2969-4b1a-fe95-9c9940521be2"
      },
      "source": [
        "pip install torch"
      ],
      "execution_count": null,
      "outputs": [
        {
          "output_type": "stream",
          "text": [
            "Requirement already satisfied: torch in /usr/local/lib/python3.7/dist-packages (1.8.1+cu101)\n",
            "Requirement already satisfied: typing-extensions in /usr/local/lib/python3.7/dist-packages (from torch) (3.7.4.3)\n",
            "Requirement already satisfied: numpy in /usr/local/lib/python3.7/dist-packages (from torch) (1.19.5)\n"
          ],
          "name": "stdout"
        }
      ]
    },
    {
      "cell_type": "code",
      "metadata": {
        "id": "AGw7_YdQy4_v",
        "colab": {
          "base_uri": "https://localhost:8080/"
        },
        "outputId": "95ec53ef-f5d7-4d59-c5a2-5ba1a4f3800c"
      },
      "source": [
        "pip install torchkge"
      ],
      "execution_count": null,
      "outputs": [
        {
          "output_type": "stream",
          "text": [
            "Collecting torchkge\n",
            "\u001b[?25l  Downloading https://files.pythonhosted.org/packages/7f/0a/76ed98b225d2ffea82760ac0dd5fd0d05849f7bd35ff7e3729188310b8b0/torchkge-0.16.25-py2.py3-none-any.whl (48kB)\n",
            "\r\u001b[K     |██████▉                         | 10kB 17.1MB/s eta 0:00:01\r\u001b[K     |█████████████▋                  | 20kB 22.4MB/s eta 0:00:01\r\u001b[K     |████████████████████▍           | 30kB 15.9MB/s eta 0:00:01\r\u001b[K     |███████████████████████████▏    | 40kB 13.9MB/s eta 0:00:01\r\u001b[K     |████████████████████████████████| 51kB 3.7MB/s \n",
            "\u001b[?25hRequirement already satisfied: torch>=1.2.0 in /usr/local/lib/python3.7/dist-packages (from torchkge) (1.8.1+cu101)\n",
            "Requirement already satisfied: tqdm in /usr/local/lib/python3.7/dist-packages (from torchkge) (4.41.1)\n",
            "Requirement already satisfied: pandas in /usr/local/lib/python3.7/dist-packages (from torchkge) (1.1.5)\n",
            "Requirement already satisfied: numpy in /usr/local/lib/python3.7/dist-packages (from torch>=1.2.0->torchkge) (1.19.5)\n",
            "Requirement already satisfied: typing-extensions in /usr/local/lib/python3.7/dist-packages (from torch>=1.2.0->torchkge) (3.7.4.3)\n",
            "Requirement already satisfied: python-dateutil>=2.7.3 in /usr/local/lib/python3.7/dist-packages (from pandas->torchkge) (2.8.1)\n",
            "Requirement already satisfied: pytz>=2017.2 in /usr/local/lib/python3.7/dist-packages (from pandas->torchkge) (2018.9)\n",
            "Requirement already satisfied: six>=1.5 in /usr/local/lib/python3.7/dist-packages (from python-dateutil>=2.7.3->pandas->torchkge) (1.15.0)\n",
            "Installing collected packages: torchkge\n",
            "Successfully installed torchkge-0.16.25\n"
          ],
          "name": "stdout"
        }
      ]
    },
    {
      "cell_type": "code",
      "metadata": {
        "id": "itZCWcWmx7Vs"
      },
      "source": [
        "import torch\n",
        "from torch import nn\n",
        "import torch.nn.functional as F\n",
        "from torchkge import KnowledgeGraph\n",
        "from torchkge.utils import Trainer\n",
        "from torchkge.models.bilinear import RESCALModel\n",
        "from torchkge.utils import MarginLoss\n",
        "import requests\n",
        "import pandas as pd\n",
        "import numpy as np\n",
        "from zlib import adler32\n",
        "from tqdm.notebook import trange"
      ],
      "execution_count": null,
      "outputs": []
    },
    {
      "cell_type": "markdown",
      "metadata": {
        "id": "n_OfbYxgx7Vv"
      },
      "source": [
        "### Task 1. Beam-search with TransE (1 point)\n",
        "\n",
        "Beam-search is a technique of generating most probable sequences.\n",
        "\n",
        "![image.png](attachment:image.png)![](![image.png](attachment:image.png)https://www.google.com/url?sa=i&url=https%3A%2F%2Ftowardsdatascience.com%2Ffoundations-of-nlp-explained-visually-beam-search-how-it-works-1586b9849a24&psig=AOvVaw0M64q0sVqKPdS9UgPCyyFQ&ust=1622042812171000&source=images&cd=vfe&ved=0CAIQjRxqFwoTCKig2L6S5fACFQAAAAAdAAAAABAD)\n",
        "\n",
        "It works as follows:\n",
        "1. Start from some root (`<START>` token on image)\n",
        "2. Predict subsequent tokens\n",
        "3. Select `k` most probable subsequences from generated\n",
        "4. Repeat the procedure\n",
        "\n",
        "In the current task, we will apply it to the query represented in the sequential form.\n",
        "\n",
        "We will work with the queries that can be represented in conjunctive normal form. For example, we have a query `What country was replaced by Canada neighbours`. `Canada neighbors` can be found by prediction tail `t` for query `h = \"Canada\"`, `r = \"shares border with\"`. And `What country was replaced by` could be represented as a tail for query `h = t`, `r = \"replaces\"`.\n",
        "\n",
        "So our query can be decomposed into two smaller ones.\n",
        "\n",
        "Let us download the dataset from the previous seminar."
      ]
    },
    {
      "cell_type": "code",
      "metadata": {
        "id": "Sy92HxZQx7Vx",
        "colab": {
          "base_uri": "https://localhost:8080/",
          "height": 202
        },
        "outputId": "0eff0d09-29e4-4c29-dec3-531dd862cff3"
      },
      "source": [
        "url = 'https://raw.githubusercontent.com/netspractice/network-science/main/datasets/countries_edges.tsv'\n",
        "open('countries_edges.tsv', 'wb').write(requests.get(url).content)\n",
        "url = 'https://raw.githubusercontent.com/netspractice/network-science/main/datasets/countries_entities.tsv'\n",
        "open('countries_entities.tsv', 'wb').write(requests.get(url).content)\n",
        "url = 'https://raw.githubusercontent.com/netspractice/network-science/main/datasets/countries_relations.tsv'\n",
        "open('countries_relations.tsv', 'wb').write(requests.get(url).content);\n",
        "\n",
        "\n",
        "edges = pd.read_csv('countries_edges.tsv', sep='\t').values\n",
        "entity_labels = pd.read_csv('countries_entities.tsv', sep='\t', index_col=0).label.values\n",
        "relation_labels = pd.read_csv('countries_relations.tsv', sep='\t', index_col=0).label.values\n",
        "\n",
        "edges_labeled = np.stack([entity_labels[edges[:, 0]], \n",
        "                          entity_labels[edges[:, 1]], \n",
        "                          relation_labels[edges[:, 2]]], axis=1)\n",
        "\n",
        "df = pd.DataFrame(edges_labeled, columns=['h', 't', 'r'])[['h', 'r', 't']]\n",
        "df.head()"
      ],
      "execution_count": null,
      "outputs": [
        {
          "output_type": "execute_result",
          "data": {
            "text/html": [
              "<div>\n",
              "<style scoped>\n",
              "    .dataframe tbody tr th:only-of-type {\n",
              "        vertical-align: middle;\n",
              "    }\n",
              "\n",
              "    .dataframe tbody tr th {\n",
              "        vertical-align: top;\n",
              "    }\n",
              "\n",
              "    .dataframe thead th {\n",
              "        text-align: right;\n",
              "    }\n",
              "</style>\n",
              "<table border=\"1\" class=\"dataframe\">\n",
              "  <thead>\n",
              "    <tr style=\"text-align: right;\">\n",
              "      <th></th>\n",
              "      <th>h</th>\n",
              "      <th>r</th>\n",
              "      <th>t</th>\n",
              "    </tr>\n",
              "  </thead>\n",
              "  <tbody>\n",
              "    <tr>\n",
              "      <th>0</th>\n",
              "      <td>Belgium</td>\n",
              "      <td>country</td>\n",
              "      <td>Belgium</td>\n",
              "    </tr>\n",
              "    <tr>\n",
              "      <th>1</th>\n",
              "      <td>Belgium</td>\n",
              "      <td>diplomatic relation</td>\n",
              "      <td>Luxembourg</td>\n",
              "    </tr>\n",
              "    <tr>\n",
              "      <th>2</th>\n",
              "      <td>Belgium</td>\n",
              "      <td>diplomatic relation</td>\n",
              "      <td>Italy</td>\n",
              "    </tr>\n",
              "    <tr>\n",
              "      <th>3</th>\n",
              "      <td>Belgium</td>\n",
              "      <td>diplomatic relation</td>\n",
              "      <td>Germany</td>\n",
              "    </tr>\n",
              "    <tr>\n",
              "      <th>4</th>\n",
              "      <td>Belgium</td>\n",
              "      <td>diplomatic relation</td>\n",
              "      <td>Liechtenstein</td>\n",
              "    </tr>\n",
              "  </tbody>\n",
              "</table>\n",
              "</div>"
            ],
            "text/plain": [
              "         h                    r              t\n",
              "0  Belgium              country        Belgium\n",
              "1  Belgium  diplomatic relation     Luxembourg\n",
              "2  Belgium  diplomatic relation          Italy\n",
              "3  Belgium  diplomatic relation        Germany\n",
              "4  Belgium  diplomatic relation  Liechtenstein"
            ]
          },
          "metadata": {
            "tags": []
          },
          "execution_count": 15
        }
      ]
    },
    {
      "cell_type": "markdown",
      "metadata": {
        "id": "bLLuzby4x7V2"
      },
      "source": [
        "Firstly, we need to check the answer in the given dataset."
      ]
    },
    {
      "cell_type": "code",
      "metadata": {
        "id": "OwlcYK7Hx7V4"
      },
      "source": [
        "neighbors = set(df[(df.h == 'Canada') & (df.r == \"shares border with\")].t)"
      ],
      "execution_count": null,
      "outputs": []
    },
    {
      "cell_type": "code",
      "metadata": {
        "deletable": false,
        "nbgrader": {
          "cell_type": "code",
          "checksum": "81c3b45bab699df74cc4bf4d4c87100b",
          "grade": false,
          "grade_id": "cell-3c9f642cb829f305",
          "locked": false,
          "schema_version": 3,
          "solution": true,
          "task": false
        },
        "id": "WIGOl2w-x7V6"
      },
      "source": [
        "def find_replaces(df):\n",
        "    return set(df[df.h.isin(neighbors) & (df.r == 'replaces')].t)\n"
      ],
      "execution_count": null,
      "outputs": []
    },
    {
      "cell_type": "code",
      "metadata": {
        "deletable": false,
        "editable": false,
        "nbgrader": {
          "cell_type": "code",
          "checksum": "93aaa59ec96db1a63cd2920dcd01c25d",
          "grade": true,
          "grade_id": "cell-25635e4d2ac7c6c5",
          "locked": true,
          "points": 0.25,
          "schema_version": 3,
          "solution": false,
          "task": false
        },
        "id": "PXBjM_pbx7V8",
        "colab": {
          "base_uri": "https://localhost:8080/"
        },
        "outputId": "f34f7633-8cfb-47cc-8e7e-ac7c9d1410c1"
      },
      "source": [
        "el = find_replaces(df).pop()\n",
        "assert adler32(el.encode()) == 2730560188\n",
        "print(el)"
      ],
      "execution_count": null,
      "outputs": [
        {
          "output_type": "stream",
          "text": [
            "Confederate States of America\n"
          ],
          "name": "stdout"
        }
      ]
    },
    {
      "cell_type": "markdown",
      "metadata": {
        "id": "uPCXpvZqx7V_"
      },
      "source": [
        "We can find an answer in our dataset, but for complex queries or incomplete graphs, such a task could be very hard. So we can work with knowledge graph embedding models to solve it.\n",
        "\n",
        "Firstly, let us initialize the knowledge graph dataset from torchkge."
      ]
    },
    {
      "cell_type": "code",
      "metadata": {
        "id": "3Qpf1Trqx7WE"
      },
      "source": [
        "kg = KnowledgeGraph(pd.DataFrame(edges_labeled, columns=['from', 'to', 'rel']))"
      ],
      "execution_count": null,
      "outputs": []
    },
    {
      "cell_type": "markdown",
      "metadata": {
        "id": "H8alZLZSx7WH"
      },
      "source": [
        "Secondly, we need to train the fine embedding model. We will use `RESCALModel` from torchkge. Similarly to the TransE model from the previous seminar, it learns two embedding tensors. However, instead of embed relations, it learns the projection matrix for each relation."
      ]
    },
    {
      "cell_type": "code",
      "metadata": {
        "id": "nYShmboDx7WL"
      },
      "source": [
        "model = RESCALModel(128, kg.n_ent, kg.n_rel)\n",
        "criterion = MarginLoss(margin=0.5)\n",
        "optimizer = torch.optim.Adam(model.parameters(), lr=0.001)\n",
        "\n",
        "trainer = Trainer(\n",
        "    model, criterion, kg, n_epochs=250, \n",
        "    batch_size=2048, optimizer=optimizer)"
      ],
      "execution_count": null,
      "outputs": []
    },
    {
      "cell_type": "code",
      "metadata": {
        "id": "yOvDUWaQx7WO",
        "colab": {
          "base_uri": "https://localhost:8080/",
          "height": 67,
          "referenced_widgets": [
            "32a437c7179c417186fb6628b2111b50",
            "8d089c4512f94435bb6ce8e8b22b9024",
            "a00746b3284d440aa142d2b39ec2de7e",
            "cda41fd7a8b74fda8ee8f918d4e52ab2",
            "652e388d692d44d3b21b9fe0f97b2d4d",
            "672d5c7c10054b138de83e978acfb3b9",
            "3367555489844acf9750e4cf1f472b76",
            "d8432aa339f540c69cb530de3256599f"
          ]
        },
        "outputId": "c6d54aba-4dbe-4c17-a840-9e0e68e67fba"
      },
      "source": [
        "trainer.run()"
      ],
      "execution_count": null,
      "outputs": [
        {
          "output_type": "display_data",
          "data": {
            "application/vnd.jupyter.widget-view+json": {
              "model_id": "32a437c7179c417186fb6628b2111b50",
              "version_minor": 0,
              "version_major": 2
            },
            "text/plain": [
              "HBox(children=(FloatProgress(value=0.0, max=250.0), HTML(value='')))"
            ]
          },
          "metadata": {
            "tags": []
          }
        },
        {
          "output_type": "stream",
          "text": [
            "\n"
          ],
          "name": "stdout"
        }
      ]
    },
    {
      "cell_type": "markdown",
      "metadata": {
        "id": "lO-5THRix7WT"
      },
      "source": [
        "After the model trained, we need to find the top k most similar tails to our head and relation.\n",
        "\n",
        "You need to define the `find_most_similar` function that takes our trained model, knowledge graph, head and relation from a query in string form and the number of most similar items to return.\n",
        "\n",
        "It works as follows:\n",
        "\n",
        "1. Extract embeddings from the model using `get_embeddings` method\n",
        "2. Extract vector for head\n",
        "3. Extract matrix for relation\n",
        "4. Calculate predicted embedding for tail via torch.matmull over head vector and relation matrix\n",
        "5. Normalize predicted vector\n",
        "6. Calculate cosine similarity between predicted embedding and each entity from entity embedding matrix (normalize dot product + 1 / 2)\n",
        "7. Return np.array with indices of the top k most similar entities and np.array with corresponding values sorted in descending order"
      ]
    },
    {
      "cell_type": "code",
      "metadata": {
        "deletable": false,
        "nbgrader": {
          "cell_type": "code",
          "checksum": "8c16f73b5bc303a2d3ce80324d4245f2",
          "grade": false,
          "grade_id": "cell-e4e87013d896c76c",
          "locked": false,
          "schema_version": 3,
          "solution": true,
          "task": false
        },
        "id": "LsWIhcP1x7We"
      },
      "source": [
        "\n",
        "def find_most_similar(model, kg, head, relation, k):\n",
        "    entity_emb, relation_emb = model.get_embeddings()\n",
        "    head_emb = entity_emb[kg.ent2ix[head]]\n",
        "    rel_emb_matrix = relation_emb[kg.rel2ix[relation]]\n",
        "    predicted_tail_emb = torch.matmul(head_emb, rel_emb_matrix)\n",
        "    normalized_pred = F.normalize(predicted_tail_emb, dim=0)\n",
        "    scores = ((entity_emb * normalized_pred).sum(dim=1) + 1) / 2\n",
        "    idx = scores.argsort()[-k:].numpy()[::-1]\n",
        "    return idx, scores.numpy()[idx]\n"
      ],
      "execution_count": null,
      "outputs": []
    },
    {
      "cell_type": "code",
      "metadata": {
        "deletable": false,
        "editable": false,
        "nbgrader": {
          "cell_type": "code",
          "checksum": "c21f281c4d0df9e791d3a8321218d323",
          "grade": true,
          "grade_id": "cell-8254be5ac8f94775",
          "locked": true,
          "points": 0.5,
          "schema_version": 3,
          "solution": false,
          "task": false
        },
        "id": "ZdJn3YVvx7Wk"
      },
      "source": [
        "ids, sims = find_most_similar(model, kg, \"Canada\", \"shares border with\", 5)\n",
        "assert len(ids) == 5\n",
        "assert ((sims[:-1] - sims[1:]) >= 0).mean() == 1"
      ],
      "execution_count": null,
      "outputs": []
    },
    {
      "cell_type": "markdown",
      "metadata": {
        "id": "pVbri8_Xx7Wo"
      },
      "source": [
        "Now we can try to answer our query in two steps."
      ]
    },
    {
      "cell_type": "code",
      "metadata": {
        "deletable": false,
        "editable": false,
        "nbgrader": {
          "cell_type": "code",
          "checksum": "810bff57444d2e3ce4f7350fcaf47447",
          "grade": true,
          "grade_id": "cell-bc16ae4353cb8eef",
          "locked": true,
          "points": 0.25,
          "schema_version": 3,
          "solution": false,
          "task": false
        },
        "id": "6cpcSsmLx7Wr",
        "colab": {
          "base_uri": "https://localhost:8080/"
        },
        "outputId": "e82b2737-aae2-4493-936d-229d742138aa"
      },
      "source": [
        "# 1\n",
        "ids, sims = find_most_similar(model, kg, \"Canada\", \"shares border with\", 5)\n",
        "\n",
        "# 2\n",
        "ix2ent = {j: i for i, j in kg.ent2ix.items()}\n",
        "results = []\n",
        "for i in ids:\n",
        "    idx, s = find_most_similar(model, kg, ix2ent[i], \"replaces\", 5)\n",
        "    score_matrix = np.outer(sims, s).flatten()\n",
        "    topk = score_matrix.argsort()[-5:]\n",
        "    results.extend(zip(ids[topk // 5], idx[topk % 5], score_matrix[topk]))\n",
        "results_topk = sorted(results, key=lambda x: x[2])[-5:]\n",
        "results_topk_entities = [ix2ent[j] for _, j, _ in results_topk]\n",
        "\n",
        "assert 2730560188 in [adler32(i.encode()) for i in results_topk_entities]\n",
        "print('\\n'.join(results_topk_entities))"
      ],
      "execution_count": null,
      "outputs": [
        {
          "output_type": "stream",
          "text": [
            "Lithuanian Soviet Socialist Republic\n",
            "United Kingdom of the Netherlands\n",
            "United Kingdom of the Netherlands\n",
            "Confederate States of America\n",
            "Confederate States of America\n"
          ],
          "name": "stdout"
        }
      ]
    },
    {
      "cell_type": "markdown",
      "metadata": {
        "id": "l1RRmMW7x7Wx"
      },
      "source": [
        "### Task 2. [Graph query embedding](https://arxiv.org/abs/1806.01445) (2 points)\n",
        "\n",
        "In the previous task we use the several projection steps. It is a analogue of existential quantification in the vector space.\n",
        "\n",
        "Graph Query Embedding also allow to handle conjunction between different statements. For example, we may want to answer question `What country Russia and Canada share border with?`.\n",
        "\n",
        "This statement could be decomposed to the statement. `Russia shares border with` & `Canada shares border with`.\n",
        "\n",
        "The GQE models the projection using translation operator (similarly to TransE) and [DeepSets](https://arxiv.org/abs/1703.06114) to model conjunction. The intersection operator works in several steps:\n",
        "1. We pass individual element embeddings through the feed-forward neural network.\n",
        "2. We aggregate the result of model inference using a symmetric operator (e.g. mean, sum).\n",
        "3. Transform it using a projection matrix.\n",
        "\n",
        "Let us download the realized models from https://github.com/snap-stanford/KGReasoning."
      ]
    },
    {
      "cell_type": "code",
      "metadata": {
        "id": "Dxnx2Ghpx7W1"
      },
      "source": [
        "url = 'https://raw.githubusercontent.com/snap-stanford/KGReasoning/main/models.py'\n",
        "with open(\"models.py\", \"wb\") as f:\n",
        "    f.write(requests.get(url).content)\n",
        "    \n",
        "url = 'https://raw.githubusercontent.com/snap-stanford/KGReasoning/main/dataloader.py'\n",
        "with open(\"dataloader.py\", \"wb\") as f:\n",
        "    f.write(requests.get(url).content)\n",
        "    \n",
        "url = 'https://raw.githubusercontent.com/snap-stanford/KGReasoning/main/util.py'\n",
        "with open(\"util.py\", \"wb\") as f:\n",
        "    f.write(requests.get(url).content)\n"
      ],
      "execution_count": null,
      "outputs": []
    },
    {
      "cell_type": "code",
      "metadata": {
        "id": "VCm51qUdx7W5"
      },
      "source": [
        "import models"
      ],
      "execution_count": null,
      "outputs": []
    },
    {
      "cell_type": "markdown",
      "metadata": {
        "id": "XdCct7eax7W7"
      },
      "source": [
        "Firstly, we need to define what types of queries we will prefer to handle.\n",
        "\n",
        "1. `1p` is one projection (both models)\n",
        "2. `2p` is two sequential projections (both models)\n",
        "3. `2u-DNF` is a disjunctive normal form, i.e. union (disjunction) between two `1p` queries (Q2B)"
      ]
    },
    {
      "cell_type": "code",
      "metadata": {
        "id": "GrSiJO-bx7XA"
      },
      "source": [
        "query_name_dict = {\n",
        "    ('e',('r',)): '1p', \n",
        "    ('e', ('r', 'r')): '2p',\n",
        "    (('e', ('r',)), ('e', ('r',))): '2i',\n",
        "    (('e', ('r',)), ('e', ('r',)), ('u',)): '2u-DNF',\n",
        "}"
      ],
      "execution_count": null,
      "outputs": []
    },
    {
      "cell_type": "markdown",
      "metadata": {
        "id": "fb6hYvu8x7XD"
      },
      "source": [
        "Before model training, we need to generate datasets for it.\n",
        "\n",
        "You need to implement two functions, `generate_queries` and `generete_queries_conjunction`.\n",
        "\n",
        "The first one generates one- and two-hop queries and answers. It takes df with hrt triplets, mapping from text entity to ids (`kg.ent2ix`), mapping from text relation to ids (`kg.rel2ix`). And it should return the list with triplets in the form of query type and the mapping of answers. Answers are constructed as a python dictionary where keys are queries and value is a set of possible tails to answer the given query.\n",
        "\n",
        "E.g. if we have a query of type `1p` the sample should look like `(187, (41,))`. Similarly, for `2i` query: `(187, (41,), (1342, (41,)))`.\n",
        "\n",
        "The answer for this queries should look like:\n",
        "\n",
        "```\n",
        "{\n",
        "    (187, (41,)): {345, 588, 1666},\n",
        "    (187, (41,), (1342, (41,))): {1666}\n",
        "}\n",
        "```\n",
        "\n",
        "Firstly, you need to convert heads, relations and tails by corresponding ids.\n",
        "\n",
        "Then, you need to calculate one-hop queries. One-hop queries could be calculated by group by over data frame (`df.groupby(['h','r']).t.agg(set)`)\n",
        "\n",
        "Finally, you need to find two-hop relations. We can join the data frame on itself left_on `t` and right_on `h`. Now, the data frame should be grouped by `h_x`, `r_x` and `r_y`."
      ]
    },
    {
      "cell_type": "code",
      "metadata": {
        "deletable": false,
        "nbgrader": {
          "cell_type": "code",
          "checksum": "66e00ef41af9ef60610a82ec2a07dd58",
          "grade": false,
          "grade_id": "cell-15c6431858cc2ec5",
          "locked": false,
          "schema_version": 3,
          "solution": true,
          "task": false
        },
        "id": "b2a-pBQ1x7XH"
      },
      "source": [
        "\n",
        "\n",
        "def generate_queries(df, ent2id, rel2id):\n",
        "    df = df.copy()\n",
        "    df.h = df.h.map(ent2id)\n",
        "    df.t = df.t.map(ent2id)\n",
        "    df.r = df.r.map(rel2id)\n",
        "\n",
        "    tmp = df.groupby(['h', 'r']).t.agg(set).reset_index()\n",
        "    tmp['onehop'] = tmp.apply(lambda x: (x.h, (x.r,)), axis=1)\n",
        "    ans = dict(zip(tmp.onehop, tmp.t))\n",
        "    queries = tmp.onehop.map(lambda x: (x, ('e',('r',)))).tolist()\n",
        "\n",
        "    df2 = df.merge(df, left_on='t', right_on='h')\n",
        "    tmp = df2.groupby(['h_x', 'r_x', 'r_y']).t_y.agg(set).reset_index()\n",
        "    tmp['twohop'] = tmp.apply(lambda x: (x.h_x, (x.r_x,x.r_y)), axis=1)\n",
        "    \n",
        "    ans.update(dict(zip(tmp.twohop, tmp.t_y)))\n",
        "    queries.extend(tmp.twohop.map(lambda x: (x, ('e',('r', 'r')))).tolist())\n",
        "    return queries, ans\n"
      ],
      "execution_count": null,
      "outputs": []
    },
    {
      "cell_type": "code",
      "metadata": {
        "deletable": false,
        "editable": false,
        "nbgrader": {
          "cell_type": "code",
          "checksum": "cbddc9b594c31cbe6bd694eab1d042f8",
          "grade": true,
          "grade_id": "cell-da7d7a90198e515d",
          "locked": true,
          "points": 0.5,
          "schema_version": 3,
          "solution": false,
          "task": false
        },
        "id": "DJah2oJlx7XN"
      },
      "source": [
        "train_queries, train_answers = generate_queries(df, kg.ent2ix, kg.rel2ix)\n",
        "assert train_queries[0][1] in [(('e', ('r',))), ('e', ('r', 'r'))]\n",
        "assert ((187, (41,)), ('e', ('r',))) in train_queries\n",
        "assert adler32(' '.join([str(i) for i in sorted(list(train_answers[(187, (41,))]))]).encode()) == 252052053"
      ],
      "execution_count": null,
      "outputs": []
    },
    {
      "cell_type": "markdown",
      "metadata": {
        "id": "GzI1tPuEx7XT"
      },
      "source": [
        "Also, we want to generate some intersection (conjunction) examples of type `2i` with `generate_queries_conjunction`.\n",
        "\n",
        "Intersection result of two projection relations could be achieved by joining the data frame with itself on `t` column because intersection means coincidental result.\n",
        "\n",
        "`generate_queries_conjunction` works similarly to `generate_queries` but should find intersection queries. "
      ]
    },
    {
      "cell_type": "code",
      "metadata": {
        "deletable": false,
        "nbgrader": {
          "cell_type": "code",
          "checksum": "c2a6ccd0fbf38fce1ec11a894e0e80ba",
          "grade": false,
          "grade_id": "cell-e41acdf75ba8a0dd",
          "locked": false,
          "schema_version": 3,
          "solution": true,
          "task": false
        },
        "id": "6FhKEiuEx7Xa"
      },
      "source": [
        "def generate_queries_conjunction(df, ent2id, rel2id):\n",
        "    df = df.copy()\n",
        "    df.h = df.h.map(ent2id)\n",
        "    df.t = df.t.map(ent2id)\n",
        "    df.r = df.r.map(rel2id)\n",
        "\n",
        "    df2 = df.merge(df, on='t')\n",
        "    tmp = df2.groupby(['h_x', 'r_x', 'h_y', 'r_y']).t.agg(set).reset_index()\n",
        "\n",
        "    tmp['inter'] = tmp.apply(lambda x: ((x.h_x, (x.r_x,)), (x.h_y, (x.r_y,))), axis=1)\n",
        "    ans = dict(zip(tmp.inter, tmp.t))\n",
        "    queries = tmp.inter.map(lambda x: (x, (('e',('r',)), ('e',('r',))))).tolist()\n",
        "    return queries, ans"
      ],
      "execution_count": null,
      "outputs": []
    },
    {
      "cell_type": "code",
      "metadata": {
        "deletable": false,
        "editable": false,
        "nbgrader": {
          "cell_type": "code",
          "checksum": "19aa9bdbba074ef959da138860d60c6a",
          "grade": true,
          "grade_id": "cell-9b822680cc0b3534",
          "locked": true,
          "points": 0.5,
          "schema_version": 3,
          "solution": false,
          "task": false
        },
        "id": "WpleNCzux7Xe"
      },
      "source": [
        "train_queries_conj, train_answers_conj = generate_queries_conjunction(df, kg.ent2ix, kg.rel2ix)\n",
        "assert train_queries_conj[0][1] == (('e', ('r',)), ('e', ('r',)))\n",
        "assert (((1808, (6,)), (1084, (12,))), (('e', ('r',)), ('e', ('r',)))) in train_queries_conj\n",
        "assert train_answers_conj[((1808, (6,)), (1084, (12,)))] == {1666}"
      ],
      "execution_count": null,
      "outputs": []
    },
    {
      "cell_type": "markdown",
      "metadata": {
        "id": "MV11s2a4x7Xh"
      },
      "source": [
        "We can merge both train samples."
      ]
    },
    {
      "cell_type": "code",
      "metadata": {
        "id": "V-rECtATx7Xk"
      },
      "source": [
        "train_queries.extend(train_queries_conj)\n",
        "train_answers.update(train_answers_conj)"
      ],
      "execution_count": null,
      "outputs": []
    },
    {
      "cell_type": "markdown",
      "metadata": {
        "id": "7HyzHPkdx7Xr"
      },
      "source": [
        "Now we are ready to instantiate the GQE model using the `KGReasoning` wrapper. The `geo` argument defines what model to use: `vec` is a GQE, `box` is a Query2Box, `betae` is a BetaE model."
      ]
    },
    {
      "cell_type": "code",
      "metadata": {
        "id": "WvwfxzSdx7Xu"
      },
      "source": [
        "cqe_model = models.KGReasoning(\n",
        "    nentity=kg.n_ent,\n",
        "    nrelation=kg.n_rel,\n",
        "    hidden_dim=800,\n",
        "    gamma=24,\n",
        "    geo=\"vec\",\n",
        "    use_cuda=False,\n",
        "    box_mode=None,\n",
        "    beta_mode=None,\n",
        "    test_batch_size=128,\n",
        "    query_name_dict=query_name_dict\n",
        ")"
      ],
      "execution_count": null,
      "outputs": []
    },
    {
      "cell_type": "markdown",
      "metadata": {
        "id": "roLUdopDx7Xy"
      },
      "source": [
        "Optimizer to train it"
      ]
    },
    {
      "cell_type": "code",
      "metadata": {
        "id": "R4XT-4Uhx7X1"
      },
      "source": [
        "optimizer = torch.optim.Adam(\n",
        "    filter(lambda p: p.requires_grad, cqe_model.parameters()), \n",
        "    lr=0.001\n",
        ")"
      ],
      "execution_count": null,
      "outputs": []
    },
    {
      "cell_type": "markdown",
      "metadata": {
        "id": "q24L8NjZx7X4"
      },
      "source": [
        "Dataset iterator"
      ]
    },
    {
      "cell_type": "code",
      "metadata": {
        "id": "HohMs6x4x7X9",
        "colab": {
          "base_uri": "https://localhost:8080/"
        },
        "outputId": "fa66db9c-33ad-4197-8309-085eee8e0894"
      },
      "source": [
        "from torch.utils.data import DataLoader\n",
        "from dataloader import TestDataset, TrainDataset, SingledirectionalOneShotIterator\n",
        "\n",
        "train_path_iterator = SingledirectionalOneShotIterator(DataLoader(\n",
        "    TrainDataset(train_queries, kg.n_ent, kg.n_rel, 128, train_answers),\n",
        "    batch_size=512,\n",
        "    shuffle=True,\n",
        "    num_workers=4,\n",
        "    collate_fn=TrainDataset.collate_fn\n",
        "))"
      ],
      "execution_count": null,
      "outputs": [
        {
          "output_type": "stream",
          "text": [
            "/usr/local/lib/python3.7/dist-packages/torch/utils/data/dataloader.py:477: UserWarning: This DataLoader will create 4 worker processes in total. Our suggested max number of worker in current system is 2, which is smaller than what this DataLoader is going to create. Please be aware that excessive worker creation might get DataLoader running slow or even freeze, lower the worker number to avoid potential slowness/freeze if necessary.\n",
            "  cpuset_checked))\n"
          ],
          "name": "stderr"
        }
      ]
    },
    {
      "cell_type": "markdown",
      "metadata": {
        "id": "cCsC00uYx7YA"
      },
      "source": [
        "Let us mock-up CLI arguments"
      ]
    },
    {
      "cell_type": "code",
      "metadata": {
        "id": "87Ur7doKx7YD"
      },
      "source": [
        "class Args:\n",
        "    print_on_screen = True\n",
        "    cuda = False\n",
        "    test_batch_size = 1\n",
        "    test_log_steps = 10\n",
        "args = Args()"
      ],
      "execution_count": null,
      "outputs": []
    },
    {
      "cell_type": "markdown",
      "metadata": {
        "id": "NcrOXaQ8x7YF"
      },
      "source": [
        "And train model"
      ]
    },
    {
      "cell_type": "code",
      "metadata": {
        "id": "OD5yl-lXx7YI",
        "colab": {
          "base_uri": "https://localhost:8080/",
          "height": 121,
          "referenced_widgets": [
            "cb6869eafbe0484fa30a3167762c2fb6",
            "7b36c0dfd321403091549b77bc77bc9b",
            "f41a41fa3dc443fc920fc2497ddce649",
            "e8b15ff0b3af4ba5a51db7b953fe1676",
            "eff5534bdf494e3386cf69458c718401",
            "ab6dc909d0564167bbbd9af486fe8cd0",
            "cf71e316943743d6b8092bd8abf9231e",
            "d14bf4e1e479451da52166c269adab5a"
          ]
        },
        "outputId": "fed1ff17-c4ed-432a-f44d-d4ec5aeaa96a"
      },
      "source": [
        "for i in trange(50):\n",
        "    cqe_model.train_step(cqe_model, optimizer, train_path_iterator, args,i)"
      ],
      "execution_count": null,
      "outputs": [
        {
          "output_type": "display_data",
          "data": {
            "application/vnd.jupyter.widget-view+json": {
              "model_id": "cb6869eafbe0484fa30a3167762c2fb6",
              "version_minor": 0,
              "version_major": 2
            },
            "text/plain": [
              "HBox(children=(FloatProgress(value=0.0, max=50.0), HTML(value='')))"
            ]
          },
          "metadata": {
            "tags": []
          }
        },
        {
          "output_type": "stream",
          "text": [
            "/usr/local/lib/python3.7/dist-packages/torch/utils/data/dataloader.py:477: UserWarning: This DataLoader will create 4 worker processes in total. Our suggested max number of worker in current system is 2, which is smaller than what this DataLoader is going to create. Please be aware that excessive worker creation might get DataLoader running slow or even freeze, lower the worker number to avoid potential slowness/freeze if necessary.\n",
            "  cpuset_checked))\n"
          ],
          "name": "stderr"
        },
        {
          "output_type": "stream",
          "text": [
            "\n"
          ],
          "name": "stdout"
        }
      ]
    },
    {
      "cell_type": "markdown",
      "metadata": {
        "id": "8J9J73kwx7YO"
      },
      "source": [
        "To predict results, we need to define the `predict_kg_reasoning` function.\n",
        "\n",
        "The input is our trained model, torchkge knowledge graph, flatten query and its type.\n",
        "\n",
        "Flatten query is a flat list with ids, without query_type structure, e.g. `[1342, 41, 187, 41]`\n",
        "\n",
        "We will use the native model.forward function. It takes several arguments: positive_sample, negative_sample, subsampling_weight, batch_queries_dict, batch_idxs_dict. The positive_sample and subsampling_weight is None.\n",
        "\n",
        "The negative sample is constructed as array of all entity ids with the shape `(1, number of entities)`.\n",
        "\n",
        "\n",
        "After, you need to construct batch_queries_dict -- a mapping from query type to query wrapped with torch.tensor of shape `(1, len(flatten_query))`.\n",
        "\n",
        "Then, you need to construct batch_idxs_dict -- a mapping from query_type to indices of corresponding queries. Here we have only one index so that it will be a `{query_type: [0]}`.\n",
        "\n",
        "Now, you can pass it to the `model.forward` function and receive `positive_logit, negative_logit, subsampling_weight, batch_ids`. However, we are only interested in the `negative_logit`.\n",
        "\n",
        "Negative logit is our score of how close each entity is to our answer. To choose the best entity ids, we need to argsort our negative_logit and take top k.\n",
        "\n",
        "Finally, you need to convert entity"
      ]
    },
    {
      "cell_type": "code",
      "metadata": {
        "deletable": false,
        "nbgrader": {
          "cell_type": "code",
          "checksum": "9f46574a0272f7767ef8ba7206fea840",
          "grade": false,
          "grade_id": "cell-d336ee5ca59b24c5",
          "locked": false,
          "schema_version": 3,
          "solution": true,
          "task": false
        },
        "id": "s2M525rMx7YR"
      },
      "source": [
        "def predict_kg_reasoning(model, kg, flatten_query, query_type, k=5, ix2ent=ix2ent):\n",
        "    negative_simple = torch.arange(kg.n_ent).reshape(1,-1)\n",
        "    batch_idx_dict = {query_type:[0]}\n",
        "    batch_query_dict = {query_type: torch.tensor([flatten_query])}\n",
        "\n",
        "    _, negative_logit,_,_ = model(None, negative_simple,None, batch_query_dict,batch_idx_dict)\n",
        "    sorting = torch.argsort(negative_logit, dim=1, descending=True).flatten().numpy()[:k]\n",
        "    return[ix2ent[i] for i in sorting]\n",
        "\n"
      ],
      "execution_count": null,
      "outputs": []
    },
    {
      "cell_type": "code",
      "metadata": {
        "deletable": false,
        "editable": false,
        "nbgrader": {
          "cell_type": "code",
          "checksum": "c8bf2a6f3ac81b4b17dced37e8c36e21",
          "grade": true,
          "grade_id": "cell-81ef8f936aa68ec3",
          "locked": true,
          "points": 1,
          "schema_version": 3,
          "solution": false,
          "task": false
        },
        "id": "KSJUQpjBx7YT",
        "colab": {
          "base_uri": "https://localhost:8080/"
        },
        "outputId": "84a2c70f-ccc6-48eb-a3cf-bd89bc527b86"
      },
      "source": [
        "ans = predict_kg_reasoning(cqe_model, kg, [kg.ent2ix['Russia'], kg.rel2ix['shares border with'], kg.ent2ix['Canada'], kg.rel2ix['shares border with']], (('e', ('r', )), ('e', ('r', ))))\n",
        "assert 1847527621 in [adler32(i.encode()) for i in ans]\n",
        "print('\\n'.join(ans))"
      ],
      "execution_count": null,
      "outputs": [
        {
          "output_type": "stream",
          "text": [
            "Russia\n",
            "United States of America\n",
            "Germany\n",
            "Canada\n",
            "People's Republic of China\n"
          ],
          "name": "stdout"
        }
      ]
    },
    {
      "cell_type": "markdown",
      "metadata": {
        "id": "o8k3WsRLx7YW"
      },
      "source": [
        "### Task 3. [Query2Box](http://snap.stanford.edu/query2box/) (7 points)\n",
        "\n",
        "Query2Box additionally allow to model union (disjunction) queries.\n",
        "\n",
        "\n",
        "The general idea of Query2Box is to model sets as boxes. If an entity is in the set, then the corresponding embedding should lie inside the query box. The box is defined by the vector of centre and offset.\n",
        "\n",
        "The projection (existential operator) works similarly to the translation models: the model sums the centres and offsets.\n",
        "The intersection of the boxes could be found by performing attention over box queries. Offsets are calculated using DeepSets over the boxes and are shrunk with the sigmoid function.\n",
        "\n",
        "A simple geometric union of the boxes could be a bad idea because query boxes could lie in different places of our space. So, before doing union, the authors propose transforming our query to the disjunctive normal form (DNF).\n",
        "It allows to perform all box logic with projection and intersection operators and, finally, found the best entities close to one of the resulting boxes.\n",
        "\n",
        "![test](http://snap.stanford.edu/query2box/dnf.png)\n",
        "\n",
        "\n",
        "Before we train the model, we need to generate the disjunctive examples to it.\n",
        "\n",
        "We will generate union pairs only for relation type `shares border with`.\n",
        "`generate_queries_disjunction` takes the data frame with triplets, entity to index converter, relation to index converter, number of elements in subsample and random_state for sampling.\n",
        "\n",
        "1. Generate one-hop queries\n",
        "2. Generate two samples from step 1 using `df.sample(n, random_state=random_state)`\n",
        "3. zip one-hop queries and construct union query (e.g. `((187, (41, )), (1071, (41, )), (-1,))`)\n",
        "4. construct answers as unions of answers for one-hop queries"
      ]
    },
    {
      "cell_type": "code",
      "metadata": {
        "deletable": false,
        "nbgrader": {
          "cell_type": "code",
          "checksum": "44bc343a09394d8ba5d088e4163e8910",
          "grade": false,
          "grade_id": "cell-847174c7a86df6ac",
          "locked": false,
          "schema_version": 3,
          "solution": true,
          "task": false
        },
        "id": "vY0wRCrex7Yd"
      },
      "source": [
        "def generate_queries_disjunction(df, ent2id, rel2id, n, random_state=0):\n",
        "    df = df.copy()\n",
        "    df.h = df.h.map(ent2id)\n",
        "    df.t = df.t.map(ent2id)\n",
        "    df.r = df.r.map(rel2id)\n",
        "\n",
        "    df = df[df.r == rel2id['shares border with']]\n",
        "\n",
        "    tmp = df.groupby(['h', 'r']).t.agg(set).reset_index()\n",
        "    tmp['onehop'] = tmp.apply(lambda x: (x.h, (x.r,)), axis=1)\n",
        "\n",
        "    a = tmp.sample(n, random_state=random_state)\n",
        "    b = tmp.sample(n, random_state=random_state + 1)\n",
        "\n",
        "    queries = [(i, j, (-1,)) for i,j in zip(a.onehop, b.onehop)]\n",
        "    ans = dict(zip(queries, a.t.values | b.t.values))\n",
        "    queries = [(i, (('e', ('r',)), ('e', ('r',)), ('u',))) for i in queries]\n",
        "    return queries, ans\n"
      ],
      "execution_count": null,
      "outputs": []
    },
    {
      "cell_type": "code",
      "metadata": {
        "id": "gGWwuD4jx7Yh",
        "colab": {
          "base_uri": "https://localhost:8080/",
          "height": 67,
          "referenced_widgets": [
            "b8a8f0c44d9b416794fa83043c078b8d",
            "809c38a1df4a42c291226ef8326d33bc",
            "2b9acfc4f7294981b4b15c50e3f0f54c",
            "7604cefd9f1440d1aad6f375b397e070",
            "9e9d920a1d3e443a9e63f9ed1ae0e0c1",
            "4f195cb18ee44f7995e664af274c8e57",
            "532d85cae1a24459be7f05e5c8c15025",
            "c86cfbe550004dea950fcd69b91ad68c"
          ]
        },
        "outputId": "8faf35dc-2650-464d-87d1-67bb4b139d10"
      },
      "source": [
        "train_queries_dis = []\n",
        "train_answers_dis = {}\n",
        "for i in trange(500):\n",
        "    tq, ta = generate_queries_disjunction(df, kg.ent2ix, kg.rel2ix, 300, random_state=2 * i)\n",
        "    train_queries_dis.extend(tq)\n",
        "    train_answers_dis.update(ta)"
      ],
      "execution_count": null,
      "outputs": [
        {
          "output_type": "display_data",
          "data": {
            "application/vnd.jupyter.widget-view+json": {
              "model_id": "b8a8f0c44d9b416794fa83043c078b8d",
              "version_minor": 0,
              "version_major": 2
            },
            "text/plain": [
              "HBox(children=(FloatProgress(value=0.0, max=500.0), HTML(value='')))"
            ]
          },
          "metadata": {
            "tags": []
          }
        },
        {
          "output_type": "stream",
          "text": [
            "\n"
          ],
          "name": "stdout"
        }
      ]
    },
    {
      "cell_type": "code",
      "metadata": {
        "deletable": false,
        "editable": false,
        "nbgrader": {
          "cell_type": "code",
          "checksum": "c755cf47959734702104a04674d02920",
          "grade": true,
          "grade_id": "cell-f56796364508c056",
          "locked": true,
          "points": 4,
          "schema_version": 3,
          "solution": false,
          "task": false
        },
        "id": "O4zEF35ux7Yk"
      },
      "source": [
        "assert train_queries_dis[0][1] == (('e', ('r',)), ('e', ('r',)), ('u',))\n",
        "assert (((129, (41,)), (1706, (41,)), (-1,)), (('e', ('r',)), ('e', ('r',)), ('u',))) in train_queries_dis\n",
        "assert sum(train_answers_dis[(((129, (41,)), (1706, (41,)), (-1,)))]) == 2267"
      ],
      "execution_count": null,
      "outputs": []
    },
    {
      "cell_type": "markdown",
      "metadata": {
        "id": "v9-nPcCPx7Yn"
      },
      "source": [
        "Initialize model, optimizer and train iterator."
      ]
    },
    {
      "cell_type": "code",
      "metadata": {
        "id": "LkgP-Ga_x7Yt",
        "colab": {
          "base_uri": "https://localhost:8080/"
        },
        "outputId": "c3af3569-7cc9-4a3c-84c2-a5f96f6c5aaf"
      },
      "source": [
        "q2b_model = models.KGReasoning(\n",
        "    nentity=kg.n_ent,\n",
        "    nrelation=kg.n_rel,\n",
        "    hidden_dim=800,\n",
        "    gamma=24,\n",
        "    geo=\"box\",\n",
        "    use_cuda=False,\n",
        "    box_mode=('relu', 0.05),\n",
        "    beta_mode=None,\n",
        "    test_batch_size=128,\n",
        "    query_name_dict=query_name_dict\n",
        ")\n",
        "\n",
        "optimizer = torch.optim.Adam(\n",
        "    filter(lambda p: p.requires_grad, q2b_model.parameters()), \n",
        "    lr=0.01\n",
        ")\n",
        "\n",
        "train_path_iterator = SingledirectionalOneShotIterator(DataLoader(\n",
        "    TrainDataset(train_queries_dis, kg.n_ent, kg.n_rel, 128, train_answers_dis),\n",
        "    batch_size=512,\n",
        "    shuffle=True,\n",
        "    num_workers=4,\n",
        "    collate_fn=TrainDataset.collate_fn\n",
        "))"
      ],
      "execution_count": null,
      "outputs": [
        {
          "output_type": "stream",
          "text": [
            "/usr/local/lib/python3.7/dist-packages/torch/utils/data/dataloader.py:477: UserWarning: This DataLoader will create 4 worker processes in total. Our suggested max number of worker in current system is 2, which is smaller than what this DataLoader is going to create. Please be aware that excessive worker creation might get DataLoader running slow or even freeze, lower the worker number to avoid potential slowness/freeze if necessary.\n",
            "  cpuset_checked))\n"
          ],
          "name": "stderr"
        }
      ]
    },
    {
      "cell_type": "markdown",
      "metadata": {
        "id": "0d27aCOEx7Yw"
      },
      "source": [
        "Now, we will try to answer the question `What countries share a border with Canada or Mexico?`."
      ]
    },
    {
      "cell_type": "code",
      "metadata": {
        "id": "4fCR6nkLx7Yz",
        "colab": {
          "base_uri": "https://localhost:8080/"
        },
        "outputId": "e4a3828e-4246-400b-d934-274141ca5a4b"
      },
      "source": [
        "set(df[(df.h == 'Mexico') & (df.r == 'shares border with')].append(df[(df.h == 'Canada') & (df.r == 'shares border with')]).t)"
      ],
      "execution_count": null,
      "outputs": [
        {
          "output_type": "execute_result",
          "data": {
            "text/plain": [
              "{'Belize',\n",
              " 'Dominion of Newfoundland',\n",
              " 'Greenland',\n",
              " 'Guatemala',\n",
              " 'United States of America'}"
            ]
          },
          "metadata": {
            "tags": []
          },
          "execution_count": 49
        }
      ]
    },
    {
      "cell_type": "code",
      "metadata": {
        "id": "I1b4YYwJx7Y2",
        "colab": {
          "base_uri": "https://localhost:8080/",
          "height": 121,
          "referenced_widgets": [
            "707dacab7f8249aba2d53bbb3888ab22",
            "1584daa923364ea08339c842b8764dbd",
            "ff550f1b92ae4a669bd6098e6a34e2eb",
            "0862cab2729e4a6ab818d682bf8bb2a8",
            "4336bac1ca444a498489e2fac12966f0",
            "2fa9221b26e846d49af21b583ab2b659",
            "3d934e20746a417d9e4e18a9df43cf51",
            "20cff7c79ed64f0c833418f9228cda9a"
          ]
        },
        "outputId": "1544f1aa-b251-40fa-dabc-65376cf94b64"
      },
      "source": [
        "for i in trange(50):\n",
        "    q2b_model.train_step(q2b_model, optimizer, train_path_iterator, args,i)"
      ],
      "execution_count": null,
      "outputs": [
        {
          "output_type": "display_data",
          "data": {
            "application/vnd.jupyter.widget-view+json": {
              "model_id": "707dacab7f8249aba2d53bbb3888ab22",
              "version_minor": 0,
              "version_major": 2
            },
            "text/plain": [
              "HBox(children=(FloatProgress(value=0.0, max=50.0), HTML(value='')))"
            ]
          },
          "metadata": {
            "tags": []
          }
        },
        {
          "output_type": "stream",
          "text": [
            "/usr/local/lib/python3.7/dist-packages/torch/utils/data/dataloader.py:477: UserWarning: This DataLoader will create 4 worker processes in total. Our suggested max number of worker in current system is 2, which is smaller than what this DataLoader is going to create. Please be aware that excessive worker creation might get DataLoader running slow or even freeze, lower the worker number to avoid potential slowness/freeze if necessary.\n",
            "  cpuset_checked))\n"
          ],
          "name": "stderr"
        },
        {
          "output_type": "stream",
          "text": [
            "\n"
          ],
          "name": "stdout"
        }
      ]
    },
    {
      "cell_type": "code",
      "metadata": {
        "deletable": false,
        "editable": false,
        "nbgrader": {
          "cell_type": "code",
          "checksum": "ad575febb54adb3f0739de4f4f7dfc1a",
          "grade": true,
          "grade_id": "cell-f721f2b1aac81494",
          "locked": true,
          "points": 3,
          "schema_version": 3,
          "solution": false,
          "task": false
        },
        "id": "584NvEjex7Y6",
        "colab": {
          "base_uri": "https://localhost:8080/"
        },
        "outputId": "71a0b729-8c5a-44ae-ab16-dd3bcc59bf72"
      },
      "source": [
        "ans = predict_kg_reasoning(\n",
        "    q2b_model,\n",
        "    kg,\n",
        "    [kg.ent2ix['Canada'], kg.rel2ix['shares border with'], kg.ent2ix['Mexico'], kg.rel2ix['shares border with'], -1],\n",
        "    (('e', ('r',)), ('e', ('r',)), ('u',)), k=10, ix2ent=ix2ent)\n",
        "hashed = [adler32(i.encode()) for i in ans]\n",
        "assert 1847527621 in hashed\n",
        "assert 1897990456 in hashed\n",
        "assert 131007068 in hashed\n",
        "assert 295175058 in hashed\n",
        "assert 292684689 in hashed\n",
        "print('\\n'.join(ans))"
      ],
      "execution_count": null,
      "outputs": [
        {
          "output_type": "stream",
          "text": [
            "Canada\n",
            "Mexico\n",
            "Dominion of Newfoundland\n",
            "Belize\n",
            "Guatemala\n",
            "Greenland\n",
            "United States of America\n",
            "Ethiopia\n",
            "Russia\n",
            "Gran Colombia\n"
          ],
          "name": "stdout"
        }
      ]
    },
    {
      "cell_type": "code",
      "metadata": {
        "id": "81dIkQBJx7Y-"
      },
      "source": [
        ""
      ],
      "execution_count": null,
      "outputs": []
    }
  ]
}