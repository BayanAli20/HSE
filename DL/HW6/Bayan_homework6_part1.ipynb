{
  "nbformat": 4,
  "nbformat_minor": 0,
  "metadata": {
    "kernelspec": {
      "display_name": "Python 3",
      "language": "python",
      "name": "python3"
    },
    "language_info": {
      "codemirror_mode": {
        "name": "ipython",
        "version": 3
      },
      "file_extension": ".py",
      "mimetype": "text/x-python",
      "name": "python",
      "nbconvert_exporter": "python",
      "pygments_lexer": "ipython3",
      "version": "3.6.8"
    },
    "colab": {
      "name": "Bayan_homework6_part1.ipynb",
      "provenance": []
    },
    "accelerator": "GPU"
  },
  "cells": [
    {
      "cell_type": "markdown",
      "metadata": {
        "id": "A6d53N9PQJu-"
      },
      "source": [
        "### Generating names with recurrent neural networks\n",
        "\n",
        "This time you'll find yourself delving into the heart (and other intestines) of recurrent neural networks on a class of toy problems.\n",
        "\n",
        "Struggle to find a name for the variable? Let's see how you'll come up with a name for your son/daughter. Surely no human has expertize over what is a good child name, so let us train RNN instead;\n",
        "\n",
        "It's dangerous to go alone, take these:"
      ]
    },
    {
      "cell_type": "code",
      "metadata": {
        "collapsed": true,
        "id": "E3N7486xQJvE",
        "colab": {
          "base_uri": "https://localhost:8080/"
        },
        "outputId": "55f4c8dc-b9f7-4660-d765-a8a429a617b4"
      },
      "source": [
        "import numpy as np\n",
        "import matplotlib.pyplot as plt\n",
        "%matplotlib inline\n",
        "\n",
        "!wget https://raw.githubusercontent.com/yandexdataschool/Practical_DL/fall19/week06_rnn/mtg_card_names.txt -O names"
      ],
      "execution_count": 83,
      "outputs": [
        {
          "output_type": "stream",
          "name": "stdout",
          "text": [
            "--2021-11-02 13:11:18--  https://raw.githubusercontent.com/yandexdataschool/Practical_DL/fall19/week06_rnn/mtg_card_names.txt\n",
            "Resolving raw.githubusercontent.com (raw.githubusercontent.com)... 185.199.108.133, 185.199.109.133, 185.199.110.133, ...\n",
            "Connecting to raw.githubusercontent.com (raw.githubusercontent.com)|185.199.108.133|:443... connected.\n",
            "HTTP request sent, awaiting response... 200 OK\n",
            "Length: 645304 (630K) [text/plain]\n",
            "Saving to: ‘names’\n",
            "\n",
            "\rnames                 0%[                    ]       0  --.-KB/s               \rnames               100%[===================>] 630.18K  --.-KB/s    in 0.03s   \n",
            "\n",
            "2021-11-02 13:11:18 (19.0 MB/s) - ‘names’ saved [645304/645304]\n",
            "\n"
          ]
        }
      ]
    },
    {
      "cell_type": "markdown",
      "metadata": {
        "id": "oYDOwHIKQJvG"
      },
      "source": [
        "# Our data\n",
        "The dataset contains ~8k earthling names from different cultures, all in latin transcript.\n",
        "\n",
        "This notebook has been designed so as to allow you to quickly swap names for something similar: deep learning article titles, IKEA furniture, pokemon names, etc."
      ]
    },
    {
      "cell_type": "code",
      "metadata": {
        "collapsed": true,
        "id": "q5w_UQbeQJvH"
      },
      "source": [
        "import os\n",
        "start_token = \" \"\n",
        "\n",
        "with open(\"names\") as f:\n",
        "    lines = f.read()[:-1].split('\\n')\n",
        "    lines = [start_token + line for line in lines]"
      ],
      "execution_count": 84,
      "outputs": []
    },
    {
      "cell_type": "code",
      "metadata": {
        "id": "kZJyAQjTQJvH",
        "colab": {
          "base_uri": "https://localhost:8080/"
        },
        "outputId": "e1354529-fd28-4de1-f6dd-156c66a609dd"
      },
      "source": [
        "print ('n samples = ',len(lines))\n",
        "for x in lines[::1000]:\n",
        "    print (x)\n",
        "    \n"
      ],
      "execution_count": 85,
      "outputs": [
        {
          "output_type": "stream",
          "name": "stdout",
          "text": [
            "n samples =  16714\n",
            " [1G] Instant: Moonmist\n",
            " [None] Land: Crystal Quarry\n",
            " [3GW] Legendary Enchantment Creature, God: Karametra, God of Harvests\n",
            " [2R] Creature, Human Rogue: Spireside Infiltrator\n",
            " [3R] Creature, Human Archer: Mardu Heart-Piercer\n",
            " [UB] Creature, Spirit: Dimir Infiltrator\n",
            " [2UU] Creature, Human Wizard: Lunar Mystic\n",
            " [3R] Creature, Goblin Artificer: Krark-Clan Engineers\n",
            " [4GG] Creature, Elemental Warrior: Root-Kin Ally\n",
            " [None] Land: Ancient Tomb\n",
            " [None] Plane, Ulgrotha: The Dark Barony\n",
            " [3U] Creature, Bird Wizard: Aven Fogbringer\n",
            " [5R] Creature, Djinn: Halam Djinn\n",
            " [3WW] Creature, Human: Veteran Bodyguard\n",
            " [2RRR] Creature, Human Berserker: Aerathi Berserker\n",
            " [None] Legendary Creature, Eldrazi Angel: Brisela, Voice of Nightmares\n",
            " [2U] Creature, Human Wizard: Apprentice Sorcerer\n"
          ]
        }
      ]
    },
    {
      "cell_type": "code",
      "metadata": {
        "id": "Ryrg1dlzQJvI",
        "colab": {
          "base_uri": "https://localhost:8080/",
          "height": 299
        },
        "outputId": "6c7ed94a-9e19-41d4-b168-77c6a5d0c133"
      },
      "source": [
        "MAX_LENGTH = max(map(len, lines))\n",
        "print(\"max length =\", MAX_LENGTH)\n",
        "\n",
        "plt.title('Sequence length distribution')\n",
        "plt.hist(list(map(len, lines)),bins=25);"
      ],
      "execution_count": 86,
      "outputs": [
        {
          "output_type": "stream",
          "name": "stdout",
          "text": [
            "max length = 169\n"
          ]
        },
        {
          "output_type": "display_data",
          "data": {
            "image/png": "[encoded data removed]",
            "text/plain": [
              "<Figure size 432x288 with 1 Axes>"
            ]
          },
          "metadata": {
            "needs_background": "light"
          }
        }
      ]
    },
    {
      "cell_type": "markdown",
      "metadata": {
        "id": "8x0QgKsFQJvI"
      },
      "source": [
        "# Text processing\n",
        "\n",
        "First we need next to collect a \"vocabulary\" of all unique tokens i.e. unique characters. We can then encode inputs as a sequence of character ids."
      ]
    },
    {
      "cell_type": "code",
      "metadata": {
        "id": "N6O_nBKRQJvJ",
        "colab": {
          "base_uri": "https://localhost:8080/"
        },
        "outputId": "b3ee5a86-1c56-403c-aca5-8a22e0f6529c"
      },
      "source": [
        "#all unique characters go here\n",
        "tokens = set(''.join(lines))\n",
        "\n",
        "tokens = list(tokens)\n",
        "\n",
        "num_tokens = len(tokens)\n",
        "print ('num_tokens = ', num_tokens)\n",
        "\n",
        "assert 77 < num_tokens < 79, \"Names should contain within 50 and 60 unique tokens depending on encoding\""
      ],
      "execution_count": 88,
      "outputs": [
        {
          "output_type": "stream",
          "name": "stdout",
          "text": [
            "num_tokens =  78\n"
          ]
        }
      ]
    },
    {
      "cell_type": "markdown",
      "metadata": {
        "id": "gLByPsXtQJvJ"
      },
      "source": [
        "### Convert characters to integers\n",
        "\n",
        "Torch is built for crunching numbers, not strings. \n",
        "To train our neural network, we'll need to replace characters with their indices in tokens list.\n",
        "\n",
        "Let's compose a dictionary that does this mapping."
      ]
    },
    {
      "cell_type": "code",
      "metadata": {
        "collapsed": true,
        "id": "D-FkoJAoQJvK"
      },
      "source": [
        "token_to_id = {}\n",
        "for i, token in enumerate(tokens):\n",
        "  token_to_id[token] = i"
      ],
      "execution_count": 89,
      "outputs": []
    },
    {
      "cell_type": "code",
      "metadata": {
        "id": "GGNvkEQAQJvK",
        "colab": {
          "base_uri": "https://localhost:8080/"
        },
        "outputId": "efb13b2f-e048-433e-a68a-c014cb02c177"
      },
      "source": [
        "assert len(tokens) == len(token_to_id), \"dictionaries must have same size\"\n",
        "\n",
        "for i in range(num_tokens):\n",
        "    assert token_to_id[tokens[i]] == i, \"token identifier must be it's position in tokens list\"\n",
        "\n",
        "print(\"Seems alright!\")"
      ],
      "execution_count": 90,
      "outputs": [
        {
          "output_type": "stream",
          "name": "stdout",
          "text": [
            "Seems alright!\n"
          ]
        }
      ]
    },
    {
      "cell_type": "code",
      "metadata": {
        "collapsed": true,
        "id": "PHxqiS63QJvL"
      },
      "source": [
        "def to_matrix(lines, max_len=None, pad=token_to_id[' '], dtype='int32', batch_first = True):\n",
        "    \"\"\"Casts a list of names into rnn-digestable matrix\"\"\"\n",
        "    \n",
        "    max_len = max_len or max(map(len, lines))\n",
        "    lines_ix = np.zeros([len(lines), max_len], dtype) + pad\n",
        "\n",
        "    for i in range(len(lines)):\n",
        "        line_ix = [token_to_id[c] for c in lines[i]]\n",
        "        lines_ix[i, :len(line_ix)] = line_ix\n",
        "        \n",
        "    if not batch_first: # convert [batch, time] into [time, batch]\n",
        "        lines_ix = np.transpose(lines_ix)\n",
        "\n",
        "    return lines_ix"
      ],
      "execution_count": 91,
      "outputs": []
    },
    {
      "cell_type": "code",
      "metadata": {
        "id": "SksvLpsOQJvM",
        "colab": {
          "base_uri": "https://localhost:8080/"
        },
        "outputId": "0b5992b1-7104-4097-a81c-c1ee4be07752"
      },
      "source": [
        "#Example: cast 4 random names to matrices, pad with zeros\n",
        "print('\\n'.join(lines[::2000]))\n",
        "print(to_matrix(lines[::2000]))"
      ],
      "execution_count": 92,
      "outputs": [
        {
          "output_type": "stream",
          "name": "stdout",
          "text": [
            " [1G] Instant: Moonmist\n",
            " [3GW] Legendary Enchantment Creature, God: Karametra, God of Harvests\n",
            " [3R] Creature, Human Archer: Mardu Heart-Piercer\n",
            " [2UU] Creature, Human Wizard: Lunar Mystic\n",
            " [4GG] Creature, Elemental Warrior: Root-Kin Ally\n",
            " [None] Plane, Ulgrotha: The Dark Barony\n",
            " [5R] Creature, Djinn: Halam Djinn\n",
            " [2RRR] Creature, Human Berserker: Aerathi Berserker\n",
            " [2U] Creature, Human Wizard: Apprentice Sorcerer\n",
            "[[ 5 71 73 66 41  5  2 62 14 61 74 62 61 39  5 49 54 54 62 76 77 14 61  5\n",
            "   5  5  5  5  5  5  5  5  5  5  5  5  5  5  5  5  5  5  5  5  5  5  5  5\n",
            "   5  5  5  5  5  5  5  5  5  5  5  5  5  5  5  5  5  5  5  5  5  5]\n",
            " [ 5 71 35 66 51 41  5 70 32 47 32 62 65 74 25 28  5 55 62 29 44 74 62 61\n",
            "  76 32 62 61  5 68 25 32 74 61 50 25 32 17  5 66 54 65 39  5 46 74 25 74\n",
            "  76 32 61 25 74 17  5 66 54 65  5 54 43  5 36 74 25 38 32 14 61 14]\n",
            " [ 5 71 35 16 41  5 68 25 32 74 61 50 25 32 17  5 36 50 76 74 62  5 11 25\n",
            "  29 44 32 25 39  5 49 74 25 65 50  5 36 32 74 25 61 69 45 77 32 25 29 32\n",
            "  25  5  5  5  5  5  5  5  5  5  5  5  5  5  5  5  5  5  5  5  5  5]\n",
            " [ 5 71 60 52 52 41  5 68 25 32 74 61 50 25 32 17  5 36 50 76 74 62  5 51\n",
            "  77 40 74 25 65 39  5 70 50 62 74 25  5 49 28 14 61 77 29  5  5  5  5  5\n",
            "   5  5  5  5  5  5  5  5  5  5  5  5  5  5  5  5  5  5  5  5  5  5]\n",
            " [ 5 71 24 66 66 41  5 68 25 32 74 61 50 25 32 17  5 55 18 32 76 32 62 61\n",
            "  74 18  5 51 74 25 25 77 54 25 39  5 16 54 54 61 69 46 77 62  5 11 18 18\n",
            "  28  5  5  5  5  5  5  5  5  5  5  5  5  5  5  5  5  5  5  5  5  5]\n",
            " [ 5 71  3 54 62 32 41  5 45 18 74 62 32 17  5 52 18 47 25 54 61 44 74 39\n",
            "   5 37 44 32  5 19 74 25  4  5 13 74 25 54 62 28  5  5  5  5  5  5  5  5\n",
            "   5  5  5  5  5  5  5  5  5  5  5  5  5  5  5  5  5  5  5  5  5  5]\n",
            " [ 5 71 33 16 41  5 68 25 32 74 61 50 25 32 17  5 19 64 77 62 62 39  5 36\n",
            "  74 18 74 76  5 19 64 77 62 62  5  5  5  5  5  5  5  5  5  5  5  5  5  5\n",
            "   5  5  5  5  5  5  5  5  5  5  5  5  5  5  5  5  5  5  5  5  5  5]\n",
            " [ 5 71 60 16 16 16 41  5 68 25 32 74 61 50 25 32 17  5 36 50 76 74 62  5\n",
            "  13 32 25 14 32 25  4 32 25 39  5 11 32 25 74 61 44 77  5 13 32 25 14 32\n",
            "  25  4 32 25  5  5  5  5  5  5  5  5  5  5  5  5  5  5  5  5  5  5]\n",
            " [ 5 71 60 52 41  5 68 25 32 74 61 50 25 32 17  5 36 50 76 74 62  5 51 77\n",
            "  40 74 25 65 39  5 11 72 72 25 32 62 61 77 29 32  5 57 54 25 29 32 25 32\n",
            "  25  5  5  5  5  5  5  5  5  5  5  5  5  5  5  5  5  5  5  5  5  5]]\n"
          ]
        }
      ]
    },
    {
      "cell_type": "markdown",
      "metadata": {
        "id": "92P37cnvQJvM"
      },
      "source": [
        "# Recurrent neural network\n",
        "\n",
        "We can rewrite recurrent neural network as a consecutive application of dense layer to input $x_t$ and previous rnn state $h_t$. This is exactly what we're gonna do now.\n",
        "<img src=\"https://github.com/yandexdataschool/Practical_DL/blob/fall21/week06_rnn/rnn.png?raw=1\" width=480>\n",
        "\n",
        "Since we're training a language model, there should also be:\n",
        "* An embedding layer that converts character id x_t to a vector.\n",
        "* An output layer that predicts probabilities of next phoneme"
      ]
    },
    {
      "cell_type": "markdown",
      "metadata": {
        "id": "BPazDtlRvUjQ"
      },
      "source": [
        "## implement a model that uses 2 LSTM layers (the second lstm uses the first as input) and train it on your data (mtg_card_names.txt) also I did it on names data which we used in seminar"
      ]
    },
    {
      "cell_type": "code",
      "metadata": {
        "collapsed": true,
        "id": "vfIoFkekQJvO"
      },
      "source": [
        "import torch, torch.nn as nn\n",
        "import torch.nn.functional as F\n",
        "\n",
        "class CharRNNCell(nn.Module):\n",
        "    \"\"\"\n",
        "    Implement the scheme above as torch module\n",
        "    \"\"\"\n",
        "    def __init__(self, num_tokens=len(tokens), embedding_size=16, lstm_num_units=64):\n",
        "        super(self.__class__,self).__init__()\n",
        "        self.num_units = lstm_num_units\n",
        "        \n",
        "        self.embedding = nn.Embedding(num_tokens, embedding_size)       \n",
        "        self.lstm1 = nn.LSTMCell(embedding_size, lstm_num_units)\n",
        "        self.lstm2 = nn.LSTMCell(embedding_size, lstm_num_units)\n",
        "        self.rnn_to_logits = nn.Linear(lstm_num_units, num_tokens)\n",
        "        \n",
        "    def forward(self, x, h_prev):\n",
        "        \"\"\"\n",
        "        This method computes h_next(x, h_prev) and log P(x_next | h_next)\n",
        "        We'll call it repeatedly to produce the whole sequence.\n",
        "        \n",
        "        :param x: batch of character ids, int64[batch_size] (next_h1, next_c1)\n",
        "        :param h_prev: previous rnn hidden states, float32 matrix [batch, rnn_num_units]\n",
        "        \"\"\"\n",
        "        (prev_h, prev_c) =  h_prev\n",
        "        (next_h1, next_c1) = self.lstm1(self.embedding(x), (prev_h, prev_c))\n",
        "        (next_h2, next_c2) = self.lstm2(self.embedding(x),  (next_h1, next_c1))\n",
        "\n",
        "        logits = self.rnn_to_logits(next_h2)\n",
        "        \n",
        "        return (next_h2, next_c2), F.log_softmax(logits, -1)\n",
        "\n",
        "    \n",
        "    def initial_state(self, batch_size):\n",
        "        \"\"\" return rnn state before it processes first input (aka h0) \"\"\"\n",
        "        return torch.zeros(batch_size, self.num_units), torch.zeros(batch_size, self.num_units)"
      ],
      "execution_count": 93,
      "outputs": []
    },
    {
      "cell_type": "code",
      "metadata": {
        "colab": {
          "base_uri": "https://localhost:8080/"
        },
        "id": "ekS8t7MOqk9d",
        "outputId": "a3f054d2-878a-4cdf-f37e-b411884bd1d7"
      },
      "source": [
        "device = 'cuda' if torch.cuda.is_available() else 'cpu'\n",
        "print(device)"
      ],
      "execution_count": 94,
      "outputs": [
        {
          "output_type": "stream",
          "name": "stdout",
          "text": [
            "cuda\n"
          ]
        }
      ]
    },
    {
      "cell_type": "code",
      "metadata": {
        "collapsed": true,
        "id": "AbIeypO4QJvP"
      },
      "source": [
        "char_lstm = CharRNNCell()"
      ],
      "execution_count": 95,
      "outputs": []
    },
    {
      "cell_type": "markdown",
      "metadata": {
        "id": "yTg5KGVzQJvQ"
      },
      "source": [
        "### RNN loop\n",
        "\n",
        "Once we've defined a single RNN step, we can apply it in a loop to get predictions on each step."
      ]
    },
    {
      "cell_type": "code",
      "metadata": {
        "collapsed": true,
        "id": "-VMsb_r5QJvQ"
      },
      "source": [
        "def rnn_loop(char_rnn, batch_ix):\n",
        "    \"\"\"\n",
        "    Computes log P(next_character) for all time-steps in lines_ix\n",
        "    :param lines_ix: an int32 matrix of shape [batch, time], output of to_matrix(lines)\n",
        "    \"\"\"\n",
        "    batch_size, max_length = batch_ix.size()\n",
        "    hid_state = char_rnn.initial_state(batch_size)\n",
        "    logprobs = []\n",
        "\n",
        "    for x_t in batch_ix.transpose(0,1):\n",
        "        hid_state, logp_next = char_rnn(x_t, hid_state)  # <-- here we call your one-step code\n",
        "        logprobs.append(logp_next)\n",
        "        \n",
        "    return torch.stack(logprobs, dim=1)"
      ],
      "execution_count": 96,
      "outputs": []
    },
    {
      "cell_type": "markdown",
      "metadata": {
        "id": "egzIJ1SMQJvS"
      },
      "source": [
        "### Likelihood and gradients\n",
        "\n",
        "We can now train our neural network to minimize crossentropy (maximize log-likelihood) with the actual next tokens.\n",
        "\n",
        "To do so in a vectorized manner, we take `batch_ix[:, 1:]` - a matrix of token ids shifted i step to the left so i-th element is acutally the \"next token\" for i-th prediction"
      ]
    },
    {
      "cell_type": "code",
      "metadata": {
        "collapsed": true,
        "id": "4WdW3DuBQJvT"
      },
      "source": [
        "predictions_logp = logp_seq[:, :-1]\n",
        "actual_next_tokens = batch_ix[:, 1:]\n",
        "\n",
        "logp_next = torch.gather(predictions_logp, dim=2, index=actual_next_tokens[:,:,None])\n",
        "\n",
        "loss = -logp_next.mean()"
      ],
      "execution_count": 77,
      "outputs": []
    },
    {
      "cell_type": "code",
      "metadata": {
        "collapsed": true,
        "id": "enpsFom5QJvT"
      },
      "source": [
        "loss.backward()"
      ],
      "execution_count": 78,
      "outputs": []
    },
    {
      "cell_type": "code",
      "metadata": {
        "collapsed": true,
        "id": "XfMoYWCTQJvU"
      },
      "source": [
        "#for w in char_lstm.parameters():\n",
        "    #assert w.grad is not None and torch.max(torch.abs(w.grad)).data.numpy() != 0, \\\n",
        "      #  \"Loss is not differentiable w.r.t. a weight with shape %s. Check forward method.\" % (w.size(),)"
      ],
      "execution_count": 82,
      "outputs": []
    },
    {
      "cell_type": "markdown",
      "metadata": {
        "id": "vXKQ3dBQQJvU"
      },
      "source": [
        "### The training loop\n",
        "\n",
        "We train our char-rnn exactly the same way we train any deep learning model: by minibatch sgd.\n",
        "\n",
        "The only difference is that this time we sample strings, not images or sound."
      ]
    },
    {
      "cell_type": "code",
      "metadata": {
        "collapsed": true,
        "id": "e4kWrxZUQJvV"
      },
      "source": [
        "from IPython.display import clear_output\n",
        "from random import sample\n",
        "\n",
        "char_rnn = CharRNNCell()\n",
        "opt = torch.optim.Adam(char_rnn.parameters())\n",
        "history = []"
      ],
      "execution_count": 98,
      "outputs": []
    },
    {
      "cell_type": "code",
      "metadata": {
        "id": "Llz8-SqCQJvV",
        "colab": {
          "base_uri": "https://localhost:8080/",
          "height": 267
        },
        "outputId": "ef475e06-9f55-44e4-bc13-6e195f40081d"
      },
      "source": [
        "\n",
        "for i in range(1000):\n",
        "    batch_ix = to_matrix(sample(lines, 32), max_len=MAX_LENGTH)\n",
        "    batch_ix = torch.tensor(batch_ix, dtype=torch.int64)\n",
        "    \n",
        "    logp_seq = rnn_loop(char_rnn, batch_ix)\n",
        "    \n",
        "    # compute loss\n",
        "    predictions_logp = logp_seq[:, :-1]\n",
        "    actual_next_tokens = batch_ix[:, 1:]\n",
        "\n",
        "    #logp_next = torch.gather(predictions_logp, dim=2, index=actual_next_tokens[:,:,None])\n",
        "\n",
        "    #loss = -logp_next.mean()\n",
        "    loss = F.nll_loss(logp_seq[:, :-1].contiguous().view(-1, num_tokens), \n",
        "                  batch_ix[:, 1:].contiguous().view(-1))\n",
        "    \n",
        "    # train with backprop\n",
        "    loss.backward()\n",
        "    opt.step()\n",
        "    opt.zero_grad()\n",
        "    \n",
        "    history.append(loss.data.numpy())\n",
        "    if (i+1)%100==0:\n",
        "        clear_output(True)\n",
        "        plt.plot(history,label='loss')\n",
        "        plt.legend()\n",
        "        plt.show()\n",
        "\n",
        "assert np.mean(history[:10]) > np.mean(history[-10:]), \"RNN didn't converge.\""
      ],
      "execution_count": 99,
      "outputs": [
        {
          "output_type": "display_data",
          "data": {
            "image/png": "[encoded data removed]",
            "text/plain": [
              "<Figure size 432x288 with 1 Axes>"
            ]
          },
          "metadata": {
            "needs_background": "light"
          }
        }
      ]
    },
    {
      "cell_type": "markdown",
      "metadata": {
        "id": "JDC6diOcQJvV"
      },
      "source": [
        "### RNN: sampling\n",
        "Once we've trained our network a bit, let's get to actually generating stuff. \n",
        "All we need is the single rnn step function you have defined in `char_rnn.forward`."
      ]
    },
    {
      "cell_type": "code",
      "metadata": {
        "collapsed": true,
        "id": "KxsPvLTzQJvW"
      },
      "source": [
        "def generate_sample(char_rnn, seed_phrase=' ', max_length=MAX_LENGTH, temperature=1.0):\n",
        "    '''\n",
        "    The function generates text given a phrase of length at least SEQ_LENGTH.\n",
        "    :param seed_phrase: prefix characters. The RNN is asked to continue the phrase\n",
        "    :param max_length: maximum output length, including seed_phrase\n",
        "    :param temperature: coefficient for sampling.  higher temperature produces more chaotic outputs,\n",
        "                        smaller temperature converges to the single most likely output\n",
        "    '''\n",
        "    \n",
        "    x_sequence = [token_to_id[token] for token in seed_phrase]\n",
        "    x_sequence = torch.tensor([x_sequence], dtype=torch.int64)\n",
        "    hid_state = char_rnn.initial_state(batch_size=1)\n",
        "    \n",
        "    #feed the seed phrase, if any\n",
        "    for i in range(len(seed_phrase) - 1):\n",
        "        hid_state, _ = char_rnn(x_sequence[:, i], hid_state)\n",
        "    \n",
        "    #start generating\n",
        "    for _ in range(max_length - len(seed_phrase)):\n",
        "        hid_state, logp_next = char_rnn(x_sequence[:, -1], hid_state)\n",
        "        p_next = F.softmax(logp_next / temperature, dim=-1).data.numpy()[0]\n",
        "        \n",
        "        # sample next token and push it back into x_sequence\n",
        "        next_ix = np.random.choice(num_tokens,p=p_next)\n",
        "        next_ix = torch.tensor([[next_ix]], dtype=torch.int64)\n",
        "        x_sequence = torch.cat([x_sequence, next_ix], dim=1)\n",
        "        \n",
        "    return ''.join([tokens[ix] for ix in x_sequence.data.numpy()[0]])"
      ],
      "execution_count": 100,
      "outputs": []
    },
    {
      "cell_type": "code",
      "metadata": {
        "id": "TpUmoIaHQJvW",
        "colab": {
          "base_uri": "https://localhost:8080/"
        },
        "outputId": "80772d99-39db-4d5d-8ed4-4ac42dbab8da"
      },
      "source": [
        " for _ in range(10):\n",
        "    print(generate_sample(char_rnn))"
      ],
      "execution_count": 101,
      "outputs": [
        {
          "output_type": "stream",
          "name": "stdout",
          "text": [
            " [Uon] Instant: oore Fopte Kanizef Crargin                                                                                                                               \n",
            " [5onLe] Svanlis  Arhuwin oftal                                        W                                                                                                 \n",
            " [US] C Irtifat: Eakigen Dhage                                                                                          R                                                \n",
            " [2B] Artireat: Gouge Klo Bed Indiir                                                                                                                                     \n",
            " [1W] Eacture, Heacti, Parfore                                                                                                                                           \n",
            " [2W] Crlicman, Creactarythest Binot                                                                                                                                     \n",
            " [3BUB] Creature, HuigScln Schare: Brdagenon                                                                                                                             \n",
            " [3RU] Enentary: orde Ceacars                                                                                                                                            \n",
            " [4R] Instant: Rof MVaght                                                                                                                                                \n",
            " [1RU] Crong: [Bemanur: Ssurgad: Dgearrerg                                                                                                                               \n"
          ]
        }
      ]
    },
    {
      "cell_type": "code",
      "metadata": {
        "id": "JcFy8MuQQJvX",
        "colab": {
          "base_uri": "https://localhost:8080/"
        },
        "outputId": "86336bdf-4f06-41d4-a6af-8ad4d58e3016"
      },
      "source": [
        "for _ in range(50):\n",
        "    print(generate_sample(char_rnn, seed_phrase=' Svanlis'))"
      ],
      "execution_count": 102,
      "outputs": [
        {
          "output_type": "stream",
          "name": "stdout",
          "text": [
            " SvanlisL] Crthena  Mlan, Sopupary                                                                                                                                       \n",
            " SvanlisUG] Enchantmcantment: Mosthaul: Anstqar: Supian                                                                                                                  \n",
            " SvanlisR]Unchant: tuegt                                                                                                                                                 \n",
            " Svanlis6RGM] Artifact, Enet: Stifrindant, Shf Anastarryr                                                                                                                \n",
            " SvanlisW] Sorce Ronkery Greaveigson                                                                                                                                     \n",
            " SvanlisEQronemant, Wolin Sdaoct                                                                                                                                         \n",
            " SvanlisR] Cneat, Ruacermolk Nytal                                                                                                                                       \n",
            " SvanlisG] Intart: Sohimang: Lecher                                                                                                                                      \n",
            " SvanlisCrR]neature, Gagon Narpier                                                                                                                                       \n",
            " SvanlisIG/R] Enccerusturat: Crals: Lalizouncer Sfald                                                                                                                    \n",
            " SvanlisK] Beand, Roloriwalle Wirf: Atrber: 3anser Tush: Spuress                                                                                                         \n",
            " SvanlisInlne, Grac'sgens 1estalBon                                                                                                                                      \n",
            " Svanlis] Elaomn: Cemensenfant: Nhaliti                                                                                                                                  \n",
            " SvanlisWLR/W] Artifact: Lvostent ousge                                                                                                                                  \n",
            " SvanlisER] Creature, Sidame: Gearse Niginvnol                                                                                                                           \n",
            " SvanlisGMG] Enchant: Staker: Malkol: Ifdatid                                                                                                                            \n",
            " SvanlisS7l] EcerMatamenOmt: Shzind: Ghappird                                                                                                                            \n",
            " SvanlisAgatolfre: Elune Cuban Shinfat: Honde Rivariil Rirwwolg                                                                                                          \n",
            " SvanlisB] Creature, Human SoeangMey: Doldiaos Goge                                                                                                                      \n",
            " SvanlisIB]wFnstanw, Hard: W4a AdQathkan Mhanautar                                                                                                                       \n",
            " Svanlise] Arthrore: Uena Cant erenoml Mislce: Amanemen Gofcer                                                                                                           \n",
            " SvanlisGWR] Instant: Blag Ore: Inithy Loviboy                                                                                                                           \n",
            " Svanlis2WofGG] Instant: Ruat Grudi                                                                                                                                      \n",
            " Svanlis4] Creature, Zreanh: Rworestraotte: Afitra: Daunis Crer                                                                                                          \n",
            " Svanlis0/C] Geriadamanture, Vabaozemelke olus                                                                                                                           \n",
            " SvanlisU]Ereay Aonch                                                                                                                                                    \n",
            " SvanlisWGU] Beotunent,restwurrte Ceriral Wager: Pe: Eozebee                                                                                                             \n",
            " Svanlis] HuaneF: Lehid ord' Foil'k                                                                                                                                      \n",
            " Svanlis] Leecxarard: Ganstherd Catj                                                                                                                                     \n",
            " SvanlisB] Selaure Shict: Enfatarg Deekin Uperosk                                                                                                                        \n",
            " SvanlisIn] Factory: ToHyther                                                                                                                                            \n",
            " SvanlisRG] Enhanture, Ele Thave                                                                                                                                         \n",
            " SvanlisBE] Creorp Ceature, Ccakie Uocuutint                                                                                                                             \n",
            " SvanlisE] Enhantment: Snitoraol: Fghatitkares                                                                                                                           \n",
            " Svanlis] Innant, Luafurnw                                                                                                                                               \n",
            " Svanlis] Creature,re, Ka Tkiry: Wol:Rangstr: Entithers                                                                                                                  \n",
            " Svanlis] Ene, Ranrergan/ Rerantfasie Wirc                                                 s                                                                             \n",
            " SvanlisWSanu] Cered: Dreolwend                                                                                                                                          \n",
            " SvanlisBU] Creature, Hunt                                                                                                                                               \n",
            " Svanlis] Crchant:  Inlsslein, Bllf Okarckan GG                                                                                                                          \n",
            " SvanlisS5B] Artiocce Clant, Shinpel Colfle tior                                                                                                                         \n",
            " SvanlisI] Marbr, Bace Ibtougs                                                                                                                                           \n",
            " Svanlis] Enchantmen Creamant: Ern Cenath Cbagesti, Shird                                                                                                                \n",
            " SvanlisU] Artyreatumera: Oolie: Sntasbiarg                                                                                                                              \n",
            " Svanlis] Creature, Ceqd Aragulag                                                                                                                                        \n",
            " SvanlisCs] Creatary Creature,Rait: Simestar                                                                                                                             \n",
            " Svanlis] Instant: Thanes                                                                             i                                                                  \n",
            " Svanlis4R] Aonchatt: Cinqiec: Bater                                                                                                                                     \n",
            " SvanlisG] Instat: Eleriilin Dranie Ante eins                                                                                                                            \n",
            " SvanlisM7] Enctord: Sorck Zrys&                                                                                                                                         \n"
          ]
        }
      ]
    },
    {
      "cell_type": "markdown",
      "metadata": {
        "id": "xNjU4xmJQJvX"
      },
      "source": [
        "### Try it out!\n",
        "You've just implemented a recurrent language model that can be tasked with generating any kind of sequence, so there's plenty of data you can try it on:\n",
        "\n",
        "* Novels/poems/songs of your favorite author\n",
        "* News titles/clickbait titles\n",
        "* Source code of Linux or Tensorflow\n",
        "* Molecules in [smiles](https://en.wikipedia.org/wiki/Simplified_molecular-input_line-entry_system) format\n",
        "* Melody in notes/chords format\n",
        "* Ikea catalog titles\n",
        "* Pokemon names\n",
        "* Cards from Magic, the Gathering / Hearthstone\n",
        "\n",
        "If you're willing to give it a try, here's what you wanna look at:\n",
        "* Current data format is a sequence of lines, so a novel can be formatted as a list of sentences. Alternatively, you can change data preprocessing altogether.\n",
        "* While some datasets are readily available, others can only be scraped from the web. Try `Selenium` or `Scrapy` for that.\n",
        "* Make sure MAX_LENGTH is adjusted for longer datasets. There's also a bonus section about dynamic RNNs at the bottom.\n",
        "* More complex tasks require larger RNN architecture, try more neurons or several layers. It would also require more training iterations.\n",
        "* Long-term dependencies in music, novels or molecules are better handled with LSTM or GRU\n",
        "\n",
        "__Good hunting!__"
      ]
    },
    {
      "cell_type": "markdown",
      "metadata": {
        "collapsed": true,
        "id": "sY-RYQgVQJvX"
      },
      "source": [
        "### More seriously\n",
        "\n",
        "What we just did is a manual low-level implementation of RNN. While it's cool, i guess you won't like the idea of re-writing it from scratch on every occasion. \n",
        "\n",
        "As you might have guessed, torch has a solution for this. To be more specific, there are two options:\n",
        "* `nn.RNNCell(emb_size, rnn_num_units)` - implements a single step of RNN just like you did. Basically concat-linear-tanh\n",
        "* `nn.RNN(emb_size, rnn_num_units` - implements the whole rnn_loop for you.\n",
        "\n",
        "There's also `nn.LSTMCell` vs `nn.LSTM`, `nn.GRUCell` vs `nn.GRU`, etc. etc.\n",
        "\n",
        "In this example we'll rewrite the char_rnn and rnn_loop using high-level rnn API."
      ]
    },
    {
      "cell_type": "code",
      "metadata": {
        "collapsed": true,
        "id": "MQsDqPEAQJvY"
      },
      "source": [
        "class CharRNNLoop(nn.Module):\n",
        "    def __init__(self, num_tokens=num_tokens, emb_size=16, rnn_num_units=64):\n",
        "        super(self.__class__, self).__init__()\n",
        "        self.emb = nn.Embedding(num_tokens, emb_size)\n",
        "        self.rnn = nn.RNN(emb_size, rnn_num_units, batch_first=True)\n",
        "        self.hid_to_logits = nn.Linear(rnn_num_units, num_tokens)\n",
        "        \n",
        "    def forward(self, x):\n",
        "        h_seq, _ = self.rnn(self.emb(x))\n",
        "        next_logits = self.hid_to_logits(h_seq)\n",
        "        next_logp = F.log_softmax(next_logits, dim=-1)\n",
        "        return next_logp\n",
        "    \n",
        "model = CharRNNLoop()"
      ],
      "execution_count": null,
      "outputs": []
    },
    {
      "cell_type": "code",
      "metadata": {
        "collapsed": true,
        "id": "fKNisLelQJvY"
      },
      "source": [
        "# the model applies over the whole sequence\n",
        "batch_ix = to_matrix(sample(lines, 32), max_len=MAX_LENGTH)\n",
        "batch_ix = torch.tensor(batch_ix, dtype=torch.int64)\n",
        "\n",
        "logp_seq = model(batch_ix)\n",
        "\n",
        "# compute loss. This time we use nll_loss with some duct tape\n",
        "loss = F.nll_loss(logp_seq[:, :-1].contiguous().view(-1, num_tokens), \n",
        "                  batch_ix[:, 1:].contiguous().view(-1))\n",
        "\n",
        "loss.backward()"
      ],
      "execution_count": null,
      "outputs": []
    },
    {
      "cell_type": "markdown",
      "metadata": {
        "collapsed": true,
        "id": "TW6Yd-p0QJvZ"
      },
      "source": [
        "Here's another example"
      ]
    },
    {
      "cell_type": "code",
      "metadata": {
        "collapsed": true,
        "id": "mCRVrxDCQJvZ"
      },
      "source": [
        "import torch, torch.nn as nn\n",
        "import torch.nn.functional as F\n",
        "\n",
        "class CharLSTMCell(nn.Module):\n",
        "    \"\"\"\n",
        "    Implements something like CharRNNCell, but with LSTM\n",
        "    \"\"\"\n",
        "    def __init__(self, num_tokens=len(tokens), embedding_size=16, rnn_num_units=64):\n",
        "        super(self.__class__,self).__init__()\n",
        "        self.num_units = rnn_num_units\n",
        "        self.emb = nn.Embedding(num_tokens, embedding_size)\n",
        "        self.lstm = nn.LSTMCell(embedding_size, rnn_num_units)\n",
        "        self.rnn_to_logits = nn.Linear(rnn_num_units, num_tokens)\n",
        "        \n",
        "    def forward(self, x, prev_state):\n",
        "        (prev_h, prev_c) = prev_state\n",
        "        (next_h, next_c) = self.lstm(self.emb(x), (prev_h, prev_c))\n",
        "        logits = self.rnn_to_logits(next_h)\n",
        "        \n",
        "        return (next_h, next_c), F.log_softmax(logits, -1)\n",
        "    \n",
        "    def initial_state(self, batch_size):\n",
        "        \"\"\" LSTM has two state variables, cell and hid \"\"\"\n",
        "        return torch.zeros(batch_size, self.num_units), torch.zeros(batch_size, self.num_units)\n",
        "    \n",
        "char_lstm = CharLSTMCell()"
      ],
      "execution_count": null,
      "outputs": []
    },
    {
      "cell_type": "code",
      "metadata": {
        "collapsed": true,
        "id": "vjXwyycuQJva"
      },
      "source": [
        "# the model applies over the whole sequence\n",
        "batch_ix = to_matrix(sample(lines, 32), max_len=MAX_LENGTH)\n",
        "batch_ix = torch.tensor(batch_ix, dtype=torch.int64)\n",
        "\n",
        "logp_seq = rnn_loop(char_lstm, batch_ix)\n",
        "\n",
        "# compute loss. This time we use nll_loss with some duct tape\n",
        "loss = F.nll_loss(logp_seq[:, :-1].contiguous().view(-1, num_tokens), \n",
        "                  batch_ix[:, 1:].contiguous().view(-1))\n",
        "\n",
        "loss.backward()"
      ],
      "execution_count": null,
      "outputs": []
    },
    {
      "cell_type": "markdown",
      "metadata": {
        "id": "H6HPhkVUQJva"
      },
      "source": [
        "__Bonus quest: __ implement a model that uses 2 LSTM layers (the second lstm uses the first as input) and train it on your data."
      ]
    }
  ]
}