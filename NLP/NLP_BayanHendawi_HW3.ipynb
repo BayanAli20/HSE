{
  "nbformat": 4,
  "nbformat_minor": 0,
  "metadata": {
    "colab": {
      "name": "NLP_BayanHendawi_HW3.ipynb",
      "provenance": [],
      "collapsed_sections": []
    },
    "kernelspec": {
      "name": "python3",
      "display_name": "Python 3"
    },
    "language_info": {
      "name": "python"
    }
  },
  "cells": [
    {
      "cell_type": "code",
      "metadata": {
        "id": "QoYPUsj0qtbi"
      },
      "source": [
        "import nltk\n",
        "%matplotlib inline\n",
        "import matplotlib.pyplot as plt\n",
        "plt.style.use('ggplot')"
      ],
      "execution_count": 1,
      "outputs": []
    },
    {
      "cell_type": "code",
      "metadata": {
        "colab": {
          "base_uri": "https://localhost:8080/"
        },
        "id": "7TY8N7Pp2MiL",
        "outputId": "dddb86a0-2305-45a2-86ad-e34826e22123"
      },
      "source": [
        "pip install opencorpora-tools"
      ],
      "execution_count": 2,
      "outputs": [
        {
          "output_type": "stream",
          "text": [
            "Requirement already satisfied: opencorpora-tools in /usr/local/lib/python3.7/dist-packages (0.6)\n",
            "Requirement already satisfied: lxml in /usr/local/lib/python3.7/dist-packages (from opencorpora-tools) (4.2.6)\n"
          ],
          "name": "stdout"
        }
      ]
    },
    {
      "cell_type": "code",
      "metadata": {
        "id": "MbNxpriO2O3s"
      },
      "source": [
        "\n",
        "\n",
        "import nltk\n",
        "\n",
        "import random\n"
      ],
      "execution_count": 3,
      "outputs": []
    },
    {
      "cell_type": "markdown",
      "metadata": {
        "id": "ugnwwu2l_Q_S"
      },
      "source": [
        "#Task1"
      ]
    },
    {
      "cell_type": "code",
      "metadata": {
        "colab": {
          "base_uri": "https://localhost:8080/"
        },
        "id": "W8Qs14oO2Xpr",
        "outputId": "e7120e44-16c9-4827-c432-dd51eb43b266"
      },
      "source": [
        "nltk.Expression.fromstring(\"like(Angus, Cyril) & hate(Irene, Cyril)\")"
      ],
      "execution_count": 4,
      "outputs": [
        {
          "output_type": "execute_result",
          "data": {
            "text/plain": [
              "<AndExpression (like(Angus,Cyril) & hate(Irene,Cyril))>"
            ]
          },
          "metadata": {
            "tags": []
          },
          "execution_count": 4
        }
      ]
    },
    {
      "cell_type": "code",
      "metadata": {
        "colab": {
          "base_uri": "https://localhost:8080/"
        },
        "id": "5QNk3p0V2sCX",
        "outputId": "c536cfee-1034-492d-ae9f-0c33c4c04b33"
      },
      "source": [
        "nltk.Expression.fromstring(\"love(Bruce, Bruce) & love(Pat, Pat)\")"
      ],
      "execution_count": 5,
      "outputs": [
        {
          "output_type": "execute_result",
          "data": {
            "text/plain": [
              "<AndExpression (love(Bruce,Bruce) & love(Pat,Pat))>"
            ]
          },
          "metadata": {
            "tags": []
          },
          "execution_count": 5
        }
      ]
    },
    {
      "cell_type": "code",
      "metadata": {
        "colab": {
          "base_uri": "https://localhost:8080/"
        },
        "id": "0e1xGpn123dB",
        "outputId": "65855483-b850-4e00-8d06-336a4d36ec00"
      },
      "source": [
        "nltk.Expression.fromstring(\"saw(Cyril, Bertie) & !saw(Angus, Bertie)\")"
      ],
      "execution_count": 6,
      "outputs": [
        {
          "output_type": "execute_result",
          "data": {
            "text/plain": [
              "<AndExpression (saw(Cyril,Bertie) & -saw(Angus,Bertie))>"
            ]
          },
          "metadata": {
            "tags": []
          },
          "execution_count": 6
        }
      ]
    },
    {
      "cell_type": "code",
      "metadata": {
        "colab": {
          "base_uri": "https://localhost:8080/"
        },
        "id": "aj_4Oj-t6oDX",
        "outputId": "701a4304-97e4-4540-9859-efc78da278d5"
      },
      "source": [
        "nltk.Expression.fromstring(\"has_four_legs(Cyril) & friendly(Cyril)\")"
      ],
      "execution_count": 7,
      "outputs": [
        {
          "output_type": "execute_result",
          "data": {
            "text/plain": [
              "<AndExpression (has_four_legs(Cyril) & friendly(Cyril))>"
            ]
          },
          "metadata": {
            "tags": []
          },
          "execution_count": 7
        }
      ]
    },
    {
      "cell_type": "code",
      "metadata": {
        "colab": {
          "base_uri": "https://localhost:8080/"
        },
        "id": "qIz4xgbB65Oz",
        "outputId": "b160f973-320e-4899-f547-cf8e868c85c8"
      },
      "source": [
        "nltk.Expression.fromstring(\"(exists x. like(Angus, x)) & (exists y. like(y, Julia))\")"
      ],
      "execution_count": 8,
      "outputs": [
        {
          "output_type": "execute_result",
          "data": {
            "text/plain": [
              "<AndExpression (exists x.like(Angus,x) & exists y.like(y,Julia))>"
            ]
          },
          "metadata": {
            "tags": []
          },
          "execution_count": 8
        }
      ]
    },
    {
      "cell_type": "code",
      "metadata": {
        "colab": {
          "base_uri": "https://localhost:8080/"
        },
        "id": "w_fF1Pv-7J4L",
        "outputId": "8f5c0e3e-288e-48a9-9032-221291f7bdce"
      },
      "source": [
        "nltk.Expression.fromstring(\"exists x. (love(Angus, x) & love(x, Angus))\")"
      ],
      "execution_count": 9,
      "outputs": [
        {
          "output_type": "execute_result",
          "data": {
            "text/plain": [
              "<ExistsExpression exists x.(love(Angus,x) & love(x,Angus))>"
            ]
          },
          "metadata": {
            "tags": []
          },
          "execution_count": 9
        }
      ]
    },
    {
      "cell_type": "code",
      "metadata": {
        "colab": {
          "base_uri": "https://localhost:8080/"
        },
        "id": "HYuws2iC7Zvb",
        "outputId": "7ac1e133-72da-4e42-f859-e63a45ccb6de"
      },
      "source": [
        "nltk.Expression.fromstring(\"all x. - (cough(x) | sneeze(x))\")"
      ],
      "execution_count": 10,
      "outputs": [
        {
          "output_type": "execute_result",
          "data": {
            "text/plain": [
              "<AllExpression all x.-(cough(x) | sneeze(x))>"
            ]
          },
          "metadata": {
            "tags": []
          },
          "execution_count": 10
        }
      ]
    },
    {
      "cell_type": "code",
      "metadata": {
        "colab": {
          "base_uri": "https://localhost:8080/"
        },
        "id": "0FrNpVQU76kr",
        "outputId": "5a1376ed-2c44-47e6-8f1b-c306a233d57e"
      },
      "source": [
        "nltk.Expression.fromstring(\"all x. (x != Irene -> like(Cyril, x))\")"
      ],
      "execution_count": 11,
      "outputs": [
        {
          "output_type": "execute_result",
          "data": {
            "text/plain": [
              "<AllExpression all x.(-(x = Irene) -> like(Cyril,x))>"
            ]
          },
          "metadata": {
            "tags": []
          },
          "execution_count": 11
        }
      ]
    },
    {
      "cell_type": "markdown",
      "metadata": {
        "id": "kV2p66-H_NdU"
      },
      "source": [
        "#Task2"
      ]
    },
    {
      "cell_type": "code",
      "metadata": {
        "id": "iHW1mX3e_Pak"
      },
      "source": [
        "read_expr = nltk.sem.Expression.fromstring"
      ],
      "execution_count": 12,
      "outputs": []
    },
    {
      "cell_type": "code",
      "metadata": {
        "id": "ZfkXUT9k_Up2"
      },
      "source": [
        "expr = read_expr(r'\\x.\\y.(feed(x) & give_capuccino_to(y))(cyril,angus)').simplify()\n",
        "expr"
      ],
      "execution_count": 13,
      "outputs": []
    },
    {
      "cell_type": "code",
      "metadata": {
        "colab": {
          "base_uri": "https://localhost:8080/"
        },
        "id": "TXRVR-6rLqZN",
        "outputId": "1b735cbc-58f9-4bfa-f72e-668fdb1c2417"
      },
      "source": [
        "expr = read_expr(r'\\x.\\y.(feed(x) & give_capuccino_to(y))').simplify()\n",
        "expr"
      ],
      "execution_count": 15,
      "outputs": [
        {
          "output_type": "execute_result",
          "data": {
            "text/plain": [
              "<LambdaExpression \\x y.(feed(x) & give_capuccino_to(y))>"
            ]
          },
          "metadata": {
            "tags": []
          },
          "execution_count": 15
        }
      ]
    },
    {
      "cell_type": "code",
      "metadata": {
        "colab": {
          "base_uri": "https://localhost:8080/"
        },
        "id": "8nREXfqOBLsA",
        "outputId": "38933f46-ed3f-4be8-edfe-1a45e567df4d"
      },
      "source": [
        "expr = read_expr(r'\\x.\\y.(book(x) & given_by(x,pat))').simplify()\n",
        "expr"
      ],
      "execution_count": 16,
      "outputs": [
        {
          "output_type": "execute_result",
          "data": {
            "text/plain": [
              "<LambdaExpression \\x y.(book(x) & given_by(x,pat))>"
            ]
          },
          "metadata": {
            "tags": []
          },
          "execution_count": 16
        }
      ]
    },
    {
      "cell_type": "code",
      "metadata": {
        "colab": {
          "base_uri": "https://localhost:8080/"
        },
        "id": "WW05CWZAH2rW",
        "outputId": "275fa048-713b-4121-c738-d82df0c1ae7a"
      },
      "source": [
        "expr = read_expr(r'\\x.\\y.(love(x,y) | hate(x,y))').simplify()\n",
        "expr"
      ],
      "execution_count": 17,
      "outputs": [
        {
          "output_type": "execute_result",
          "data": {
            "text/plain": [
              "<LambdaExpression \\x y.(love(x,y) | hate(x,y))>"
            ]
          },
          "metadata": {
            "tags": []
          },
          "execution_count": 17
        }
      ]
    },
    {
      "cell_type": "code",
      "metadata": {
        "colab": {
          "base_uri": "https://localhost:8080/"
        },
        "id": "Mera9lcaJ0j-",
        "outputId": "e31024d0-dc38-443b-a757-60248c9678a1"
      },
      "source": [
        "expr = read_expr(r'\\x.\\y.(love(x,y) & !hate(x,y))').simplify()\n",
        "expr"
      ],
      "execution_count": 18,
      "outputs": [
        {
          "output_type": "execute_result",
          "data": {
            "text/plain": [
              "<LambdaExpression \\x y.(love(x,y) & -hate(x,y))>"
            ]
          },
          "metadata": {
            "tags": []
          },
          "execution_count": 18
        }
      ]
    },
    {
      "cell_type": "markdown",
      "metadata": {
        "id": "olu4EuV2atDo"
      },
      "source": [
        "#Task 3"
      ]
    },
    {
      "cell_type": "code",
      "metadata": {
        "colab": {
          "base_uri": "https://localhost:8080/"
        },
        "id": "Ilx4GWC9Yldd",
        "outputId": "67baff45-0cc0-4dbe-8beb-3874561bc617"
      },
      "source": [
        " nltk.data.show_cfg(\"grammer1.fcfg\")"
      ],
      "execution_count": 19,
      "outputs": [
        {
          "output_type": "stream",
          "text": [
            "% start S\n",
            "# Grammar Rules\n",
            "S[SEM = <app(?subj,?vp)>] -> NP[NUM=?n,SEM=?subj] VP[NUM=?n,SEM=?vp]\n",
            "NP[NUM=?n,SEM=<app(?det,?nom)> ] -> Det[NUM=?n,SEM=?det]  Nom[NUM=?n,SEM=?nom]\n",
            "NP[LOC=?l,NUM=?n,SEM=?np] -> PropN[LOC=?l,NUM=?n,SEM=?np]\n",
            "NP[-LOC,NUM=sg,SEM=<\\Q. (- exists x. (person(x) & Q(x)))>] -> 'nobody' | 'Nobody'\n",
            "NP[-LOC,NUM=sg,SEM=<\\Q. exists x. (person(x) & Q(x))>] -> 'somebody' | 'Somebody'\n",
            "Pred[SEM=?prd] -> PredN[SEM=?prd] | PP[+LOC,+PRED,SEM=?prd] | Adj[SEM=?prd]\n",
            "PredN[NUM=?n, SEM=?nom] -> Det[NUM=?n] Nom[NUM=?n, SEM=?nom]\n",
            "Nom[NUM=?n,SEM=?nom] -> N[NUM=?n,SEM=?nom]\n",
            "Nom[NUM=?n,SEM=<app(?pp,?nom)>] -> N[NUM=?n,SEM=?nom] PP[SEM=?pp]\n",
            "Nom[NUM=?n,SEM=<?adj(?nom)>] -> Adj[SEM=?adj] N[NUM=?n,SEM=?nom]\n",
            "VP[NUM=?n,SEM=<app(?v,?obj)>] -> TV[NUM=?n,SEM=?v] NP[SEM=?obj]\n",
            "VP[NUM=?n,SEM=<app(?v,?p)>] -> IV[NUM=?n,SEM=?v] P[LOC=?l,SEM=?p]\n",
            "VP[NUM=?n,SEM=?v] -> IV[NUM=?n,SEM=?v]\n",
            "VP[NUM=?n,SEM=<app(?pp,?vp)>] -> VP[NUM=?n,SEM=?vp] PP[-PRED,SEM=?pp]\n",
            "PP[LOC=?l,PRED=?prd,SEM=<app(?p,?np)>] -> P[LOC=?l,PRED=?prd,SEM=?p] NP[LOC=?l,SEM=?np]\n",
            "# Lexical Rules\n",
            "Det[NUM=sg,SEM=<\\P Q.exists x.(P(x) & Q(x))>] -> 'a' | 'A'\n",
            "Det[NUM=sg,SEM=<\\P Q.exists x.((P(x) & Q(x)) & all y.(P(y) -> (x = y)))>] -> 'the' | 'The'\n",
            "N[NUM=sg,SEM=<\\x.kitten(x)>] -> 'kitten'\n",
            "N[NUM=sg,SEM=<\\x.mouse(x)>] -> 'mouse'\n",
            "N[NUM=sg,SEM=<\\x.jar(x)>] -> 'jar'\n",
            "N[NUM=sg,SEM=<\\x.flour(x)>] -> 'flour'\n",
            "Adj[SEM=<\\P x.(white(x) & P(x))>] -> 'white'\n",
            "Adj[SEM=<\\P x.(black(x) & P(x))>] -> 'black'\n",
            "TV[SEM=<\\X y.X(\\x.see(y,x))>,tns=past] -> 'saw'\n",
            "TV[SEM=<\\X y.X(\\x.rush_after(y,x))>,tns=past] -> 'rushed' 'after'\n",
            "TV[SEM=<\\X y.X(\\x.follow(y,x))>,tns=past] -> 'followed'\n",
            "TV[SEM=<\\X y.X(\\x.jump_into(y,x))>,tns=past] -> 'jumped' 'into'\n",
            "IV[NUM=sg,SEM=<\\x.run_away(x)>,tns=past] -> 'ran' 'away'\n",
            "TV[SEM=<\\X y.X(\\x.get_out_of(y,x))>,tns=past] -> 'got' 'out' 'of'\n"
          ],
          "name": "stdout"
        }
      ]
    },
    {
      "cell_type": "code",
      "metadata": {
        "colab": {
          "base_uri": "https://localhost:8080/"
        },
        "id": "MLHHGG4P8qUl",
        "outputId": "1165963f-97ac-4c98-e1d2-4dd096d512b4"
      },
      "source": [
        "from nltk import load_parser\n",
        "sentence = 'The kitten followed the mouse'\n",
        "parser = load_parser('grammer1.fcfg',trace=0)\n",
        "tokens = sentence.split()\n",
        "for tree in parser.parse(tokens):\n",
        "    print(tree)"
      ],
      "execution_count": 20,
      "outputs": [
        {
          "output_type": "stream",
          "text": [
            "(S[SEM=<exists x.(kitten(x) & exists z2.(mouse(z2) & follow(x,z2) & all z1.(mouse(z1) -> (z2 = z1))) & all y.(kitten(y) -> (x = y)))>]\n",
            "  (NP[NUM='sg', SEM=<\\Q.exists x.(kitten(x) & Q(x) & all y.(kitten(y) -> (x = y)))>]\n",
            "    (Det[NUM='sg', SEM=<\\P Q.exists x.(P(x) & Q(x) & all y.(P(y) -> (x = y)))>]\n",
            "      The)\n",
            "    (Nom[NUM='sg', SEM=<\\x.kitten(x)>]\n",
            "      (N[NUM='sg', SEM=<\\x.kitten(x)>] kitten)))\n",
            "  (VP[NUM=?n, SEM=<\\y.exists x.(mouse(x) & follow(y,x) & all z1.(mouse(z1) -> (x = z1)))>]\n",
            "    (TV[SEM=<\\X y.X(\\x.follow(y,x))>, tns='past'] followed)\n",
            "    (NP[NUM='sg', SEM=<\\Q.exists x.(mouse(x) & Q(x) & all y.(mouse(y) -> (x = y)))>]\n",
            "      (Det[NUM='sg', SEM=<\\P Q.exists x.(P(x) & Q(x) & all y.(P(y) -> (x = y)))>]\n",
            "        the)\n",
            "      (Nom[NUM='sg', SEM=<\\x.mouse(x)>]\n",
            "        (N[NUM='sg', SEM=<\\x.mouse(x)>] mouse)))))\n"
          ],
          "name": "stdout"
        }
      ]
    },
    {
      "cell_type": "code",
      "metadata": {
        "colab": {
          "base_uri": "https://localhost:8080/"
        },
        "id": "IMgWyvaA5brd",
        "outputId": "c9d14f24-ef76-481c-eaed-b2a4b5a9bf8e"
      },
      "source": [
        "sent1 = 'A black kitten saw a mouse'\n",
        "sent2 =  'The kitten rushed after the mouse'\n",
        "sent3 = 'The mouse jumped into a jar'\n",
        "sent4 = 'The kitten followed the mouse'\n",
        "sent5 = 'The mouse ran away'\n",
        "sent6 = 'A white kitten got out of the jar'\n",
        "\n",
        "\n",
        "v1 = '''\n",
        "kitten => {k}\n",
        "mouse => {m}\n",
        "black => {k}\n",
        "see => {(k, m)}\n",
        "'''\n",
        "v2 = \"\"\"\n",
        "mouse => {m}\n",
        "kitten => {k}\n",
        "rush_after => {(k, m)}\n",
        "\"\"\"\n",
        "v3 = \"\"\"\n",
        "mouse => {m}\n",
        "jar => {j}\n",
        "jump_into => {(m, j)}\n",
        "\"\"\"\n",
        "v4 = \"\"\"\n",
        "kitten => {k}\n",
        "mouse => {m}\n",
        "follow => {(k, m)}\n",
        "\"\"\"\n",
        "v5 = \"\"\"\n",
        "mouse => {m}\n",
        "run_away => {(m)}\n",
        "\"\"\"\n",
        "v6 = \"\"\"\n",
        "kitten => {k}\n",
        "jar => {j}\n",
        "got_out_of  => {(k, j)}\n",
        "white => {k}\n",
        "\"\"\"\n",
        "sents = [sent1, sent2, sent3, sent4, sent5, sent6 ]\n",
        "vs = [v1, v2, v3, v4, v5, v6]\n",
        "sen_v = zip(sents, vs)\n",
        "for sen, v in sen_v :\n",
        "  print(\"                                     \")\n",
        "  print(\" **************************The sentenc is*******************      \")\n",
        "  print(\"--------\"+sen+\"-----------\")\n",
        "  val = nltk.Valuation.fromstring(v)\n",
        "  g = nltk.Assignment(val.domain)\n",
        "  m = nltk.Model(val.domain, val)\n",
        "  print(nltk.evaluate_sents([sen], 'grammer1.fcfg', m, g))\n",
        "\n"
      ],
      "execution_count": 29,
      "outputs": [
        {
          "output_type": "stream",
          "text": [
            "                                     \n",
            " **************************The sentenc is*******************      \n",
            "--------A black kitten saw a mouse-----------\n",
            "[[(Tree(S[SEM=<exists x.(black(x) & kitten(x) & exists z47.(mouse(z47) & see(x,z47)))>], [Tree(NP[NUM='sg', SEM=<\\Q.exists x.(black(x) & kitten(x) & Q(x))>], [Tree(Det[NUM='sg', SEM=<\\P Q.exists x.(P(x) & Q(x))>], ['A']), Tree(Nom[NUM='sg', SEM=<\\x.(black(x) & kitten(x))>], [Tree(Adj[SEM=<\\P x.(black(x) & P(x))>], ['black']), Tree(N[NUM='sg', SEM=<\\x.kitten(x)>], ['kitten'])])]), Tree(VP[NUM=?n, SEM=<\\y.exists x.(mouse(x) & see(y,x))>], [Tree(TV[SEM=<\\X y.X(\\x.see(y,x))>, tns='past'], ['saw']), Tree(NP[NUM='sg', SEM=<\\Q.exists x.(mouse(x) & Q(x))>], [Tree(Det[NUM='sg', SEM=<\\P Q.exists x.(P(x) & Q(x))>], ['a']), Tree(Nom[NUM='sg', SEM=<\\x.mouse(x)>], [Tree(N[NUM='sg', SEM=<\\x.mouse(x)>], ['mouse'])])])])]), <ExistsExpression exists x.(black(x) & kitten(x) & exists z47.(mouse(z47) & see(x,z47)))>, True)]]\n",
            "                                     \n",
            " **************************The sentenc is*******************      \n",
            "--------The kitten rushed after the mouse-----------\n",
            "[[(Tree(S[SEM=<exists x.(kitten(x) & exists z49.(mouse(z49) & rush_after(x,z49) & all z48.(mouse(z48) -> (z49 = z48))) & all y.(kitten(y) -> (x = y)))>], [Tree(NP[NUM='sg', SEM=<\\Q.exists x.(kitten(x) & Q(x) & all y.(kitten(y) -> (x = y)))>], [Tree(Det[NUM='sg', SEM=<\\P Q.exists x.(P(x) & Q(x) & all y.(P(y) -> (x = y)))>], ['The']), Tree(Nom[NUM='sg', SEM=<\\x.kitten(x)>], [Tree(N[NUM='sg', SEM=<\\x.kitten(x)>], ['kitten'])])]), Tree(VP[NUM=?n, SEM=<\\y.exists x.(mouse(x) & rush_after(y,x) & all z48.(mouse(z48) -> (x = z48)))>], [Tree(TV[SEM=<\\X y.X(\\x.rush_after(y,x))>, tns='past'], ['rushed', 'after']), Tree(NP[NUM='sg', SEM=<\\Q.exists x.(mouse(x) & Q(x) & all y.(mouse(y) -> (x = y)))>], [Tree(Det[NUM='sg', SEM=<\\P Q.exists x.(P(x) & Q(x) & all y.(P(y) -> (x = y)))>], ['the']), Tree(Nom[NUM='sg', SEM=<\\x.mouse(x)>], [Tree(N[NUM='sg', SEM=<\\x.mouse(x)>], ['mouse'])])])])]), <ExistsExpression exists x.(kitten(x) & exists z49.(mouse(z49) & rush_after(x,z49) & all z48.(mouse(z48) -> (z49 = z48))) & all y.(kitten(y) -> (x = y)))>, True)]]\n",
            "                                     \n",
            " **************************The sentenc is*******************      \n",
            "--------The mouse jumped into a jar-----------\n",
            "[[(Tree(S[SEM=<exists x.(mouse(x) & exists z50.(jar(z50) & jump_into(x,z50)) & all y.(mouse(y) -> (x = y)))>], [Tree(NP[NUM='sg', SEM=<\\Q.exists x.(mouse(x) & Q(x) & all y.(mouse(y) -> (x = y)))>], [Tree(Det[NUM='sg', SEM=<\\P Q.exists x.(P(x) & Q(x) & all y.(P(y) -> (x = y)))>], ['The']), Tree(Nom[NUM='sg', SEM=<\\x.mouse(x)>], [Tree(N[NUM='sg', SEM=<\\x.mouse(x)>], ['mouse'])])]), Tree(VP[NUM=?n, SEM=<\\y.exists x.(jar(x) & jump_into(y,x))>], [Tree(TV[SEM=<\\X y.X(\\x.jump_into(y,x))>, tns='past'], ['jumped', 'into']), Tree(NP[NUM='sg', SEM=<\\Q.exists x.(jar(x) & Q(x))>], [Tree(Det[NUM='sg', SEM=<\\P Q.exists x.(P(x) & Q(x))>], ['a']), Tree(Nom[NUM='sg', SEM=<\\x.jar(x)>], [Tree(N[NUM='sg', SEM=<\\x.jar(x)>], ['jar'])])])])]), <ExistsExpression exists x.(mouse(x) & exists z50.(jar(z50) & jump_into(x,z50)) & all y.(mouse(y) -> (x = y)))>, True)]]\n",
            "                                     \n",
            " **************************The sentenc is*******************      \n",
            "--------The kitten followed the mouse-----------\n",
            "[[(Tree(S[SEM=<exists x.(kitten(x) & exists z52.(mouse(z52) & follow(x,z52) & all z51.(mouse(z51) -> (z52 = z51))) & all y.(kitten(y) -> (x = y)))>], [Tree(NP[NUM='sg', SEM=<\\Q.exists x.(kitten(x) & Q(x) & all y.(kitten(y) -> (x = y)))>], [Tree(Det[NUM='sg', SEM=<\\P Q.exists x.(P(x) & Q(x) & all y.(P(y) -> (x = y)))>], ['The']), Tree(Nom[NUM='sg', SEM=<\\x.kitten(x)>], [Tree(N[NUM='sg', SEM=<\\x.kitten(x)>], ['kitten'])])]), Tree(VP[NUM=?n, SEM=<\\y.exists x.(mouse(x) & follow(y,x) & all z51.(mouse(z51) -> (x = z51)))>], [Tree(TV[SEM=<\\X y.X(\\x.follow(y,x))>, tns='past'], ['followed']), Tree(NP[NUM='sg', SEM=<\\Q.exists x.(mouse(x) & Q(x) & all y.(mouse(y) -> (x = y)))>], [Tree(Det[NUM='sg', SEM=<\\P Q.exists x.(P(x) & Q(x) & all y.(P(y) -> (x = y)))>], ['the']), Tree(Nom[NUM='sg', SEM=<\\x.mouse(x)>], [Tree(N[NUM='sg', SEM=<\\x.mouse(x)>], ['mouse'])])])])]), <ExistsExpression exists x.(kitten(x) & exists z52.(mouse(z52) & follow(x,z52) & all z51.(mouse(z51) -> (z52 = z51))) & all y.(kitten(y) -> (x = y)))>, True)]]\n",
            "                                     \n",
            " **************************The sentenc is*******************      \n",
            "--------The mouse ran away-----------\n",
            "[[(Tree(S[SEM=<exists x.(mouse(x) & run_away(x) & all y.(mouse(y) -> (x = y)))>], [Tree(NP[NUM='sg', SEM=<\\Q.exists x.(mouse(x) & Q(x) & all y.(mouse(y) -> (x = y)))>], [Tree(Det[NUM='sg', SEM=<\\P Q.exists x.(P(x) & Q(x) & all y.(P(y) -> (x = y)))>], ['The']), Tree(Nom[NUM='sg', SEM=<\\x.mouse(x)>], [Tree(N[NUM='sg', SEM=<\\x.mouse(x)>], ['mouse'])])]), Tree(VP[NUM='sg', SEM=<\\x.run_away(x)>], [Tree(IV[NUM='sg', SEM=<\\x.run_away(x)>, tns='past'], ['ran', 'away'])])]), <ExistsExpression exists x.(mouse(x) & run_away(x) & all y.(mouse(y) -> (x = y)))>, True)]]\n",
            "                                     \n",
            " **************************The sentenc is*******************      \n",
            "--------A white kitten got out of the jar-----------\n",
            "[[(Tree(S[SEM=<exists x.(white(x) & kitten(x) & exists z55.(jar(z55) & get_out_of(x,z55) & all z53.(jar(z53) -> (z55 = z53))))>], [Tree(NP[NUM='sg', SEM=<\\Q.exists x.(white(x) & kitten(x) & Q(x))>], [Tree(Det[NUM='sg', SEM=<\\P Q.exists x.(P(x) & Q(x))>], ['A']), Tree(Nom[NUM='sg', SEM=<\\x.(white(x) & kitten(x))>], [Tree(Adj[SEM=<\\P x.(white(x) & P(x))>], ['white']), Tree(N[NUM='sg', SEM=<\\x.kitten(x)>], ['kitten'])])]), Tree(VP[NUM=?n, SEM=<\\y.exists x.(jar(x) & get_out_of(y,x) & all z53.(jar(z53) -> (x = z53)))>], [Tree(TV[SEM=<\\X y.X(\\x.get_out_of(y,x))>, tns='past'], ['got', 'out', 'of']), Tree(NP[NUM='sg', SEM=<\\Q.exists x.(jar(x) & Q(x) & all y.(jar(y) -> (x = y)))>], [Tree(Det[NUM='sg', SEM=<\\P Q.exists x.(P(x) & Q(x) & all y.(P(y) -> (x = y)))>], ['the']), Tree(Nom[NUM='sg', SEM=<\\x.jar(x)>], [Tree(N[NUM='sg', SEM=<\\x.jar(x)>], ['jar'])])])])]), <ExistsExpression exists x.(white(x) & kitten(x) & exists z55.(jar(z55) & get_out_of(x,z55) & all z53.(jar(z53) -> (z55 = z53))))>, 'Undefined')]]\n"
          ],
          "name": "stdout"
        }
      ]
    },
    {
      "cell_type": "code",
      "metadata": {
        "colab": {
          "base_uri": "https://localhost:8080/"
        },
        "id": "4unEjCLdyDi6",
        "outputId": "2698e92c-18d8-4d04-8792-c5677a777d9b"
      },
      "source": [
        "from nltk import load_parser\n",
        "for sen in sents :\n",
        "  print(\" ************************The sentenc is *******************   \")\n",
        "  print(\"------------------\"+sen+\"-----------------\")\n",
        "  parser = load_parser('grammer1.fcfg',trace=0)\n",
        "  tokens = sen.split()\n",
        "  for tree in parser.parse(tokens):\n",
        "    print(tree)"
      ],
      "execution_count": 22,
      "outputs": [
        {
          "output_type": "stream",
          "text": [
            " ************************The sentenc is *******************   \n",
            "------------------A black kitten saw a mouse-----------------\n",
            "(S[SEM=<exists x.(black(x) & kitten(x) & exists z11.(mouse(z11) & see(x,z11)))>]\n",
            "  (NP[NUM='sg', SEM=<\\Q.exists x.(black(x) & kitten(x) & Q(x))>]\n",
            "    (Det[NUM='sg', SEM=<\\P Q.exists x.(P(x) & Q(x))>] A)\n",
            "    (Nom[NUM='sg', SEM=<\\x.(black(x) & kitten(x))>]\n",
            "      (Adj[SEM=<\\P x.(black(x) & P(x))>] black)\n",
            "      (N[NUM='sg', SEM=<\\x.kitten(x)>] kitten)))\n",
            "  (VP[NUM=?n, SEM=<\\y.exists x.(mouse(x) & see(y,x))>]\n",
            "    (TV[SEM=<\\X y.X(\\x.see(y,x))>, tns='past'] saw)\n",
            "    (NP[NUM='sg', SEM=<\\Q.exists x.(mouse(x) & Q(x))>]\n",
            "      (Det[NUM='sg', SEM=<\\P Q.exists x.(P(x) & Q(x))>] a)\n",
            "      (Nom[NUM='sg', SEM=<\\x.mouse(x)>]\n",
            "        (N[NUM='sg', SEM=<\\x.mouse(x)>] mouse)))))\n",
            " ************************The sentenc is *******************   \n",
            "------------------The kitten rushed after the mouse-----------------\n",
            "(S[SEM=<exists x.(kitten(x) & exists z13.(mouse(z13) & rush_after(x,z13) & all z12.(mouse(z12) -> (z13 = z12))) & all y.(kitten(y) -> (x = y)))>]\n",
            "  (NP[NUM='sg', SEM=<\\Q.exists x.(kitten(x) & Q(x) & all y.(kitten(y) -> (x = y)))>]\n",
            "    (Det[NUM='sg', SEM=<\\P Q.exists x.(P(x) & Q(x) & all y.(P(y) -> (x = y)))>]\n",
            "      The)\n",
            "    (Nom[NUM='sg', SEM=<\\x.kitten(x)>]\n",
            "      (N[NUM='sg', SEM=<\\x.kitten(x)>] kitten)))\n",
            "  (VP[NUM=?n, SEM=<\\y.exists x.(mouse(x) & rush_after(y,x) & all z12.(mouse(z12) -> (x = z12)))>]\n",
            "    (TV[SEM=<\\X y.X(\\x.rush_after(y,x))>, tns='past'] rushed after)\n",
            "    (NP[NUM='sg', SEM=<\\Q.exists x.(mouse(x) & Q(x) & all y.(mouse(y) -> (x = y)))>]\n",
            "      (Det[NUM='sg', SEM=<\\P Q.exists x.(P(x) & Q(x) & all y.(P(y) -> (x = y)))>]\n",
            "        the)\n",
            "      (Nom[NUM='sg', SEM=<\\x.mouse(x)>]\n",
            "        (N[NUM='sg', SEM=<\\x.mouse(x)>] mouse)))))\n",
            " ************************The sentenc is *******************   \n",
            "------------------The mouse jumped into a jar-----------------\n",
            "(S[SEM=<exists x.(mouse(x) & exists z14.(jar(z14) & jump_into(x,z14)) & all y.(mouse(y) -> (x = y)))>]\n",
            "  (NP[NUM='sg', SEM=<\\Q.exists x.(mouse(x) & Q(x) & all y.(mouse(y) -> (x = y)))>]\n",
            "    (Det[NUM='sg', SEM=<\\P Q.exists x.(P(x) & Q(x) & all y.(P(y) -> (x = y)))>]\n",
            "      The)\n",
            "    (Nom[NUM='sg', SEM=<\\x.mouse(x)>]\n",
            "      (N[NUM='sg', SEM=<\\x.mouse(x)>] mouse)))\n",
            "  (VP[NUM=?n, SEM=<\\y.exists x.(jar(x) & jump_into(y,x))>]\n",
            "    (TV[SEM=<\\X y.X(\\x.jump_into(y,x))>, tns='past'] jumped into)\n",
            "    (NP[NUM='sg', SEM=<\\Q.exists x.(jar(x) & Q(x))>]\n",
            "      (Det[NUM='sg', SEM=<\\P Q.exists x.(P(x) & Q(x))>] a)\n",
            "      (Nom[NUM='sg', SEM=<\\x.jar(x)>]\n",
            "        (N[NUM='sg', SEM=<\\x.jar(x)>] jar)))))\n",
            " ************************The sentenc is *******************   \n",
            "------------------The kitten followed the mouse-----------------\n",
            "(S[SEM=<exists x.(kitten(x) & exists z16.(mouse(z16) & follow(x,z16) & all z15.(mouse(z15) -> (z16 = z15))) & all y.(kitten(y) -> (x = y)))>]\n",
            "  (NP[NUM='sg', SEM=<\\Q.exists x.(kitten(x) & Q(x) & all y.(kitten(y) -> (x = y)))>]\n",
            "    (Det[NUM='sg', SEM=<\\P Q.exists x.(P(x) & Q(x) & all y.(P(y) -> (x = y)))>]\n",
            "      The)\n",
            "    (Nom[NUM='sg', SEM=<\\x.kitten(x)>]\n",
            "      (N[NUM='sg', SEM=<\\x.kitten(x)>] kitten)))\n",
            "  (VP[NUM=?n, SEM=<\\y.exists x.(mouse(x) & follow(y,x) & all z15.(mouse(z15) -> (x = z15)))>]\n",
            "    (TV[SEM=<\\X y.X(\\x.follow(y,x))>, tns='past'] followed)\n",
            "    (NP[NUM='sg', SEM=<\\Q.exists x.(mouse(x) & Q(x) & all y.(mouse(y) -> (x = y)))>]\n",
            "      (Det[NUM='sg', SEM=<\\P Q.exists x.(P(x) & Q(x) & all y.(P(y) -> (x = y)))>]\n",
            "        the)\n",
            "      (Nom[NUM='sg', SEM=<\\x.mouse(x)>]\n",
            "        (N[NUM='sg', SEM=<\\x.mouse(x)>] mouse)))))\n",
            " ************************The sentenc is *******************   \n",
            "------------------The mouse ran away-----------------\n",
            "(S[SEM=<exists x.(mouse(x) & run_away(x) & all y.(mouse(y) -> (x = y)))>]\n",
            "  (NP[NUM='sg', SEM=<\\Q.exists x.(mouse(x) & Q(x) & all y.(mouse(y) -> (x = y)))>]\n",
            "    (Det[NUM='sg', SEM=<\\P Q.exists x.(P(x) & Q(x) & all y.(P(y) -> (x = y)))>]\n",
            "      The)\n",
            "    (Nom[NUM='sg', SEM=<\\x.mouse(x)>]\n",
            "      (N[NUM='sg', SEM=<\\x.mouse(x)>] mouse)))\n",
            "  (VP[NUM='sg', SEM=<\\x.run_away(x)>]\n",
            "    (IV[NUM='sg', SEM=<\\x.run_away(x)>, tns='past'] ran away)))\n",
            " ************************The sentenc is *******************   \n",
            "------------------A white kitten got out of the jar-----------------\n",
            "(S[SEM=<exists x.(white(x) & kitten(x) & exists z18.(jar(z18) & get_out_of(x,z18) & all z17.(jar(z17) -> (z18 = z17))))>]\n",
            "  (NP[NUM='sg', SEM=<\\Q.exists x.(white(x) & kitten(x) & Q(x))>]\n",
            "    (Det[NUM='sg', SEM=<\\P Q.exists x.(P(x) & Q(x))>] A)\n",
            "    (Nom[NUM='sg', SEM=<\\x.(white(x) & kitten(x))>]\n",
            "      (Adj[SEM=<\\P x.(white(x) & P(x))>] white)\n",
            "      (N[NUM='sg', SEM=<\\x.kitten(x)>] kitten)))\n",
            "  (VP[NUM=?n, SEM=<\\y.exists x.(jar(x) & get_out_of(y,x) & all z17.(jar(z17) -> (x = z17)))>]\n",
            "    (TV[SEM=<\\X y.X(\\x.get_out_of(y,x))>, tns='past'] got out of)\n",
            "    (NP[NUM='sg', SEM=<\\Q.exists x.(jar(x) & Q(x) & all y.(jar(y) -> (x = y)))>]\n",
            "      (Det[NUM='sg', SEM=<\\P Q.exists x.(P(x) & Q(x) & all y.(P(y) -> (x = y)))>]\n",
            "        the)\n",
            "      (Nom[NUM='sg', SEM=<\\x.jar(x)>]\n",
            "        (N[NUM='sg', SEM=<\\x.jar(x)>] jar)))))\n"
          ],
          "name": "stdout"
        }
      ]
    },
    {
      "cell_type": "markdown",
      "metadata": {
        "id": "1mK2Mq0fEhD2"
      },
      "source": [
        "#Task 4"
      ]
    },
    {
      "cell_type": "code",
      "metadata": {
        "colab": {
          "base_uri": "https://localhost:8080/"
        },
        "id": "gUin6t1V_SpX",
        "outputId": "74fad5e1-cb3d-479f-f714-e004728a0e83"
      },
      "source": [
        "nltk.data.show_cfg('DRS.fcfg')"
      ],
      "execution_count": 23,
      "outputs": [
        {
          "output_type": "stream",
          "text": [
            "% start S\n",
            "# Grammar Rules\n",
            "S[SEM = <app(?subj,?vp)>] -> NP[NUM=?n,SEM=?subj] VP[NUM=?n,SEM=?vp]\n",
            "NP[NUM=?n,SEM=<app(?det,?nom)> ] -> Det[NUM=?n,SEM=?det]  Nom[NUM=?n,SEM=?nom]\n",
            "NP[LOC=?l,NUM=?n,SEM=?np] -> PropN[LOC=?l,NUM=?n,SEM=?np]\n",
            "Nom[NUM=?n,SEM=?nom] -> N[NUM=?n,SEM=?nom]\n",
            "Nom[NUM=?n,SEM=<app(?pp,?nom)>] -> N[NUM=?n,SEM=?nom] PP[SEM=?pp]\n",
            "Nom[NUM=?n,SEM=<app(?adj,?nom)>] -> Adj[SEM=?adj] N[NUM=?n,SEM=?nom]\n",
            "VP[NUM=?n,SEM=?v] -> IV[NUM=?n,SEM=?v]\n",
            "VP[NUM=?n,SEM=<app(?v,?obj)>] -> TV[NUM=?n,SEM=?v] NP[SEM=?obj]\n",
            "# Lexical Rules\n",
            "Det[NUM=sg,SEM=<\\P Q.((DRS([x],[])+P(x))+Q(x))>] -> 'a' | 'A'\n",
            "Det[NUM=sg,SEM=<\\P Q.((DRS([x],[])+P(x))+Q(x))>] -> 'the' | 'The'\n",
            "Adj[SEM=<\\P x.(DRS([],[black(x)]) + P(x))>] -> 'black'\n",
            "Adj[SEM=<\\P x.(DRS([],[white(x)]) + P(x))>] -> 'white'\n",
            "N[NUM=sg,SEM=<\\x.DRS([],[kitten(x)])>] -> 'kitten'\n",
            "N[NUM=sg,SEM=<\\x.DRS([],[mouse(x)])>] -> 'mouse' \n",
            "N[NUM=sg,SEM=<\\x.DRS([],[jar(x)])>] -> 'jar'\n",
            "IV[NUM=sg,SEM=<\\x.DRS([],[run_away(x)])>,tns=past] -> 'ran' 'away'\n",
            "TV[SEM=<\\X x.X(\\y.DRS([],[rush_after(x,y)]))>,tns=past] -> 'rushed' 'after'\n",
            "TV[SEM=<\\X x.X(\\y.DRS([],[jump_into(x,y)]))>,tns=past] -> 'jumped' 'into'\n",
            "TV[SEM=<\\X x.X(\\y.DRS([],[get_out_of(x,y)]))>,tns=past] -> 'got' 'out' 'of'\n",
            "TV[SEM=<\\X x.X(\\y.DRS([],[see(x,y)]))>,tns=past] -> 'saw'\n",
            "TV[SEM=<\\X x.X(\\y.DRS([],[follow(x,y)]))>,tns=past] -> 'followed'\n"
          ],
          "name": "stdout"
        }
      ]
    },
    {
      "cell_type": "code",
      "metadata": {
        "colab": {
          "base_uri": "https://localhost:8080/"
        },
        "id": "CRyA8hP8EjvZ",
        "outputId": "e64453db-18ac-4ef1-b3c0-dbe568b4e40b"
      },
      "source": [
        "from nltk import load_parser\n",
        "drs_exp = []\n",
        "parser = load_parser('DRS.fcfg', logic_parser=nltk.sem.drt.DrtParser())\n",
        "for sen in sents:\n",
        "  print(\"                             \")\n",
        "  print(\" ************************The sentenc is *******************   \")\n",
        "  print(\"------------------\"+sen+\"-----------------\")\n",
        "  trees = list(parser.parse(sen.split()))\n",
        "  drs_exp.append(trees[0].label()['SEM'].simplify())\n",
        "  print(trees[0].label()['SEM'].simplify())"
      ],
      "execution_count": 26,
      "outputs": [
        {
          "output_type": "stream",
          "text": [
            "                             \n",
            " ************************The sentenc is *******************   \n",
            "------------------A black kitten saw a mouse-----------------\n",
            "([x,z38],[black(x), kitten(x), mouse(z38), see(x,z38)])\n",
            "                             \n",
            " ************************The sentenc is *******************   \n",
            "------------------The kitten rushed after the mouse-----------------\n",
            "([x,z40],[kitten(x), mouse(z40), rush_after(x,z40)])\n",
            "                             \n",
            " ************************The sentenc is *******************   \n",
            "------------------The mouse jumped into a jar-----------------\n",
            "([x,z42],[mouse(x), jar(z42), jump_into(x,z42)])\n",
            "                             \n",
            " ************************The sentenc is *******************   \n",
            "------------------The kitten followed the mouse-----------------\n",
            "([x,z44],[kitten(x), mouse(z44), follow(x,z44)])\n",
            "                             \n",
            " ************************The sentenc is *******************   \n",
            "------------------The mouse ran away-----------------\n",
            "([x],[mouse(x), run_away(x)])\n",
            "                             \n",
            " ************************The sentenc is *******************   \n",
            "------------------A white kitten got out of the jar-----------------\n",
            "([x,z46],[white(x), kitten(x), jar(z46), get_out_of(x,z46)])\n"
          ],
          "name": "stdout"
        }
      ]
    },
    {
      "cell_type": "code",
      "metadata": {
        "colab": {
          "base_uri": "https://localhost:8080/"
        },
        "id": "bXshaWt7AiZs",
        "outputId": "33ca5d95-99d8-488b-8605-37fa90bfa790"
      },
      "source": [
        "drs_exp"
      ],
      "execution_count": 27,
      "outputs": [
        {
          "output_type": "execute_result",
          "data": {
            "text/plain": [
              "[<DRS ([x,z38],[black(x), kitten(x), mouse(z38), see(x,z38)])>,\n",
              " <DRS ([x,z40],[kitten(x), mouse(z40), rush_after(x,z40)])>,\n",
              " <DRS ([x,z42],[mouse(x), jar(z42), jump_into(x,z42)])>,\n",
              " <DRS ([x,z44],[kitten(x), mouse(z44), follow(x,z44)])>,\n",
              " <DRS ([x],[mouse(x), run_away(x)])>,\n",
              " <DRS ([x,z46],[white(x), kitten(x), jar(z46), get_out_of(x,z46)])>]"
            ]
          },
          "metadata": {
            "tags": []
          },
          "execution_count": 27
        }
      ]
    },
    {
      "cell_type": "code",
      "metadata": {
        "colab": {
          "base_uri": "https://localhost:8080/"
        },
        "id": "5FrIGciND7pr",
        "outputId": "a7a48691-3e63-4393-f641-c24412fe51a0"
      },
      "source": [
        "for drs in drs_exp:\n",
        "  print(drs.fol())"
      ],
      "execution_count": 28,
      "outputs": [
        {
          "output_type": "stream",
          "text": [
            "exists x z38.(black(x) & kitten(x) & mouse(z38) & see(x,z38))\n",
            "exists x z40.(kitten(x) & mouse(z40) & rush_after(x,z40))\n",
            "exists x z42.(mouse(x) & jar(z42) & jump_into(x,z42))\n",
            "exists x z44.(kitten(x) & mouse(z44) & follow(x,z44))\n",
            "exists x.(mouse(x) & run_away(x))\n",
            "exists x z46.(white(x) & kitten(x) & jar(z46) & get_out_of(x,z46))\n"
          ],
          "name": "stdout"
        }
      ]
    },
    {
      "cell_type": "markdown",
      "metadata": {
        "id": "PRBltAXFMswV"
      },
      "source": [
        "I tried a lot to apply nltk.DiscourseTester but gives me error related with environment variable\n",
        "I do not know if I am right but I wanted to apply it to check true"
      ]
    }
  ]
}